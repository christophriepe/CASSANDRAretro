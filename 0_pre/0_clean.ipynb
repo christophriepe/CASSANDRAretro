{
 "cells": [
  {
   "cell_type": "markdown",
   "metadata": {},
   "source": [
    "# Import"
   ]
  },
  {
   "cell_type": "code",
   "execution_count": null,
   "metadata": {},
   "outputs": [],
   "source": [
    "import pandas as pd\n",
    "import numpy as np"
   ]
  },
  {
   "cell_type": "markdown",
   "metadata": {},
   "source": [
    "# Setup"
   ]
  },
  {
   "cell_type": "code",
   "execution_count": null,
   "metadata": {},
   "outputs": [],
   "source": [
    "data = pd.DataFrame()"
   ]
  },
  {
   "cell_type": "code",
   "execution_count": null,
   "metadata": {},
   "outputs": [],
   "source": [
    "raw = pd.read_csv('1_raw/1_data.csv')\n",
    "raw"
   ]
  },
  {
   "cell_type": "code",
   "execution_count": null,
   "metadata": {},
   "outputs": [],
   "source": [
    "system_data = pd.read_csv('1_raw/2_systems.csv')\n",
    "\n",
    "for index, row in raw.iterrows():\n",
    "    case = row['case']\n",
    "\n",
    "    systems: str = ''\n",
    "    system_count = np.NaN\n",
    "    if len(system_data[system_data['case'] == case]) > 0:\n",
    "        systems = system_data[system_data['case'] == case].iloc[0]['systems']\n",
    "        system_count = systems.count(',') + 1\n",
    "\n",
    "    raw.at[index, 'surgery_system_count'] = system_count\n",
    "\n",
    "    raw.at[index, 'surgery_system_esophagus'] = 1 if 'Esophagus' in systems else 0\n",
    "    raw.at[index, 'surgery_system_stomach'] = 1 if 'Magen' in systems else 0\n",
    "    raw.at[index, 'surgery_system_intestine'] = 1 if 'Kolorektal' in systems else 0\n",
    "    raw.at[index, 'surgery_system_liver'] = 1 if 'Leber' in systems else 0\n",
    "    raw.at[index, 'surgery_system_pancreas'] = 1 if 'Pankreas' in systems else 0\n",
    "\n",
    "raw"
   ]
  },
  {
   "cell_type": "markdown",
   "metadata": {},
   "source": [
    "# Logic"
   ]
  },
  {
   "cell_type": "code",
   "execution_count": null,
   "metadata": {},
   "outputs": [],
   "source": [
    "def numeric(name: str, raw_name: str, min: float = np.NaN, max: float = np.NaN):\n",
    "    unique = raw[raw_name].unique()\n",
    "    for value in unique:\n",
    "        try: pd.to_numeric(value)\n",
    "        except: unique = unique[unique != value]\n",
    "    print('Non Numeric unique Values:', raw[raw_name][~raw[raw_name].isin(unique)].unique())\n",
    "\n",
    "    raw[raw_name] = pd.to_numeric(raw[raw_name], errors='coerce')\n",
    "    \n",
    "    if not np.isnan(min): \n",
    "        print('Values smaller than min:', raw[raw_name][raw[raw_name] < min].count())\n",
    "        # raw[raw_name] = raw[raw_name].apply(lambda x: np.NaN if x < min else x)\n",
    "        raw[raw_name] = raw[raw_name].apply(lambda x: np.NaN if x < min else x)\n",
    "    if not np.isnan(max): \n",
    "        print('Values greater than max:', raw[raw_name][raw[raw_name] > max].count())\n",
    "        # raw[raw_name] = raw[raw_name].apply(lambda x: np.NaN if x > max else x)\n",
    "        raw[raw_name] = raw[raw_name].apply(lambda x: np.NaN if x > max else x)\n",
    "\n",
    "    o = raw[raw_name]\n",
    "    o_data = raw[raw['center'] == 0][raw_name]\n",
    "    o_validation = raw[raw['center'] == 1][raw_name]\n",
    "    print(f'All: {round(o.count() / len(o) * 100, 2)} % (Mean: {round(o.mean(), 2)}, Std: { round(o.std(), 2) }, Min: { round(o.min(), 2) }, Max: { round(o.max(), 2) })')\n",
    "    print(f'Data: {round(o_data.count() / len(o_data) * 100, 2)} % (Mean: {round(o_data.mean(), 2)}, Std: { round(o_data.std(), 2) }, Min: { round(o_data.min(), 2) }, Max: { round(o_data.max(), 2) })')\n",
    "    print(f'Validation: {round(o_validation.count() / len(o_validation) * 100, 2)} % (Mean: {round(o_validation.mean(), 2)}, Std: { round(o_validation.std(), 2) }, Min: { round(o_validation.min(), 2) }, Max: { round(o_validation.max(), 2) })')\n",
    "\n",
    "    data[name] = o.astype(float)"
   ]
  },
  {
   "cell_type": "code",
   "execution_count": null,
   "metadata": {},
   "outputs": [],
   "source": [
    "def categorial_numeric_encoding(name: str, raw_name: str, not_supported: list = []):\n",
    "    raw[raw_name].replace(not_supported, np.NaN, inplace=True)\n",
    "\n",
    "    unique = raw[raw_name].unique()\n",
    "    unique = unique[~pd.isna(unique)]\n",
    "\n",
    "    try: unique = sorted(unique)\n",
    "    except TypeError: pass\n",
    "\n",
    "    for i, value in enumerate(unique):\n",
    "        raw[raw_name] = raw[raw_name].apply(lambda x: i if x == value else x)\n",
    "        print(i, value, round((raw[raw_name] == i).sum() / len(raw[raw_name]) * 100, 2), '%')\n",
    "\n",
    "    o = raw[raw_name]\n",
    "    o_data = raw[raw['center'] == 0][raw_name]\n",
    "    o_validation = raw[raw['center'] == 1][raw_name]\n",
    "    print(f'All: {round(o.count() / len(o) * 100, 2)} % (Mean: {round(o.mean(), 2)}, Std: { round(o.std(), 2) }, Min: { round(o.min(), 2) }, Max: { round(o.max(), 2) })')\n",
    "    print(f'Data: {round(o_data.count() / len(o_data) * 100, 2)} % (Mean: {round(o_data.mean(), 2)}, Std: { round(o_data.std(), 2) }, Min: { round(o_data.min(), 2) }, Max: { round(o_data.max(), 2) })')\n",
    "    print(f'Validation: {round(o_validation.count() / len(o_validation) * 100, 2)} % (Mean: {round(o_validation.mean(), 2)}, Std: { round(o_validation.std(), 2) }, Min: { round(o_validation.min(), 2) }, Max: { round(o_validation.max(), 2) })')\n",
    "    \n",
    "    data[name] = o.astype('Int64')"
   ]
  },
  {
   "cell_type": "code",
   "execution_count": null,
   "metadata": {},
   "outputs": [],
   "source": [
    "def categorial_one_hot_encoding(name: str, raw_name: str, mapping: dict = {}, not_supported: list = []):\n",
    "    raw[raw_name].replace(mapping, inplace=True)\n",
    "    raw[raw_name].replace(not_supported, np.NaN, inplace=True)\n",
    "\n",
    "    unique = raw[raw_name].unique()\n",
    "    unique = unique[~pd.isna(unique)]\n",
    "\n",
    "    try: unique = sorted(unique)\n",
    "    except TypeError: pass\n",
    "    \n",
    "    for value in unique:\n",
    "        print(value, round((raw[raw_name] == value).sum() / len(raw[raw_name]) * 100, 2), '%')\n",
    "    \n",
    "    o = raw[raw_name]\n",
    "    o_data = raw[raw['center'] == 0][raw_name]\n",
    "    o_validation = raw[raw['center'] == 1][raw_name]\n",
    "    print(f'All: {round(o.count() / len(o) * 100, 2)} %')\n",
    "    print(f'Data: {round(o_data.count() / len(o_data) * 100, 2)} %')\n",
    "    print(f'Validation: {round(o_validation.count() / len(o_validation) * 100, 2)} %')\n",
    "    \n",
    "    data[name] = o.astype(str)"
   ]
  },
  {
   "cell_type": "code",
   "execution_count": null,
   "metadata": {},
   "outputs": [],
   "source": [
    "def timestamp(name: str, raw_name: str):\n",
    "     raw[raw_name]= pd.to_datetime(raw[raw_name], errors='coerce')\n",
    "\n",
    "     o = raw[raw_name]\n",
    "     o_data = raw[raw['center'] == 0][raw_name]\n",
    "     o_validation = raw[raw['center'] == 1][raw_name]\n",
    "     print(f'All: {round(o.count() / len(o) * 100, 2)} % (Min: { o.min() }, Max: { o.max() })')\n",
    "     print(f'Data: {round(o_data.count() / len(o_data) * 100, 2)} % (Min: { o_data.min() }, Max: { o_data.max() })')\n",
    "     print(f'Validation: {round(o_validation.count() / len(o_validation) * 100, 2)} % (Min: { o_validation.min() }, Max: { o_validation.max() })')\n",
    "\n",
    "     data[name] = o"
   ]
  },
  {
   "cell_type": "markdown",
   "metadata": {},
   "source": [
    "# Populate"
   ]
  },
  {
   "cell_type": "code",
   "execution_count": null,
   "metadata": {},
   "outputs": [],
   "source": [
    "# Identifier: Cohort\n",
    "raw['center'].replace({ 'CVK': 0, 'CCM': 0, 'CBF': 1 }, inplace=True)\n",
    "categorial_numeric_encoding('identifier_cohort', raw_name='center')"
   ]
  },
  {
   "cell_type": "markdown",
   "metadata": {},
   "source": [
    "## Meta"
   ]
  },
  {
   "cell_type": "code",
   "execution_count": null,
   "metadata": {},
   "outputs": [],
   "source": [
    "# Case\n",
    "numeric('meta_case', raw_name='case', min=0)"
   ]
  },
  {
   "cell_type": "code",
   "execution_count": null,
   "metadata": {},
   "outputs": [],
   "source": [
    "# Patient\n",
    "numeric('meta_patient', raw_name='patient', min=0)"
   ]
  },
  {
   "cell_type": "code",
   "execution_count": null,
   "metadata": {},
   "outputs": [],
   "source": [
    "# Incision\n",
    "timestamp('meta_incision', raw_name='op_schnitt')"
   ]
  },
  {
   "cell_type": "code",
   "execution_count": null,
   "metadata": {},
   "outputs": [],
   "source": [
    "# Suture\n",
    "timestamp('meta_suture', raw_name='op_naht')"
   ]
  },
  {
   "cell_type": "code",
   "execution_count": null,
   "metadata": {},
   "outputs": [],
   "source": [
    "# Year\n",
    "raw['meta_year'] = data['meta_incision'].copy().dt.year\n",
    "categorial_numeric_encoding('meta_year', raw_name='meta_year', not_supported=[2023])"
   ]
  },
  {
   "cell_type": "code",
   "execution_count": null,
   "metadata": {},
   "outputs": [],
   "source": [
    "# Meta: System\n",
    "raw['meta_system'] = raw['organ'].replace({ 'Esophagus': 0, 'Gastric': 1, 'Colorectal': 2, 'Small_intestine': 2, 'Liver': 3, 'Pancreas': 4 })\n",
    "categorial_numeric_encoding('meta_system', raw_name='meta_system', not_supported=['Other_organ_system', 'Transplant'])"
   ]
  },
  {
   "cell_type": "code",
   "execution_count": null,
   "metadata": {},
   "outputs": [],
   "source": [
    "# Meta: OPS\n",
    "numeric('meta_ops', raw_name='is_majorop')"
   ]
  },
  {
   "cell_type": "code",
   "execution_count": null,
   "metadata": {},
   "outputs": [],
   "source": [
    "# Meta: Age\n",
    "numeric('meta_age', raw_name='ageatsurgery')"
   ]
  },
  {
   "cell_type": "code",
   "execution_count": null,
   "metadata": {},
   "outputs": [],
   "source": [
    "# Meta: Urgency\n",
    "categorial_numeric_encoding('meta_urgency', raw_name='urgency', not_supported=['keine'])"
   ]
  },
  {
   "cell_type": "code",
   "execution_count": null,
   "metadata": {},
   "outputs": [],
   "source": [
    "# Meta: Resurgery\n",
    "categorial_numeric_encoding('meta_resurgery', raw_name='previous_op')"
   ]
  },
  {
   "cell_type": "markdown",
   "metadata": {},
   "source": [
    "## Feature"
   ]
  },
  {
   "cell_type": "markdown",
   "metadata": {},
   "source": [
    "### General"
   ]
  },
  {
   "cell_type": "code",
   "execution_count": null,
   "metadata": {},
   "outputs": [],
   "source": [
    "# Gender\n",
    "raw['patient_sex'].replace({ 'male': 0, 'female': 1 }, inplace=True)\n",
    "categorial_numeric_encoding('gender', raw_name='patient_sex')"
   ]
  },
  {
   "cell_type": "code",
   "execution_count": null,
   "metadata": {},
   "outputs": [],
   "source": [
    "# Age\n",
    "numeric('age', raw_name='ageatsurgery', min=18, max=120)"
   ]
  },
  {
   "cell_type": "code",
   "execution_count": null,
   "metadata": {},
   "outputs": [],
   "source": [
    "# Height\n",
    "numeric('height', raw_name='height_in_cm', min=100, max=250)"
   ]
  },
  {
   "cell_type": "code",
   "execution_count": null,
   "metadata": {},
   "outputs": [],
   "source": [
    "# Weight\n",
    "numeric('weight', raw_name='pre_op_weight_in_kg', min=25, max=300)"
   ]
  },
  {
   "cell_type": "code",
   "execution_count": null,
   "metadata": {},
   "outputs": [],
   "source": [
    "# BMI\n",
    "numeric('bmi', raw_name='bmi', min=5, max=100)"
   ]
  },
  {
   "cell_type": "code",
   "execution_count": null,
   "metadata": {},
   "outputs": [],
   "source": [
    "# ASA\n",
    "categorial_numeric_encoding('asa', raw_name='asa_classification')"
   ]
  },
  {
   "cell_type": "code",
   "execution_count": null,
   "metadata": {},
   "outputs": [],
   "source": [
    "# ECOG\n",
    "categorial_numeric_encoding('ecog', raw_name='ecog')"
   ]
  },
  {
   "cell_type": "code",
   "execution_count": null,
   "metadata": {},
   "outputs": [],
   "source": [
    "# CCI\n",
    "categorial_numeric_encoding('cci', raw_name='cci')"
   ]
  },
  {
   "cell_type": "markdown",
   "metadata": {},
   "source": [
    "### Condition"
   ]
  },
  {
   "cell_type": "code",
   "execution_count": null,
   "metadata": {},
   "outputs": [],
   "source": [
    "# Myocardial Infarction\n",
    "categorial_numeric_encoding('myocardial_infarction', raw_name='myocardial_infarction')"
   ]
  },
  {
   "cell_type": "code",
   "execution_count": null,
   "metadata": {},
   "outputs": [],
   "source": [
    "# Congestive Heart Failure\n",
    "categorial_numeric_encoding('congestive_heart_failure', raw_name='congestive_heart_failure')"
   ]
  },
  {
   "cell_type": "code",
   "execution_count": null,
   "metadata": {},
   "outputs": [],
   "source": [
    "# Peripheral Vascular Disease\n",
    "categorial_numeric_encoding('peripheral_vascular_disease', raw_name='peripheral_vascular_disease')"
   ]
  },
  {
   "cell_type": "code",
   "execution_count": null,
   "metadata": {},
   "outputs": [],
   "source": [
    "# Cerebrovascular Disease\n",
    "categorial_numeric_encoding('cerebrovascular_disease', raw_name='cerebrovascular_disease')"
   ]
  },
  {
   "cell_type": "code",
   "execution_count": null,
   "metadata": {},
   "outputs": [],
   "source": [
    "# Dementia\n",
    "categorial_numeric_encoding('dementia', raw_name='dementia')"
   ]
  },
  {
   "cell_type": "code",
   "execution_count": null,
   "metadata": {},
   "outputs": [],
   "source": [
    "# Chronic Pulmonary Disease\n",
    "categorial_numeric_encoding('chronic_pulmonary_disease', raw_name='chronic_pulmonary_disease')"
   ]
  },
  {
   "cell_type": "code",
   "execution_count": null,
   "metadata": {},
   "outputs": [],
   "source": [
    "# Rheumatic Disease\n",
    "categorial_numeric_encoding('rheumatic_disease', raw_name='rheumathic_disease')"
   ]
  },
  {
   "cell_type": "code",
   "execution_count": null,
   "metadata": {},
   "outputs": [],
   "source": [
    "# Peptic Ulcer Disease\n",
    "categorial_numeric_encoding('peptic_ulcer_disease', raw_name='peptic_ulcer_disease')"
   ]
  },
  {
   "cell_type": "code",
   "execution_count": null,
   "metadata": {},
   "outputs": [],
   "source": [
    "# Liver Disease (Mild)\n",
    "categorial_numeric_encoding('liver_disease_mild', raw_name='mild_liver_disease')"
   ]
  },
  {
   "cell_type": "code",
   "execution_count": null,
   "metadata": {},
   "outputs": [],
   "source": [
    "# Liver Disease (Moderate to Severe)\n",
    "categorial_numeric_encoding('liver_disease_moderate_to_severe', raw_name='moderate_or_severe_liver_disease')"
   ]
  },
  {
   "cell_type": "code",
   "execution_count": null,
   "metadata": {},
   "outputs": [],
   "source": [
    "# Diabetes (without Chronic Complications)\n",
    "categorial_numeric_encoding('diabetes_without_chronic_complications', raw_name='diabetes_without_chronic_complications')"
   ]
  },
  {
   "cell_type": "code",
   "execution_count": null,
   "metadata": {},
   "outputs": [],
   "source": [
    "# Diabetes (with Chronic Complications)\n",
    "categorial_numeric_encoding('diabetes_with_chronic_complications', raw_name='diabetes_with_chronic_complications')"
   ]
  },
  {
   "cell_type": "code",
   "execution_count": null,
   "metadata": {},
   "outputs": [],
   "source": [
    "# Hemiplegia or Paraplegia\n",
    "categorial_numeric_encoding('hemiplegia_or_paraplegia', raw_name='hemiplegia_or_paraplegia')"
   ]
  },
  {
   "cell_type": "code",
   "execution_count": null,
   "metadata": {},
   "outputs": [],
   "source": [
    "# Renal Disease\n",
    "categorial_numeric_encoding('renal_disease', raw_name='renal_disease')"
   ]
  },
  {
   "cell_type": "code",
   "execution_count": null,
   "metadata": {},
   "outputs": [],
   "source": [
    "# Malignancy\n",
    "categorial_numeric_encoding('malignancy', raw_name='any_malignancy')"
   ]
  },
  {
   "cell_type": "code",
   "execution_count": null,
   "metadata": {},
   "outputs": [],
   "source": [
    "# Metastatic Solid Tumor\n",
    "categorial_numeric_encoding('metastatic_solid_tumor', raw_name='metastatic_solid_tumor')"
   ]
  },
  {
   "cell_type": "code",
   "execution_count": null,
   "metadata": {},
   "outputs": [],
   "source": [
    "# AIDS\n",
    "categorial_numeric_encoding('aids', raw_name='aids_hiv')"
   ]
  },
  {
   "cell_type": "code",
   "execution_count": null,
   "metadata": {},
   "outputs": [],
   "source": [
    "# Cardiac Arythmia\n",
    "categorial_numeric_encoding('cardiac_arythmia', raw_name='cardiac_arrythmias')"
   ]
  },
  {
   "cell_type": "code",
   "execution_count": null,
   "metadata": {},
   "outputs": [],
   "source": [
    "# Valvular Disease\n",
    "categorial_numeric_encoding('valvular_disease', raw_name='valvular_disease')"
   ]
  },
  {
   "cell_type": "code",
   "execution_count": null,
   "metadata": {},
   "outputs": [],
   "source": [
    "# Pulmonary Circulatory Disorder\n",
    "categorial_numeric_encoding('pulmonary_circulatory_disorder', raw_name='pulmonary_circulation_disorder')"
   ]
  },
  {
   "cell_type": "code",
   "execution_count": null,
   "metadata": {},
   "outputs": [],
   "source": [
    "# Arterial Hypertension\n",
    "categorial_numeric_encoding('arterial_hypertension', raw_name='arterial_hypertension')"
   ]
  },
  {
   "cell_type": "code",
   "execution_count": null,
   "metadata": {},
   "outputs": [],
   "source": [
    "# Other Neurological Disorders\n",
    "categorial_numeric_encoding('other_neurological_disorders', raw_name='other_neurological_disorders')"
   ]
  },
  {
   "cell_type": "code",
   "execution_count": null,
   "metadata": {},
   "outputs": [],
   "source": [
    "# Hypothyroidism\n",
    "categorial_numeric_encoding('hypothyroidism', raw_name='hypothyroidism')"
   ]
  },
  {
   "cell_type": "code",
   "execution_count": null,
   "metadata": {},
   "outputs": [],
   "source": [
    "# Coagulopathy\n",
    "categorial_numeric_encoding('coagulopathy', raw_name='coagulopathy')"
   ]
  },
  {
   "cell_type": "code",
   "execution_count": null,
   "metadata": {},
   "outputs": [],
   "source": [
    "# Obesity\n",
    "categorial_numeric_encoding('obesity', raw_name='obesity')"
   ]
  },
  {
   "cell_type": "code",
   "execution_count": null,
   "metadata": {},
   "outputs": [],
   "source": [
    "# Weight Loss\n",
    "categorial_numeric_encoding('weight_loss', raw_name='weight_loss')"
   ]
  },
  {
   "cell_type": "code",
   "execution_count": null,
   "metadata": {},
   "outputs": [],
   "source": [
    "# Fluid and Electrolyte Disorders\n",
    "categorial_numeric_encoding('fluid_and_electrolyte_disorders', raw_name='fluid_and_electrolyte_disorders')"
   ]
  },
  {
   "cell_type": "code",
   "execution_count": null,
   "metadata": {},
   "outputs": [],
   "source": [
    "# Blood Loss Anemia\n",
    "categorial_numeric_encoding('blood_loss_anemia', raw_name='blood_loss_anemia')"
   ]
  },
  {
   "cell_type": "code",
   "execution_count": null,
   "metadata": {},
   "outputs": [],
   "source": [
    "# Deficiency Anemia\n",
    "categorial_numeric_encoding('deficiency_anemia', raw_name='deficiency_anemia')"
   ]
  },
  {
   "cell_type": "code",
   "execution_count": null,
   "metadata": {},
   "outputs": [],
   "source": [
    "# Alcohol Abuse\n",
    "categorial_numeric_encoding('alcohol_abuse', raw_name='alcohol_abuse')"
   ]
  },
  {
   "cell_type": "code",
   "execution_count": null,
   "metadata": {},
   "outputs": [],
   "source": [
    "# Drug Abuse\n",
    "categorial_numeric_encoding('drug_abuse', raw_name='drug_abuse')"
   ]
  },
  {
   "cell_type": "code",
   "execution_count": null,
   "metadata": {},
   "outputs": [],
   "source": [
    "# Psychoses\n",
    "categorial_numeric_encoding('psychoses', raw_name='psychoses')"
   ]
  },
  {
   "cell_type": "code",
   "execution_count": null,
   "metadata": {},
   "outputs": [],
   "source": [
    "# Depression\n",
    "categorial_numeric_encoding('depression', raw_name='depression')"
   ]
  },
  {
   "cell_type": "code",
   "execution_count": null,
   "metadata": {},
   "outputs": [],
   "source": [
    "# Coronary Heart Disease\n",
    "categorial_numeric_encoding('coronary_heart_disease', raw_name='khk')"
   ]
  },
  {
   "cell_type": "code",
   "execution_count": null,
   "metadata": {},
   "outputs": [],
   "source": [
    "# Chronic Pancreatitis\n",
    "categorial_numeric_encoding('chronic_pancreatitis', raw_name='chronic_pancreatitis')"
   ]
  },
  {
   "cell_type": "markdown",
   "metadata": {},
   "source": [
    "### Surgery"
   ]
  },
  {
   "cell_type": "code",
   "execution_count": null,
   "metadata": {},
   "outputs": [],
   "source": [
    "# Primary System\n",
    "categorial_one_hot_encoding('primary_system', raw_name='organ', mapping={'Esophagus': 'esophagus', 'Gastric': 'stomach', 'Colorectal': 'intestine', 'Small_intestine': 'intestine', 'Liver': 'liver', 'Pancreas': 'pancreas'}, not_supported=['Other_organ_system', 'Transplant'])"
   ]
  },
  {
   "cell_type": "code",
   "execution_count": null,
   "metadata": {},
   "outputs": [],
   "source": [
    "# System Esophagus\n",
    "categorial_numeric_encoding('system_esophagus', raw_name='surgery_system_esophagus')"
   ]
  },
  {
   "cell_type": "code",
   "execution_count": null,
   "metadata": {},
   "outputs": [],
   "source": [
    "# System Stomach\n",
    "categorial_numeric_encoding('system_stomach', raw_name='surgery_system_stomach')"
   ]
  },
  {
   "cell_type": "code",
   "execution_count": null,
   "metadata": {},
   "outputs": [],
   "source": [
    "# System Intestine\n",
    "categorial_numeric_encoding('system_intestine', raw_name='surgery_system_intestine')"
   ]
  },
  {
   "cell_type": "code",
   "execution_count": null,
   "metadata": {},
   "outputs": [],
   "source": [
    "# System Liver\n",
    "categorial_numeric_encoding('system_liver', raw_name='surgery_system_liver')"
   ]
  },
  {
   "cell_type": "code",
   "execution_count": null,
   "metadata": {},
   "outputs": [],
   "source": [
    "# System Pancreas\n",
    "categorial_numeric_encoding('system_pancreas', raw_name='surgery_system_pancreas')"
   ]
  },
  {
   "cell_type": "code",
   "execution_count": null,
   "metadata": {},
   "outputs": [],
   "source": [
    "# System Count\n",
    "numeric('system_count', raw_name='surgery_system_count', min=1, max=5)"
   ]
  },
  {
   "cell_type": "code",
   "execution_count": null,
   "metadata": {},
   "outputs": [],
   "source": [
    "# Urgency\n",
    "categorial_numeric_encoding('urgency', raw_name='urgency')"
   ]
  },
  {
   "cell_type": "code",
   "execution_count": null,
   "metadata": {},
   "outputs": [],
   "source": [
    "# Resurgery\n",
    "categorial_numeric_encoding('resurgery', raw_name='previous_op')"
   ]
  },
  {
   "cell_type": "code",
   "execution_count": null,
   "metadata": {},
   "outputs": [],
   "source": [
    "# Month\n",
    "raw['surgery_month'] = data['meta_incision'].copy().dt.month\n",
    "categorial_numeric_encoding('month', raw_name='surgery_month')"
   ]
  },
  {
   "cell_type": "code",
   "execution_count": null,
   "metadata": {},
   "outputs": [],
   "source": [
    "# Weekday\n",
    "raw['surgery_weekday'] = data['meta_incision'].copy().dt.weekday\n",
    "categorial_numeric_encoding('weekday', raw_name='surgery_weekday')"
   ]
  },
  {
   "cell_type": "code",
   "execution_count": null,
   "metadata": {},
   "outputs": [],
   "source": [
    "# Daytime\n",
    "raw['surgery_daytime'] = data['meta_incision'].copy().dt.hour\n",
    "raw['surgery_daytime'] = raw['surgery_daytime'].apply(lambda x: 0 if (x >= 0 and x < 6) else x)\n",
    "raw['surgery_daytime'] = raw['surgery_daytime'].apply(lambda x: 1 if (x >= 6 and x < 14) else x)\n",
    "raw['surgery_daytime'] = raw['surgery_daytime'].apply(lambda x: 2 if (x >= 14 and x < 22) else x)\n",
    "raw['surgery_daytime'] = raw['surgery_daytime'].apply(lambda x: 0 if (x >= 22 and x < 24) else x)\n",
    "categorial_numeric_encoding('daytime', raw_name='surgery_daytime')"
   ]
  },
  {
   "cell_type": "code",
   "execution_count": null,
   "metadata": {},
   "outputs": [],
   "source": [
    "# Hour\n",
    "raw['surgery_hour'] = data['meta_incision'].copy().dt.hour\n",
    "categorial_numeric_encoding('hour', raw_name='surgery_hour')"
   ]
  },
  {
   "cell_type": "code",
   "execution_count": null,
   "metadata": {},
   "outputs": [],
   "source": [
    "# Mean Monthly Temperature\n",
    "numeric('mean_monthly_temperature', raw_name='mean_monthly_temperature[°c]')"
   ]
  },
  {
   "cell_type": "code",
   "execution_count": null,
   "metadata": {},
   "outputs": [],
   "source": [
    "# Minimum Monthly Temperature\n",
    "numeric('minimum_monthly_temperature', raw_name='min_monthly_temperature[°c]')"
   ]
  },
  {
   "cell_type": "code",
   "execution_count": null,
   "metadata": {},
   "outputs": [],
   "source": [
    "# Maximum Monthly Temperature\n",
    "numeric('maximum_monthly_temperature', raw_name='max_monthly_temperature[°c]')"
   ]
  },
  {
   "cell_type": "code",
   "execution_count": null,
   "metadata": {},
   "outputs": [],
   "source": [
    "# Monthly Precipitation\n",
    "numeric('monthly_precipitation', raw_name='mean_monthly_rainfall[l/m2]')"
   ]
  },
  {
   "cell_type": "code",
   "execution_count": null,
   "metadata": {},
   "outputs": [],
   "source": [
    "# Monthly Sunshine Hours\n",
    "numeric('monthly_sunshine_hours', raw_name='sunshine[h]')"
   ]
  },
  {
   "cell_type": "markdown",
   "metadata": {},
   "source": [
    "### Lab"
   ]
  },
  {
   "cell_type": "code",
   "execution_count": null,
   "metadata": {},
   "outputs": [],
   "source": [
    "# Sodium\n",
    "numeric('sodium', raw_name='sodium', min=50, max=200)"
   ]
  },
  {
   "cell_type": "code",
   "execution_count": null,
   "metadata": {},
   "outputs": [],
   "source": [
    "# Potassium\n",
    "numeric('potassium', raw_name='potassium', min=1, max=10)"
   ]
  },
  {
   "cell_type": "code",
   "execution_count": null,
   "metadata": {},
   "outputs": [],
   "source": [
    "# Albumin\n",
    "numeric('albumin', raw_name='albumin', min=0, max=100)"
   ]
  },
  {
   "cell_type": "code",
   "execution_count": null,
   "metadata": {},
   "outputs": [],
   "source": [
    "# Bilirubin (Direct)\n",
    "numeric('bilirubin_direct', raw_name='bilirubin_direct', min=0, max=50)"
   ]
  },
  {
   "cell_type": "code",
   "execution_count": null,
   "metadata": {},
   "outputs": [],
   "source": [
    "# Bilirubin (Indirect)\n",
    "numeric('bilirubin_indirect', raw_name='bilirubin_indirect', min=0, max=50)"
   ]
  },
  {
   "cell_type": "code",
   "execution_count": null,
   "metadata": {},
   "outputs": [],
   "source": [
    "# Bilirubin\n",
    "numeric('bilirubin', raw_name='bilirubin', min=0, max=50)"
   ]
  },
  {
   "cell_type": "code",
   "execution_count": null,
   "metadata": {},
   "outputs": [],
   "source": [
    "# Urea\n",
    "numeric('urea', raw_name='urea', min=0, max=400)"
   ]
  },
  {
   "cell_type": "code",
   "execution_count": null,
   "metadata": {},
   "outputs": [],
   "source": [
    "# TSH\n",
    "numeric('tsh', raw_name='tsh', min=0, max=50)"
   ]
  },
  {
   "cell_type": "code",
   "execution_count": null,
   "metadata": {},
   "outputs": [],
   "source": [
    "# ALT\n",
    "numeric('alt', raw_name='alt', min=0, max=100000)"
   ]
  },
  {
   "cell_type": "code",
   "execution_count": null,
   "metadata": {},
   "outputs": [],
   "source": [
    "# AST\n",
    "numeric('ast', raw_name='ast', min=0, max=100000)"
   ]
  },
  {
   "cell_type": "code",
   "execution_count": null,
   "metadata": {},
   "outputs": [],
   "source": [
    "# gGT\n",
    "numeric('ggt', raw_name='ggt', min=0, max=100000)"
   ]
  },
  {
   "cell_type": "code",
   "execution_count": null,
   "metadata": {},
   "outputs": [],
   "source": [
    "# Lipase\n",
    "numeric('lipase', raw_name='lipase', min=0, max=50000)"
   ]
  },
  {
   "cell_type": "code",
   "execution_count": null,
   "metadata": {},
   "outputs": [],
   "source": [
    "# CRP\n",
    "numeric('crp', raw_name='crp', min=0, max=1000)"
   ]
  },
  {
   "cell_type": "code",
   "execution_count": null,
   "metadata": {},
   "outputs": [],
   "source": [
    "# Lactate\n",
    "numeric('lactate', raw_name='lactate', min=0, max=200)"
   ]
  },
  {
   "cell_type": "code",
   "execution_count": null,
   "metadata": {},
   "outputs": [],
   "source": [
    "# HbA1C\n",
    "numeric('hba1c', raw_name='hba1c', min=0, max=100)"
   ]
  },
  {
   "cell_type": "code",
   "execution_count": null,
   "metadata": {},
   "outputs": [],
   "source": [
    "# Hemoglobin\n",
    "numeric('hemoglobin', raw_name='hemoglobin', min=0, max=40)"
   ]
  },
  {
   "cell_type": "code",
   "execution_count": null,
   "metadata": {},
   "outputs": [],
   "source": [
    "# WBC\n",
    "numeric('wbc', raw_name='wbc', min=0, max=100)"
   ]
  },
  {
   "cell_type": "code",
   "execution_count": null,
   "metadata": {},
   "outputs": [],
   "source": [
    "# Platelets\n",
    "numeric('platelets', raw_name='platelets', min=0, max=16000000)"
   ]
  },
  {
   "cell_type": "code",
   "execution_count": null,
   "metadata": {},
   "outputs": [],
   "source": [
    "# Hematocrit\n",
    "numeric('hematocrit', raw_name='hematocrit', min=0, max=100)"
   ]
  },
  {
   "cell_type": "code",
   "execution_count": null,
   "metadata": {},
   "outputs": [],
   "source": [
    "# Prothrombin Time\n",
    "numeric('prothrombin_time', raw_name='prothrombin_time', min=0, max=200)"
   ]
  },
  {
   "cell_type": "code",
   "execution_count": null,
   "metadata": {},
   "outputs": [],
   "source": [
    "# INR\n",
    "numeric('inr', raw_name='inr', min=0, max=10)"
   ]
  },
  {
   "cell_type": "code",
   "execution_count": null,
   "metadata": {},
   "outputs": [],
   "source": [
    "# aPTT\n",
    "numeric('aptt', raw_name='aptt', min=0, max=500)"
   ]
  },
  {
   "cell_type": "code",
   "execution_count": null,
   "metadata": {},
   "outputs": [],
   "source": [
    "# Erythrocytes\n",
    "numeric('erythrocytes', raw_name='erythrocytes', min=0, max=10)"
   ]
  },
  {
   "cell_type": "code",
   "execution_count": null,
   "metadata": {},
   "outputs": [],
   "source": [
    "# Creatinine\n",
    "numeric('creatinine', raw_name='creatinine', min=0, max=100)"
   ]
  },
  {
   "cell_type": "code",
   "execution_count": null,
   "metadata": {},
   "outputs": [],
   "source": [
    "# Glucose\n",
    "numeric('glucose', raw_name='glucose', min=0, max=1000)"
   ]
  },
  {
   "cell_type": "code",
   "execution_count": null,
   "metadata": {},
   "outputs": [],
   "source": [
    "# ABG: pH\n",
    "numeric('abg_ph', raw_name='abg_ph', min=0, max=10)"
   ]
  },
  {
   "cell_type": "code",
   "execution_count": null,
   "metadata": {},
   "outputs": [],
   "source": [
    "# ABG: Base Excess\n",
    "numeric('abg_base_excess', raw_name='base_excess', min=-100, max=100)"
   ]
  },
  {
   "cell_type": "code",
   "execution_count": null,
   "metadata": {},
   "outputs": [],
   "source": [
    "# ABG: Bicarbonate\n",
    "numeric('abg_bicarbonate', raw_name='abg_bicarbonate', min=0, max=50)"
   ]
  },
  {
   "cell_type": "markdown",
   "metadata": {},
   "source": [
    "## Target"
   ]
  },
  {
   "cell_type": "code",
   "execution_count": null,
   "metadata": {},
   "outputs": [],
   "source": [
    "# Target: 30 Day Mortality\n",
    "categorial_numeric_encoding('target_30_day_mortality', raw_name='30_day_mortality')"
   ]
  },
  {
   "cell_type": "code",
   "execution_count": null,
   "metadata": {},
   "outputs": [],
   "source": [
    "# Target: 90 Day Mortality\n",
    "categorial_numeric_encoding('target_90_day_mortality', raw_name='90_day_mortality')"
   ]
  },
  {
   "cell_type": "code",
   "execution_count": null,
   "metadata": {},
   "outputs": [],
   "source": [
    "# Target: Clavien Dindo 5\n",
    "categorial_numeric_encoding('target_clavien_dindo_5', raw_name='clavien_dindo_v')"
   ]
  },
  {
   "cell_type": "code",
   "execution_count": null,
   "metadata": {},
   "outputs": [],
   "source": [
    "# Target: Deceased after Discharge\n",
    "categorial_numeric_encoding('target_deceased_after_discharge', raw_name='deceased_after_discharge')"
   ]
  },
  {
   "cell_type": "code",
   "execution_count": null,
   "metadata": {},
   "outputs": [],
   "source": [
    "# Target: Acute Myocardial Infarction\n",
    "categorial_numeric_encoding('target_acute_myocardial_infarction', raw_name='acute_myocardial_infarction')"
   ]
  },
  {
   "cell_type": "code",
   "execution_count": null,
   "metadata": {},
   "outputs": [],
   "source": [
    "# Target: Pulmonary Embolism\n",
    "categorial_numeric_encoding('target_pulmonary embolism', raw_name='pulmonary_embolism')"
   ]
  },
  {
   "cell_type": "code",
   "execution_count": null,
   "metadata": {},
   "outputs": [],
   "source": [
    "# Target: Septic Shock\n",
    "categorial_numeric_encoding('target_septic_shock', raw_name='septic_shock')"
   ]
  },
  {
   "cell_type": "code",
   "execution_count": null,
   "metadata": {},
   "outputs": [],
   "source": [
    "# Target: Pneumonia\n",
    "categorial_numeric_encoding('target_pneumonia', raw_name='pneumonia')"
   ]
  },
  {
   "cell_type": "code",
   "execution_count": null,
   "metadata": {},
   "outputs": [],
   "source": [
    "# Target: Liver Failure\n",
    "categorial_numeric_encoding('target_liver_failure', raw_name='liver_failure')"
   ]
  },
  {
   "cell_type": "code",
   "execution_count": null,
   "metadata": {},
   "outputs": [],
   "source": [
    "# Target: Cardiogenic Shock\n",
    "categorial_numeric_encoding('target_cardiogenic_shock', raw_name='cardiogenic_shock')"
   ]
  },
  {
   "cell_type": "code",
   "execution_count": null,
   "metadata": {},
   "outputs": [],
   "source": [
    "# Target: Acute Pancreatitis\n",
    "categorial_numeric_encoding('target_acute_pancreatitis', raw_name='acute_pancreatitis')"
   ]
  },
  {
   "cell_type": "markdown",
   "metadata": {},
   "source": [
    "# Process"
   ]
  },
  {
   "cell_type": "code",
   "execution_count": null,
   "metadata": {},
   "outputs": [],
   "source": [
    "# Sort\n",
    "data.sort_values(by=['meta_incision'], inplace=True)\n",
    "data"
   ]
  },
  {
   "cell_type": "code",
   "execution_count": null,
   "metadata": {},
   "outputs": [],
   "source": [
    "# Duplicates\n",
    "data.drop_duplicates(subset='meta_case', inplace=True)\n",
    "data"
   ]
  },
  {
   "cell_type": "markdown",
   "metadata": {},
   "source": [
    "## Inclusion Criteria"
   ]
  },
  {
   "cell_type": "code",
   "execution_count": null,
   "metadata": {},
   "outputs": [],
   "source": [
    "# Year\n",
    "data = data[data['meta_year'].notna()]\n",
    "data"
   ]
  },
  {
   "cell_type": "code",
   "execution_count": null,
   "metadata": {},
   "outputs": [],
   "source": [
    "# System\n",
    "data = data[data['meta_system'].notna()]\n",
    "data"
   ]
  },
  {
   "cell_type": "code",
   "execution_count": null,
   "metadata": {},
   "outputs": [],
   "source": [
    "# OPS\n",
    "data = data[data['meta_ops'] == 1]\n",
    "data"
   ]
  },
  {
   "cell_type": "code",
   "execution_count": null,
   "metadata": {},
   "outputs": [],
   "source": [
    "# Age\n",
    "data = data[data['meta_age'] >= 18]\n",
    "data"
   ]
  },
  {
   "cell_type": "markdown",
   "metadata": {},
   "source": [
    "## Column Management"
   ]
  },
  {
   "cell_type": "code",
   "execution_count": null,
   "metadata": {},
   "outputs": [],
   "source": [
    "center0 = data[data['identifier_cohort'] == 0]\n",
    "for column in center0.columns:\n",
    "    if column == 'identifier_cohort': continue\n",
    "    if center0[column].nunique() <= 1:\n",
    "        data.drop(column, axis=1, inplace=True)\n",
    "        print(column)\n",
    "\n",
    "data"
   ]
  },
  {
   "cell_type": "code",
   "execution_count": null,
   "metadata": {},
   "outputs": [],
   "source": [
    "completeness = data.count() / len(data) * 100\n",
    "completeness = completeness.apply(lambda x: round(x / 10) * 10)\n",
    "completeness = completeness.value_counts().sort_index()\n",
    "completeness.plot.bar()"
   ]
  },
  {
   "cell_type": "code",
   "execution_count": null,
   "metadata": {},
   "outputs": [],
   "source": [
    "center0 = data[data['identifier_cohort'] == 0]\n",
    "for column in center0.columns:\n",
    "    if center0[column].isna().sum() / len(center0) > 0.5:\n",
    "        data.drop(column, axis=1, inplace=True)\n",
    "        print(column)\n",
    "\n",
    "data"
   ]
  },
  {
   "cell_type": "markdown",
   "metadata": {},
   "source": [
    "# Save"
   ]
  },
  {
   "cell_type": "code",
   "execution_count": null,
   "metadata": {},
   "outputs": [],
   "source": [
    "data.to_csv('3_clean.csv', index = False)\n",
    "data"
   ]
  },
  {
   "cell_type": "code",
   "execution_count": null,
   "metadata": {},
   "outputs": [],
   "source": [
    "description: pd.DataFrame = pd.DataFrame()\n",
    "\n",
    "i = 0\n",
    "for column in data.columns:\n",
    "    data_total = data[column]\n",
    "    data_training = data[data['identifier_cohort'] == 0][column]\n",
    "    data_validation = data[data['identifier_cohort'] == 1][column]\n",
    "\n",
    "    description = description.append({\n",
    "        'id': i,\n",
    "        'name': column,\n",
    "        'dimension': '',\n",
    "        'lower_limit': '',\n",
    "        'upper_limit': '',\n",
    "        'type': data_total.dtype,\n",
    "        'count': data_total.count(),\n",
    "        'count (0)': data_training.count(),\n",
    "        'count (1)': data_validation.count(),\n",
    "        'completeness': round(data_total.count() / len(data_total) * 100, 2),\n",
    "        'completeness (0)': round(data_training.count() / len(data_training) * 100, 2),\n",
    "        'completeness (1)': round(data_validation.count() / len(data_validation) * 100, 2),\n",
    "        'min': data_total.min(),\n",
    "        'min (0)': data_training.min(),\n",
    "        'min (1)': data_validation.min(),\n",
    "        'max': data_total.max(),\n",
    "        'max (0)': data_training.max(),\n",
    "        'max (1)': data_validation.max(),\n",
    "        'unique': data_total.nunique(),\n",
    "        'unique (0)': data_training.nunique(),\n",
    "        'unique (1)': data_validation.nunique(),\n",
    "    }, ignore_index=True)\n",
    "\n",
    "    i += 1\n",
    "\n",
    "description.to_csv('4_description.csv', index=False)\n",
    "description"
   ]
  },
  {
   "cell_type": "code",
   "execution_count": null,
   "metadata": {},
   "outputs": [],
   "source": [
    "print(description.to_markdown(index=False))"
   ]
  }
 ],
 "metadata": {
  "kernelspec": {
   "display_name": "Python 3.11.5 64-bit ('anaconda3')",
   "language": "python",
   "name": "python3"
  },
  "language_info": {
   "codemirror_mode": {
    "name": "ipython",
    "version": 3
   },
   "file_extension": ".py",
   "mimetype": "text/x-python",
   "name": "python",
   "nbconvert_exporter": "python",
   "pygments_lexer": "ipython3",
   "version": "3.9.7"
  },
  "orig_nbformat": 4,
  "vscode": {
   "interpreter": {
    "hash": "5f19079be71ebf6901568ccbd4ed5155aa379cf24d838b537abf2f3af9c2c3a9"
   }
  }
 },
 "nbformat": 4,
 "nbformat_minor": 2
}
