{
 "cells": [
  {
   "cell_type": "markdown",
   "metadata": {},
   "source": [
    "# Import"
   ]
  },
  {
   "cell_type": "code",
   "execution_count": null,
   "metadata": {},
   "outputs": [],
   "source": [
    "import pandas as pd\n",
    "import numpy as np"
   ]
  },
  {
   "cell_type": "markdown",
   "metadata": {},
   "source": [
    "# Setup"
   ]
  },
  {
   "cell_type": "code",
   "execution_count": null,
   "metadata": {},
   "outputs": [],
   "source": [
    "data = pd.DataFrame()"
   ]
  },
  {
   "cell_type": "code",
   "execution_count": null,
   "metadata": {},
   "outputs": [],
   "source": [
    "raw = pd.read_excel('1_raw.xlsx')\n",
    "raw"
   ]
  },
  {
   "cell_type": "code",
   "execution_count": null,
   "metadata": {},
   "outputs": [],
   "source": [
    "system_data = pd.read_csv('2_systems.csv')\n",
    "\n",
    "for index, row in raw.iterrows():\n",
    "    case = row['case']\n",
    "\n",
    "    systems: str = ''\n",
    "    system_count = np.NaN\n",
    "    if len(system_data[system_data['case'] == case]) > 0:\n",
    "        systems = system_data[system_data['case'] == case].iloc[0]['systems']\n",
    "        system_count = systems.count(',') + 1\n",
    "\n",
    "    raw.at[index, 'surgery_system_count'] = system_count\n",
    "\n",
    "    raw.at[index, 'surgery_system_esophagus'] = 1 if 'Esophagus' in systems else 0\n",
    "    raw.at[index, 'surgery_system_stomach'] = 1 if 'Magen' in systems else 0\n",
    "    raw.at[index, 'surgery_system_intestine'] = 1 if 'Kolorektal' in systems else 0\n",
    "    raw.at[index, 'surgery_system_liver'] = 1 if 'Leber' in systems else 0\n",
    "    raw.at[index, 'surgery_system_pancreas'] = 1 if 'Pankreas' in systems else 0\n",
    "\n",
    "raw"
   ]
  },
  {
   "cell_type": "markdown",
   "metadata": {},
   "source": [
    "# Logic"
   ]
  },
  {
   "cell_type": "code",
   "execution_count": null,
   "metadata": {},
   "outputs": [],
   "source": [
    "def numeric(name: str, raw_name: str, min: float = np.NaN, max: float = np.NaN):\n",
    "    unique = raw[raw_name].unique()\n",
    "    for value in unique:\n",
    "        try: pd.to_numeric(value)\n",
    "        except: unique = unique[unique != value]\n",
    "    print('Non Numeric unique Values:', raw[raw_name][~raw[raw_name].isin(unique)].unique())\n",
    "\n",
    "    raw[raw_name] = pd.to_numeric(raw[raw_name], errors='coerce')\n",
    "    \n",
    "    if not np.isnan(min): \n",
    "        print('Values smaller than min:', raw[raw_name][raw[raw_name] < min].count())\n",
    "        # raw[raw_name] = raw[raw_name].apply(lambda x: np.NaN if x < min else x)\n",
    "        raw[raw_name] = raw[raw_name].apply(lambda x: np.NaN if x < min else x)\n",
    "    if not np.isnan(max): \n",
    "        print('Values greater than max:', raw[raw_name][raw[raw_name] > max].count())\n",
    "        # raw[raw_name] = raw[raw_name].apply(lambda x: np.NaN if x > max else x)\n",
    "        raw[raw_name] = raw[raw_name].apply(lambda x: np.NaN if x > max else x)\n",
    "\n",
    "    o = raw[raw_name]\n",
    "    o_data = raw[raw['center'] == 0][raw_name]\n",
    "    o_validation = raw[raw['center'] == 1][raw_name]\n",
    "    print(f'All: {round(o.count() / len(o) * 100, 2)} % (Mean: {round(o.mean(), 2)}, Std: { round(o.std(), 2) }, Min: { round(o.min(), 2) }, Max: { round(o.max(), 2) })')\n",
    "    print(f'Data: {round(o_data.count() / len(o_data) * 100, 2)} % (Mean: {round(o_data.mean(), 2)}, Std: { round(o_data.std(), 2) }, Min: { round(o_data.min(), 2) }, Max: { round(o_data.max(), 2) })')\n",
    "    print(f'Validation: {round(o_validation.count() / len(o_validation) * 100, 2)} % (Mean: {round(o_validation.mean(), 2)}, Std: { round(o_validation.std(), 2) }, Min: { round(o_validation.min(), 2) }, Max: { round(o_validation.max(), 2) })')\n",
    "\n",
    "    data[name] = o.astype(float)"
   ]
  },
  {
   "cell_type": "code",
   "execution_count": null,
   "metadata": {},
   "outputs": [],
   "source": [
    "def categorial_numeric_encoding(name: str, raw_name: str, not_supported: list = []):\n",
    "    raw[raw_name].replace(not_supported, np.NaN, inplace=True)\n",
    "\n",
    "    unique = raw[raw_name].unique()\n",
    "    unique = unique[~pd.isna(unique)]\n",
    "\n",
    "    try: unique = sorted(unique)\n",
    "    except TypeError: pass\n",
    "\n",
    "    for i, value in enumerate(unique):\n",
    "        raw[raw_name] = raw[raw_name].apply(lambda x: i if x == value else x)\n",
    "        print(i, value, round((raw[raw_name] == i).sum() / len(raw[raw_name]) * 100, 2), '%')\n",
    "\n",
    "    o = raw[raw_name]\n",
    "    o_data = raw[raw['center'] == 0][raw_name]\n",
    "    o_validation = raw[raw['center'] == 1][raw_name]\n",
    "    print(f'All: {round(o.count() / len(o) * 100, 2)} % (Mean: {round(o.mean(), 2)}, Std: { round(o.std(), 2) }, Min: { round(o.min(), 2) }, Max: { round(o.max(), 2) })')\n",
    "    print(f'Data: {round(o_data.count() / len(o_data) * 100, 2)} % (Mean: {round(o_data.mean(), 2)}, Std: { round(o_data.std(), 2) }, Min: { round(o_data.min(), 2) }, Max: { round(o_data.max(), 2) })')\n",
    "    print(f'Validation: {round(o_validation.count() / len(o_validation) * 100, 2)} % (Mean: {round(o_validation.mean(), 2)}, Std: { round(o_validation.std(), 2) }, Min: { round(o_validation.min(), 2) }, Max: { round(o_validation.max(), 2) })')\n",
    "    \n",
    "    data[name] = o.astype('Int64')"
   ]
  },
  {
   "cell_type": "code",
   "execution_count": null,
   "metadata": {},
   "outputs": [],
   "source": [
    "def categorial_one_hot_encoding(name: str, raw_name: str, mapping: dict = {}, not_supported: list = []):\n",
    "    raw[raw_name].replace(mapping, inplace=True)\n",
    "    raw[raw_name].replace(not_supported, np.NaN, inplace=True)\n",
    "\n",
    "    unique = raw[raw_name].unique()\n",
    "    unique = unique[~pd.isna(unique)]\n",
    "\n",
    "    try: unique = sorted(unique)\n",
    "    except TypeError: pass\n",
    "    \n",
    "    for value in unique:\n",
    "        print(value, round((raw[raw_name] == value).sum() / len(raw[raw_name]) * 100, 2), '%')\n",
    "    \n",
    "    o = raw[raw_name]\n",
    "    o_data = raw[raw['center'] == 0][raw_name]\n",
    "    o_validation = raw[raw['center'] == 1][raw_name]\n",
    "    print(f'All: {round(o.count() / len(o) * 100, 2)} %')\n",
    "    print(f'Data: {round(o_data.count() / len(o_data) * 100, 2)} %')\n",
    "    print(f'Validation: {round(o_validation.count() / len(o_validation) * 100, 2)} %')\n",
    "    \n",
    "    data[name] = o.astype(str)"
   ]
  },
  {
   "cell_type": "code",
   "execution_count": null,
   "metadata": {},
   "outputs": [],
   "source": [
    "def timestamp(name: str, raw_name: str):\n",
    "     raw[raw_name]= pd.to_datetime(raw[raw_name], errors='coerce')\n",
    "\n",
    "     o = raw[raw_name]\n",
    "     o_data = raw[raw['center'] == 0][raw_name]\n",
    "     o_validation = raw[raw['center'] == 1][raw_name]\n",
    "     print(f'All: {round(o.count() / len(o) * 100, 2)} % (Min: { o.min() }, Max: { o.max() })')\n",
    "     print(f'Data: {round(o_data.count() / len(o_data) * 100, 2)} % (Min: { o_data.min() }, Max: { o_data.max() })')\n",
    "     print(f'Validation: {round(o_validation.count() / len(o_validation) * 100, 2)} % (Min: { o_validation.min() }, Max: { o_validation.max() })')\n",
    "\n",
    "     data[name] = o"
   ]
  },
  {
   "cell_type": "markdown",
   "metadata": {},
   "source": [
    "# Populate"
   ]
  },
  {
   "cell_type": "markdown",
   "metadata": {},
   "source": [
    "## Meta"
   ]
  },
  {
   "cell_type": "code",
   "execution_count": null,
   "metadata": {},
   "outputs": [],
   "source": [
    "# Center\n",
    "raw['center'].replace({ 'CVK': 0, 'CCM': 0, 'CBF': 1 }, inplace=True)\n",
    "categorial_numeric_encoding('meta_center', raw_name='center')"
   ]
  },
  {
   "cell_type": "code",
   "execution_count": null,
   "metadata": {},
   "outputs": [],
   "source": [
    "# Case\n",
    "numeric('meta_case', raw_name='case', min=0)"
   ]
  },
  {
   "cell_type": "code",
   "execution_count": null,
   "metadata": {},
   "outputs": [],
   "source": [
    "# Patient\n",
    "numeric('meta_patient', raw_name='patient', min=0)"
   ]
  },
  {
   "cell_type": "code",
   "execution_count": null,
   "metadata": {},
   "outputs": [],
   "source": [
    "# Incision\n",
    "timestamp('meta_incision', raw_name='op_schnitt')"
   ]
  },
  {
   "cell_type": "code",
   "execution_count": null,
   "metadata": {},
   "outputs": [],
   "source": [
    "# Suture\n",
    "# timestamp('meta_suture', raw_name='op_naht')"
   ]
  },
  {
   "cell_type": "code",
   "execution_count": null,
   "metadata": {},
   "outputs": [],
   "source": [
    "# Year\n",
    "raw['meta_year'] = data['meta_incision'].copy().dt.year\n",
    "categorial_numeric_encoding('meta_year', raw_name='meta_year', not_supported=[2023])"
   ]
  },
  {
   "cell_type": "code",
   "execution_count": null,
   "metadata": {},
   "outputs": [],
   "source": [
    "# Meta: System\n",
    "raw['meta_system'] = raw['organ_system'].replace({ 'Esophagus': 0, 'Gastric': 1, 'Colorectal': 2, 'Small_intestine': 2, 'Liver': 3, 'Pancreas': 4 })\n",
    "categorial_numeric_encoding('meta_system', raw_name='meta_system', not_supported=['Other_organ_system', 'Transplant'])"
   ]
  },
  {
   "cell_type": "code",
   "execution_count": null,
   "metadata": {},
   "outputs": [],
   "source": [
    "# Meta: OPS\n",
    "numeric('meta_ops', raw_name='is_majorop')"
   ]
  },
  {
   "cell_type": "code",
   "execution_count": null,
   "metadata": {},
   "outputs": [],
   "source": [
    "# Meta: Age\n",
    "numeric('meta_age', raw_name='ageatsurgery')"
   ]
  },
  {
   "cell_type": "code",
   "execution_count": null,
   "metadata": {},
   "outputs": [],
   "source": [
    "# Meta: Urgency\n",
    "categorial_numeric_encoding('meta_urgency', raw_name='urgency', not_supported=['keine'])"
   ]
  },
  {
   "cell_type": "code",
   "execution_count": null,
   "metadata": {},
   "outputs": [],
   "source": [
    "# Meta: Follow Up\n",
    "categorial_numeric_encoding('meta_follow_up', raw_name='previous_op')"
   ]
  },
  {
   "cell_type": "markdown",
   "metadata": {},
   "source": [
    "## Feature"
   ]
  },
  {
   "cell_type": "markdown",
   "metadata": {},
   "source": [
    "### General"
   ]
  },
  {
   "cell_type": "code",
   "execution_count": null,
   "metadata": {},
   "outputs": [],
   "source": [
    "# Gender\n",
    "raw['patient_sex'].replace({ 'male': 0, 'female': 1 }, inplace=True)\n",
    "categorial_numeric_encoding('gender', raw_name='patient_sex')"
   ]
  },
  {
   "cell_type": "code",
   "execution_count": null,
   "metadata": {},
   "outputs": [],
   "source": [
    "# Age\n",
    "numeric('age', raw_name='ageatsurgery', min=18, max=120)"
   ]
  },
  {
   "cell_type": "code",
   "execution_count": null,
   "metadata": {},
   "outputs": [],
   "source": [
    "# Height\n",
    "numeric('height', raw_name='height_in_cm', min=100, max=250)"
   ]
  },
  {
   "cell_type": "code",
   "execution_count": null,
   "metadata": {},
   "outputs": [],
   "source": [
    "# Weight\n",
    "numeric('weight', raw_name='pre_op_weight_in_kg', min=25, max=300)"
   ]
  },
  {
   "cell_type": "code",
   "execution_count": null,
   "metadata": {},
   "outputs": [],
   "source": [
    "# BMI\n",
    "numeric('bmi', raw_name='bmi', min=5, max=100)"
   ]
  },
  {
   "cell_type": "code",
   "execution_count": null,
   "metadata": {},
   "outputs": [],
   "source": [
    "# ASA\n",
    "categorial_numeric_encoding('asa', raw_name='asa_classification')"
   ]
  },
  {
   "cell_type": "code",
   "execution_count": null,
   "metadata": {},
   "outputs": [],
   "source": [
    "# ECOG\n",
    "# categorial_numeric_encoding('ecog', raw_name='ECOG')"
   ]
  },
  {
   "cell_type": "code",
   "execution_count": null,
   "metadata": {},
   "outputs": [],
   "source": [
    "# CCI\n",
    "categorial_numeric_encoding('cci', raw_name='cci')"
   ]
  },
  {
   "cell_type": "markdown",
   "metadata": {},
   "source": [
    "### Condition"
   ]
  },
  {
   "cell_type": "code",
   "execution_count": null,
   "metadata": {},
   "outputs": [],
   "source": [
    "# Condition: Myocardial Infarction\n",
    "categorial_numeric_encoding('condition_myocardial_infarction', raw_name='myocardial_infarction')"
   ]
  },
  {
   "cell_type": "code",
   "execution_count": null,
   "metadata": {},
   "outputs": [],
   "source": [
    "# Condition: Congestive Heart Failure\n",
    "categorial_numeric_encoding('condition_congestive_heart_failure', raw_name='congestive_heart_failure')"
   ]
  },
  {
   "cell_type": "code",
   "execution_count": null,
   "metadata": {},
   "outputs": [],
   "source": [
    "# Condition: Peripheral Vascular Disease\n",
    "categorial_numeric_encoding('condition_peripheral_vascular_disease', raw_name='peripheral_vascular_disease')"
   ]
  },
  {
   "cell_type": "code",
   "execution_count": null,
   "metadata": {},
   "outputs": [],
   "source": [
    "# Condition: Cerebrovascular Disease\n",
    "categorial_numeric_encoding('condition_cerebrovascular_disease', raw_name='cerebrovascular_disease')"
   ]
  },
  {
   "cell_type": "code",
   "execution_count": null,
   "metadata": {},
   "outputs": [],
   "source": [
    "# Condition: Dementia\n",
    "categorial_numeric_encoding('condition_dementia', raw_name='dementia')"
   ]
  },
  {
   "cell_type": "code",
   "execution_count": null,
   "metadata": {},
   "outputs": [],
   "source": [
    "# Condition: Chronic Pulmonary Disease\n",
    "categorial_numeric_encoding('condition_chronic_pulmonary_disease', raw_name='chronic_pulmonary_disease')"
   ]
  },
  {
   "cell_type": "code",
   "execution_count": null,
   "metadata": {},
   "outputs": [],
   "source": [
    "# Condition: Rheumatic Disease\n",
    "categorial_numeric_encoding('condition_rheumatic_disease', raw_name='rheumathic_disease')"
   ]
  },
  {
   "cell_type": "code",
   "execution_count": null,
   "metadata": {},
   "outputs": [],
   "source": [
    "# Condition: Peptic Ulcer Disease\n",
    "categorial_numeric_encoding('condition_peptic_ulcer_disease', raw_name='peptic_ulcer_disease')"
   ]
  },
  {
   "cell_type": "code",
   "execution_count": null,
   "metadata": {},
   "outputs": [],
   "source": [
    "# Condition: Liver Disease (Mild)\n",
    "categorial_numeric_encoding('condition_liver_disease_mild', raw_name='mild_liver_disease')"
   ]
  },
  {
   "cell_type": "code",
   "execution_count": null,
   "metadata": {},
   "outputs": [],
   "source": [
    "# Condition: Liver Disease (Moderate to Severe)\n",
    "categorial_numeric_encoding('condition_liver_disease_moderate_to_severe', raw_name='moderate_or_severe_liver_disease')"
   ]
  },
  {
   "cell_type": "code",
   "execution_count": null,
   "metadata": {},
   "outputs": [],
   "source": [
    "# Condition: Diabetes (without Chronic Complications)\n",
    "categorial_numeric_encoding('condition_diabetes_without_chronic_complications', raw_name='diabetes_without_chronic_complications')"
   ]
  },
  {
   "cell_type": "code",
   "execution_count": null,
   "metadata": {},
   "outputs": [],
   "source": [
    "# Condition: Diabetes (with Chronic Complications)\n",
    "categorial_numeric_encoding('condition_diabetes_with_chronic_complications', raw_name='diabetes_with_chronic_complications')"
   ]
  },
  {
   "cell_type": "code",
   "execution_count": null,
   "metadata": {},
   "outputs": [],
   "source": [
    "# Condition: Hemiplegia or Paraplegia\n",
    "categorial_numeric_encoding('condition_hemiplegia_or_paraplegia', raw_name='hemiplegia_or_paraplegia')"
   ]
  },
  {
   "cell_type": "code",
   "execution_count": null,
   "metadata": {},
   "outputs": [],
   "source": [
    "# Condition: Renal Disease\n",
    "categorial_numeric_encoding('condition_renal_disease', raw_name='renal_disease')"
   ]
  },
  {
   "cell_type": "code",
   "execution_count": null,
   "metadata": {},
   "outputs": [],
   "source": [
    "# Condition: Malignancy\n",
    "categorial_numeric_encoding('condition_malignancy', raw_name='any_malignancy')"
   ]
  },
  {
   "cell_type": "code",
   "execution_count": null,
   "metadata": {},
   "outputs": [],
   "source": [
    "# Condition: Metastatic Solid Tumor\n",
    "categorial_numeric_encoding('condition_metastatic_solid_tumor', raw_name='metastatic_solid_tumor')"
   ]
  },
  {
   "cell_type": "code",
   "execution_count": null,
   "metadata": {},
   "outputs": [],
   "source": [
    "# Condition: AIDS\n",
    "categorial_numeric_encoding('condition_aids', raw_name='aids_hiv')"
   ]
  },
  {
   "cell_type": "code",
   "execution_count": null,
   "metadata": {},
   "outputs": [],
   "source": [
    "# Condition: Cardiac Arythmia\n",
    "categorial_numeric_encoding('condition_cardiac_arythmia', raw_name='cardiac_arrythmias')"
   ]
  },
  {
   "cell_type": "code",
   "execution_count": null,
   "metadata": {},
   "outputs": [],
   "source": [
    "# Condition: Valvular Disease\n",
    "categorial_numeric_encoding('condition_valvular_disease', raw_name='valvular_disease')"
   ]
  },
  {
   "cell_type": "code",
   "execution_count": null,
   "metadata": {},
   "outputs": [],
   "source": [
    "# Condition: Pulmonary Circulatory Disorder\n",
    "categorial_numeric_encoding('condition_pulmonary_circulatory_disorder', raw_name='pulmonary_circulation_disorder')"
   ]
  },
  {
   "cell_type": "code",
   "execution_count": null,
   "metadata": {},
   "outputs": [],
   "source": [
    "# Condition: Arterial Hypertension\n",
    "categorial_numeric_encoding('condition_arterial_hypertension', raw_name='arterial_hypertension')"
   ]
  },
  {
   "cell_type": "code",
   "execution_count": null,
   "metadata": {},
   "outputs": [],
   "source": [
    "# Condition: Other Neurological Disorders\n",
    "categorial_numeric_encoding('condition_other_neurological_disorders', raw_name='other_neurological_disorders')"
   ]
  },
  {
   "cell_type": "code",
   "execution_count": null,
   "metadata": {},
   "outputs": [],
   "source": [
    "# Condition: Hypothyroidism\n",
    "categorial_numeric_encoding('condition_hypothyroidism', raw_name='hypothyroidism')"
   ]
  },
  {
   "cell_type": "code",
   "execution_count": null,
   "metadata": {},
   "outputs": [],
   "source": [
    "# Condition: Coagulopathy\n",
    "categorial_numeric_encoding('condition_coagulopathy', raw_name='coagulopathy')"
   ]
  },
  {
   "cell_type": "code",
   "execution_count": null,
   "metadata": {},
   "outputs": [],
   "source": [
    "# Condition: Obesity\n",
    "categorial_numeric_encoding('condition_obesity', raw_name='obesity')"
   ]
  },
  {
   "cell_type": "code",
   "execution_count": null,
   "metadata": {},
   "outputs": [],
   "source": [
    "# Condition: Weight Loss\n",
    "categorial_numeric_encoding('condition_weight_loss', raw_name='weight_loss')"
   ]
  },
  {
   "cell_type": "code",
   "execution_count": null,
   "metadata": {},
   "outputs": [],
   "source": [
    "# Condition: Fluid and Electrolyte Disorders\n",
    "categorial_numeric_encoding('condition_fluid_and_electrolyte_disorders', raw_name='fluid_and_electrolyte_disorders')"
   ]
  },
  {
   "cell_type": "code",
   "execution_count": null,
   "metadata": {},
   "outputs": [],
   "source": [
    "# Condition: Blood Loss Anemia\n",
    "categorial_numeric_encoding('condition_blood_loss_anemia', raw_name='blood_loss_anemia')"
   ]
  },
  {
   "cell_type": "code",
   "execution_count": null,
   "metadata": {},
   "outputs": [],
   "source": [
    "# Condition: Deficiency Anemia\n",
    "categorial_numeric_encoding('condition_deficiency_anemia', raw_name='deficiency_anemia')"
   ]
  },
  {
   "cell_type": "code",
   "execution_count": null,
   "metadata": {},
   "outputs": [],
   "source": [
    "# Condition: Alcohol Abuse\n",
    "categorial_numeric_encoding('condition_alcohol_abuse', raw_name='alcohol_abuse')"
   ]
  },
  {
   "cell_type": "code",
   "execution_count": null,
   "metadata": {},
   "outputs": [],
   "source": [
    "# Condition: Drug Abuse\n",
    "categorial_numeric_encoding('condition_drug_abuse', raw_name='drug_abuse')"
   ]
  },
  {
   "cell_type": "code",
   "execution_count": null,
   "metadata": {},
   "outputs": [],
   "source": [
    "# Condition: Psychoses\n",
    "categorial_numeric_encoding('condition_psychoses', raw_name='psychoses')"
   ]
  },
  {
   "cell_type": "code",
   "execution_count": null,
   "metadata": {},
   "outputs": [],
   "source": [
    "# Condition: Depression\n",
    "categorial_numeric_encoding('condition_depression', raw_name='depression')"
   ]
  },
  {
   "cell_type": "code",
   "execution_count": null,
   "metadata": {},
   "outputs": [],
   "source": [
    "# Condition: Coronary Heart Disease\n",
    "categorial_numeric_encoding('condition_coronary_heart_disease', raw_name='khk')"
   ]
  },
  {
   "cell_type": "code",
   "execution_count": null,
   "metadata": {},
   "outputs": [],
   "source": [
    "# Condition: Chronic Pancreatitis\n",
    "categorial_numeric_encoding('condition_chronic_pancreatitis', raw_name='chronic_pancreatitis')"
   ]
  },
  {
   "cell_type": "markdown",
   "metadata": {},
   "source": [
    "### Surgery"
   ]
  },
  {
   "cell_type": "code",
   "execution_count": null,
   "metadata": {},
   "outputs": [],
   "source": [
    "# Surgery: Primary System\n",
    "categorial_one_hot_encoding('surgery_primary_system', raw_name='organ_system', mapping={'Esophagus': 'esophagus', 'Gastric': 'stomach', 'Colorectal': 'intestine', 'Small_intestine': 'intestine', 'Liver': 'liver', 'Pancreas': 'pancreas'}, not_supported=['Other_organ_system', 'Transplant'])"
   ]
  },
  {
   "cell_type": "code",
   "execution_count": null,
   "metadata": {},
   "outputs": [],
   "source": [
    "# Surgery: System Esophagus\n",
    "categorial_numeric_encoding('surgery_system_esophagus', raw_name='surgery_system_esophagus')"
   ]
  },
  {
   "cell_type": "code",
   "execution_count": null,
   "metadata": {},
   "outputs": [],
   "source": [
    "# Surgery: System Stomach\n",
    "categorial_numeric_encoding('surgery_system_stomach', raw_name='surgery_system_stomach')"
   ]
  },
  {
   "cell_type": "code",
   "execution_count": null,
   "metadata": {},
   "outputs": [],
   "source": [
    "# Surgery: System Intestine\n",
    "categorial_numeric_encoding('surgery_system_intestine', raw_name='surgery_system_intestine')"
   ]
  },
  {
   "cell_type": "code",
   "execution_count": null,
   "metadata": {},
   "outputs": [],
   "source": [
    "# Surgery: System Liver\n",
    "categorial_numeric_encoding('surgery_system_liver', raw_name='surgery_system_liver')"
   ]
  },
  {
   "cell_type": "code",
   "execution_count": null,
   "metadata": {},
   "outputs": [],
   "source": [
    "# Surgery: System Pancreas\n",
    "categorial_numeric_encoding('surgery_system_pancreas', raw_name='surgery_system_pancreas')"
   ]
  },
  {
   "cell_type": "code",
   "execution_count": null,
   "metadata": {},
   "outputs": [],
   "source": [
    "# Surgery: System Count\n",
    "numeric('surgery_system_count', raw_name='surgery_system_count', min=1, max=5)"
   ]
  },
  {
   "cell_type": "code",
   "execution_count": null,
   "metadata": {},
   "outputs": [],
   "source": [
    "# Surgery: Urgency\n",
    "categorial_numeric_encoding('surgery_urgency', raw_name='urgency')"
   ]
  },
  {
   "cell_type": "code",
   "execution_count": null,
   "metadata": {},
   "outputs": [],
   "source": [
    "# Surgery: Follow Up\n",
    "categorial_numeric_encoding('surgery_follow_up', raw_name='previous_op')"
   ]
  },
  {
   "cell_type": "code",
   "execution_count": null,
   "metadata": {},
   "outputs": [],
   "source": [
    "# Surgery: Month\n",
    "raw['surgery_month'] = data['meta_incision'].copy().dt.month\n",
    "categorial_numeric_encoding('surgery_month', raw_name='surgery_month')"
   ]
  },
  {
   "cell_type": "code",
   "execution_count": null,
   "metadata": {},
   "outputs": [],
   "source": [
    "# Surgery: Weekday\n",
    "raw['surgery_weekday'] = data['meta_incision'].copy().dt.weekday\n",
    "categorial_numeric_encoding('surgery_weekday', raw_name='surgery_weekday')"
   ]
  },
  {
   "cell_type": "code",
   "execution_count": null,
   "metadata": {},
   "outputs": [],
   "source": [
    "# Surgery: Daytime\n",
    "raw['surgery_daytime'] = data['meta_incision'].copy().dt.hour\n",
    "raw['surgery_daytime'] = raw['surgery_daytime'].apply(lambda x: 0 if (x >= 0 and x < 6) else x)\n",
    "raw['surgery_daytime'] = raw['surgery_daytime'].apply(lambda x: 1 if (x >= 6 and x < 14) else x)\n",
    "raw['surgery_daytime'] = raw['surgery_daytime'].apply(lambda x: 2 if (x >= 14 and x < 22) else x)\n",
    "raw['surgery_daytime'] = raw['surgery_daytime'].apply(lambda x: 0 if (x >= 22 and x < 24) else x)\n",
    "categorial_numeric_encoding('surgery_daytime', raw_name='surgery_daytime')"
   ]
  },
  {
   "cell_type": "code",
   "execution_count": null,
   "metadata": {},
   "outputs": [],
   "source": [
    "# Surgery: Hour\n",
    "raw['surgery_hour'] = data['meta_incision'].copy().dt.hour\n",
    "categorial_numeric_encoding('surgery_hour', raw_name='surgery_hour')"
   ]
  },
  {
   "cell_type": "code",
   "execution_count": null,
   "metadata": {},
   "outputs": [],
   "source": [
    "# Surgery: Mean Monthly Temperature\n",
    "raw['MittlereTemp.[°C]'] = raw['MittlereTemp.[°C]'].str.replace(',', '.')\n",
    "numeric('surgery_mean_monthly_temperature', raw_name='MittlereTemp.[°C]')"
   ]
  },
  {
   "cell_type": "code",
   "execution_count": null,
   "metadata": {},
   "outputs": [],
   "source": [
    "# Surgery: Minimum Monthly Temperature\n",
    "raw['MinimumTemp.[°C]'] = raw['MinimumTemp.[°C]'].str.replace(',', '.')\n",
    "numeric('surgery_minimum_monthly_temperature', raw_name='MinimumTemp.[°C]')"
   ]
  },
  {
   "cell_type": "code",
   "execution_count": null,
   "metadata": {},
   "outputs": [],
   "source": [
    "# Surgery: Maximum Monthly Temperature\n",
    "raw['MaximumTemp.[°C]'] = raw['MaximumTemp.[°C]'].str.replace(',', '.')\n",
    "numeric('surgery_maximum_monthly_temperature', raw_name='MaximumTemp.[°C]')"
   ]
  },
  {
   "cell_type": "code",
   "execution_count": null,
   "metadata": {},
   "outputs": [],
   "source": [
    "# Surgery: Monthly Precipitation\n",
    "raw['Nieder-schlag[l/m2]'] = raw['Nieder-schlag[l/m2]'].str.replace(',', '.')\n",
    "numeric('surgery_monthly_precipitation', raw_name='Nieder-schlag[l/m2]')"
   ]
  },
  {
   "cell_type": "code",
   "execution_count": null,
   "metadata": {},
   "outputs": [],
   "source": [
    "# Surgery: Maximum Daily Precipitation\n",
    "raw['RegenreichsterTag[l/m2]'] = raw['RegenreichsterTag[l/m2]'].str.replace(',', '.')\n",
    "numeric('surgery_maximum_daily_precipitation', raw_name='RegenreichsterTag[l/m2]')"
   ]
  },
  {
   "cell_type": "code",
   "execution_count": null,
   "metadata": {},
   "outputs": [],
   "source": [
    "# Surgery: Monthly Sunshine Hours\n",
    "raw['Sonnen-scheindauer[h]'] = raw['Sonnen-scheindauer[h]'].str.replace(',', '.')\n",
    "numeric('surgery_monthly_sunshine_hours', raw_name='Sonnen-scheindauer[h]')"
   ]
  },
  {
   "cell_type": "code",
   "execution_count": null,
   "metadata": {},
   "outputs": [],
   "source": [
    "# Surgery: Monthly Summer Days\n",
    "numeric('surgery_monthly_summer_days', raw_name='Sommer-tage')"
   ]
  },
  {
   "cell_type": "code",
   "execution_count": null,
   "metadata": {},
   "outputs": [],
   "source": [
    "# Surgery: Monthly Hot Days\n",
    "numeric('surgery_monthly_hot_days', raw_name='HeißeTage')"
   ]
  },
  {
   "cell_type": "code",
   "execution_count": null,
   "metadata": {},
   "outputs": [],
   "source": [
    "# Surgery: Monthly Frost days\n",
    "numeric('surgery_monthly_frost_days', raw_name='Frost-tage')"
   ]
  },
  {
   "cell_type": "code",
   "execution_count": null,
   "metadata": {},
   "outputs": [],
   "source": [
    "# Surgery: Monthly Ice Days\n",
    "numeric('surgery_monthly_ice_days', raw_name='Eis-tage')"
   ]
  },
  {
   "cell_type": "markdown",
   "metadata": {},
   "source": [
    "### Lab"
   ]
  },
  {
   "cell_type": "code",
   "execution_count": null,
   "metadata": {},
   "outputs": [],
   "source": [
    "# Lab: Sodium\n",
    "numeric('lab_sodium', raw_name='pre_op_sodium')"
   ]
  },
  {
   "cell_type": "code",
   "execution_count": null,
   "metadata": {},
   "outputs": [],
   "source": [
    "# Lab: Potassium\n",
    "numeric('lab_potassium', raw_name='pre_op_potassium')"
   ]
  },
  {
   "cell_type": "code",
   "execution_count": null,
   "metadata": {},
   "outputs": [],
   "source": [
    "# Lab: Albumin\n",
    "numeric('lab_albumin', raw_name='pre_op_albumin')"
   ]
  },
  {
   "cell_type": "code",
   "execution_count": null,
   "metadata": {},
   "outputs": [],
   "source": [
    "# Lab: Bilirubin (Direct)\n",
    "numeric('lab_bilirubin_direct', raw_name='pre_op_bilirubin_direct')"
   ]
  },
  {
   "cell_type": "code",
   "execution_count": null,
   "metadata": {},
   "outputs": [],
   "source": [
    "# Lab: Bilirubin (Indirect)\n",
    "numeric('lab_bilirubin_indirect', raw_name='pre_op_bilirubin_indirect')"
   ]
  },
  {
   "cell_type": "code",
   "execution_count": null,
   "metadata": {},
   "outputs": [],
   "source": [
    "# Lab: Bilirubin\n",
    "numeric('lab_bilirubin', raw_name='pre_op_bilirubin_total')"
   ]
  },
  {
   "cell_type": "code",
   "execution_count": null,
   "metadata": {},
   "outputs": [],
   "source": [
    "# Lab: Urea\n",
    "numeric('lab_urea', raw_name='pre_op_urea')"
   ]
  },
  {
   "cell_type": "code",
   "execution_count": null,
   "metadata": {},
   "outputs": [],
   "source": [
    "# Lab: TSH\n",
    "numeric('lab_tsh', raw_name='pre_op_tsh')"
   ]
  },
  {
   "cell_type": "code",
   "execution_count": null,
   "metadata": {},
   "outputs": [],
   "source": [
    "# Lab: ALT\n",
    "numeric('lab_alt', raw_name='pre_op_alt')"
   ]
  },
  {
   "cell_type": "code",
   "execution_count": null,
   "metadata": {},
   "outputs": [],
   "source": [
    "# Lab: AST\n",
    "numeric('lab_ast', raw_name='pre_op_ast')"
   ]
  },
  {
   "cell_type": "code",
   "execution_count": null,
   "metadata": {},
   "outputs": [],
   "source": [
    "# Lab: gGT\n",
    "numeric('lab_ggt', raw_name='pre_op_ggt')"
   ]
  },
  {
   "cell_type": "code",
   "execution_count": null,
   "metadata": {},
   "outputs": [],
   "source": [
    "# Lab: Lipase\n",
    "numeric('lab_lipase', raw_name='pre_op_lipase')"
   ]
  },
  {
   "cell_type": "code",
   "execution_count": null,
   "metadata": {},
   "outputs": [],
   "source": [
    "# Lab: CRP\n",
    "numeric('lab_crp', raw_name='pre_op_crp')"
   ]
  },
  {
   "cell_type": "code",
   "execution_count": null,
   "metadata": {},
   "outputs": [],
   "source": [
    "# Lab: Lactate\n",
    "numeric('lab_lactate', raw_name='pre_op_lactate')"
   ]
  },
  {
   "cell_type": "code",
   "execution_count": null,
   "metadata": {},
   "outputs": [],
   "source": [
    "# Lab: HbA1C\n",
    "numeric('lab_hba1c', raw_name='pre_op_hba1c')"
   ]
  },
  {
   "cell_type": "code",
   "execution_count": null,
   "metadata": {},
   "outputs": [],
   "source": [
    "# Lab: Hemoglobin\n",
    "numeric('lab_hemoglobin', raw_name='pre_op_hemoglobin')"
   ]
  },
  {
   "cell_type": "code",
   "execution_count": null,
   "metadata": {},
   "outputs": [],
   "source": [
    "# Lab: WBC\n",
    "numeric('lab_wbc', raw_name='pre_op_wbc')"
   ]
  },
  {
   "cell_type": "code",
   "execution_count": null,
   "metadata": {},
   "outputs": [],
   "source": [
    "# Lab: Platelets\n",
    "numeric('lab_platelets', raw_name='pre_op_platelets')"
   ]
  },
  {
   "cell_type": "code",
   "execution_count": null,
   "metadata": {},
   "outputs": [],
   "source": [
    "# Lab: Hematocrit\n",
    "numeric('lab_hematocrit', raw_name='pre_op_hematocrit')"
   ]
  },
  {
   "cell_type": "code",
   "execution_count": null,
   "metadata": {},
   "outputs": [],
   "source": [
    "# Lab: Prothrombin Time\n",
    "numeric('lab_prothrombin_time', raw_name='pre_op_prothrombin_time')"
   ]
  },
  {
   "cell_type": "code",
   "execution_count": null,
   "metadata": {},
   "outputs": [],
   "source": [
    "# Lab: INR\n",
    "numeric('lab_inr', raw_name='pre_op_inr')"
   ]
  },
  {
   "cell_type": "code",
   "execution_count": null,
   "metadata": {},
   "outputs": [],
   "source": [
    "# Lab: aPTT\n",
    "numeric('lab_aptt', raw_name='pre_op_aptt')"
   ]
  },
  {
   "cell_type": "code",
   "execution_count": null,
   "metadata": {},
   "outputs": [],
   "source": [
    "# Lab: RBC\n",
    "numeric('lab_rbc', raw_name='pre_op_erythrocytes', min=0)"
   ]
  },
  {
   "cell_type": "code",
   "execution_count": null,
   "metadata": {},
   "outputs": [],
   "source": [
    "# Lab: Creatinine\n",
    "numeric('lab_creatinine', raw_name='pre_op_creatinine')"
   ]
  },
  {
   "cell_type": "code",
   "execution_count": null,
   "metadata": {},
   "outputs": [],
   "source": [
    "# Lab: Glucose\n",
    "numeric('lab_glucose', raw_name='pre_op_glucose')"
   ]
  },
  {
   "cell_type": "code",
   "execution_count": null,
   "metadata": {},
   "outputs": [],
   "source": [
    "# Lab: Alpha Fetoprotein\n",
    "numeric('lab_alpha_fetoprotein', raw_name='pre_op_alpha-fetoprotein')"
   ]
  },
  {
   "cell_type": "code",
   "execution_count": null,
   "metadata": {},
   "outputs": [],
   "source": [
    "# Lab: CA 19-9\n",
    "numeric('lab_ca_19_9', raw_name='pre_op_ca_19-9')"
   ]
  },
  {
   "cell_type": "code",
   "execution_count": null,
   "metadata": {},
   "outputs": [],
   "source": [
    "# Lab: CA 125\n",
    "numeric('lab_ca_125', raw_name='pre_op_ca_125')"
   ]
  },
  {
   "cell_type": "code",
   "execution_count": null,
   "metadata": {},
   "outputs": [],
   "source": [
    "# Lab: CEA\n",
    "numeric('lab_cea', raw_name='pre_op_cea')"
   ]
  },
  {
   "cell_type": "code",
   "execution_count": null,
   "metadata": {},
   "outputs": [],
   "source": [
    "# Lab: BGA (pH)\n",
    "numeric('lab_abg_ph', raw_name='pre_op_abg_ph')"
   ]
  },
  {
   "cell_type": "code",
   "execution_count": null,
   "metadata": {},
   "outputs": [],
   "source": [
    "# Lab: BGA (Base Excess)\n",
    "numeric('lab_bga_be', raw_name='pre_op_abg_base_excess')"
   ]
  },
  {
   "cell_type": "code",
   "execution_count": null,
   "metadata": {},
   "outputs": [],
   "source": [
    "# Lab: BGA (Bicarbonate)\n",
    "numeric('lab_bga_bicarbonate', raw_name='pre_op_abg_bicarbonate')"
   ]
  },
  {
   "cell_type": "markdown",
   "metadata": {},
   "source": [
    "## Target"
   ]
  },
  {
   "cell_type": "code",
   "execution_count": null,
   "metadata": {},
   "outputs": [],
   "source": [
    "# Target: 30 Day Mortality\n",
    "categorial_numeric_encoding('target_30_day_mortality', raw_name='30_day_mortality')"
   ]
  },
  {
   "cell_type": "code",
   "execution_count": null,
   "metadata": {},
   "outputs": [],
   "source": [
    "# Target: 90 Day Mortality\n",
    "categorial_numeric_encoding('target_90_day_mortality', raw_name='90_day_mortality')"
   ]
  },
  {
   "cell_type": "code",
   "execution_count": null,
   "metadata": {},
   "outputs": [],
   "source": [
    "# Target: Clavien Dindo 5\n",
    "# categorial_numeric_encoding('target_clavien_dindo_5', raw_name='clavien_dindo_v')"
   ]
  },
  {
   "cell_type": "code",
   "execution_count": null,
   "metadata": {},
   "outputs": [],
   "source": [
    "# Target: Deceased after Discharge\n",
    "# categorial_numeric_encoding('target_deceased_after_discharge', raw_name='deceased_after_discharge')"
   ]
  },
  {
   "cell_type": "code",
   "execution_count": null,
   "metadata": {},
   "outputs": [],
   "source": [
    "# Target: Acute Myocardial Infarction\n",
    "# categorial_numeric_encoding('target_acute_myocardial_infarction', raw_name='acute_myocardial_infarction')"
   ]
  },
  {
   "cell_type": "code",
   "execution_count": null,
   "metadata": {},
   "outputs": [],
   "source": [
    "# Target: Pulmonary Embolism\n",
    "# categorial_numeric_encoding('target_pulmonary embolism', raw_name='pulmonary_embolism')"
   ]
  },
  {
   "cell_type": "code",
   "execution_count": null,
   "metadata": {},
   "outputs": [],
   "source": [
    "# Target: Septic Shock\n",
    "# categorial_numeric_encoding('target_septic_shock', raw_name='setic_shock')"
   ]
  },
  {
   "cell_type": "code",
   "execution_count": null,
   "metadata": {},
   "outputs": [],
   "source": [
    "# Target: Pneumonia\n",
    "# categorial_numeric_encoding('target_pneumonia', raw_name='pneumonia')"
   ]
  },
  {
   "cell_type": "code",
   "execution_count": null,
   "metadata": {},
   "outputs": [],
   "source": [
    "# Target: Liver Failure\n",
    "# categorial_numeric_encoding('target_liver_failure', raw_name='liver_failure')"
   ]
  },
  {
   "cell_type": "code",
   "execution_count": null,
   "metadata": {},
   "outputs": [],
   "source": [
    "# Target: Cardiogenic Shock\n",
    "# categorial_numeric_encoding('target_cardiogenic_shock', raw_name='cardiogenic_shock')"
   ]
  },
  {
   "cell_type": "code",
   "execution_count": null,
   "metadata": {},
   "outputs": [],
   "source": [
    "# Target: Acute Pancreatitis\n",
    "# categorial_numeric_encoding('target_acute_pancreatitis', raw_name='acute_pancreatitis')"
   ]
  },
  {
   "cell_type": "code",
   "execution_count": null,
   "metadata": {},
   "outputs": [],
   "source": [
    "# Target: Anastomotic Leackage\n",
    "# categorial_numeric_encoding('target_anastomotic_leackage', raw_name='anastomotic_leackage')"
   ]
  },
  {
   "cell_type": "markdown",
   "metadata": {},
   "source": [
    "# Process"
   ]
  },
  {
   "cell_type": "code",
   "execution_count": null,
   "metadata": {},
   "outputs": [],
   "source": [
    "data = data[data['meta_follow_up'] == 0]\n",
    "data"
   ]
  },
  {
   "cell_type": "markdown",
   "metadata": {},
   "source": [
    "## Inclusion Criteria"
   ]
  },
  {
   "cell_type": "code",
   "execution_count": null,
   "metadata": {},
   "outputs": [],
   "source": [
    "# Year\n",
    "data = data[data['meta_year'].notna()]\n",
    "data"
   ]
  },
  {
   "cell_type": "code",
   "execution_count": null,
   "metadata": {},
   "outputs": [],
   "source": [
    "# System\n",
    "data = data[data['meta_system'].notna()]\n",
    "data"
   ]
  },
  {
   "cell_type": "code",
   "execution_count": null,
   "metadata": {},
   "outputs": [],
   "source": [
    "# OPS\n",
    "data = data[data['meta_ops'] == 1]\n",
    "data"
   ]
  },
  {
   "cell_type": "code",
   "execution_count": null,
   "metadata": {},
   "outputs": [],
   "source": [
    "# Age\n",
    "data = data[data['meta_age'] >= 18]\n",
    "data"
   ]
  },
  {
   "cell_type": "markdown",
   "metadata": {},
   "source": [
    "## Column Management"
   ]
  },
  {
   "cell_type": "code",
   "execution_count": null,
   "metadata": {},
   "outputs": [],
   "source": [
    "center0 = data[data['meta_center'] == 0]\n",
    "for column in center0.columns:\n",
    "    if column == 'meta_center': continue\n",
    "    if center0[column].nunique() <= 1:\n",
    "        data.drop(column, axis=1, inplace=True)\n",
    "        print(column)\n",
    "\n",
    "data"
   ]
  },
  {
   "cell_type": "code",
   "execution_count": null,
   "metadata": {},
   "outputs": [],
   "source": [
    "completeness = data.count() / len(data) * 100\n",
    "completeness = completeness.apply(lambda x: round(x / 10) * 10)\n",
    "completeness = completeness.value_counts().sort_index()\n",
    "completeness.plot.bar()"
   ]
  },
  {
   "cell_type": "code",
   "execution_count": null,
   "metadata": {},
   "outputs": [],
   "source": [
    "center0 = data[data['meta_center'] == 0]\n",
    "for column in center0.columns:\n",
    "    if center0[column].isna().sum() / len(center0) > 0.5:\n",
    "        data.drop(column, axis=1, inplace=True)\n",
    "        print(column)\n",
    "\n",
    "data"
   ]
  },
  {
   "cell_type": "markdown",
   "metadata": {},
   "source": [
    "## Exclusion Criteria"
   ]
  },
  {
   "cell_type": "code",
   "execution_count": null,
   "metadata": {},
   "outputs": [],
   "source": [
    "# Urgency\n",
    "data = data[data['meta_urgency'] >= 4]\n",
    "data"
   ]
  },
  {
   "cell_type": "code",
   "execution_count": null,
   "metadata": {},
   "outputs": [],
   "source": [
    "# 30 Day Mortality\n",
    "data = data[data['target_30_day_mortality'].notna()]\n",
    "data"
   ]
  },
  {
   "cell_type": "code",
   "execution_count": null,
   "metadata": {},
   "outputs": [],
   "source": [
    "# 90 Day Mortality\n",
    "data = data[data['target_90_day_mortality'].notna()]\n",
    "data"
   ]
  },
  {
   "cell_type": "code",
   "execution_count": null,
   "metadata": {},
   "outputs": [],
   "source": [
    "# Visualize the completeness of the different cases.\n",
    "completeness = data.count(axis=1) / len(data.columns) * 100\n",
    "completeness = completeness.apply(lambda x: round(x / 10) * 10)\n",
    "completeness = completeness.value_counts().sort_index()\n",
    "completeness.plot.bar()"
   ]
  },
  {
   "cell_type": "code",
   "execution_count": null,
   "metadata": {},
   "outputs": [],
   "source": [
    "# 75% Completeness\n",
    "data.dropna(thresh=len(data.columns) * 0.75, inplace=True)\n",
    "data"
   ]
  },
  {
   "cell_type": "markdown",
   "metadata": {},
   "source": [
    "## Management"
   ]
  },
  {
   "cell_type": "code",
   "execution_count": null,
   "metadata": {},
   "outputs": [],
   "source": [
    "# Sort\n",
    "data.sort_values(by=['meta_incision'], inplace=True)\n",
    "data"
   ]
  },
  {
   "cell_type": "code",
   "execution_count": null,
   "metadata": {},
   "outputs": [],
   "source": [
    "# Duplicates\n",
    "data.drop_duplicates(subset='meta_case', inplace=True)\n",
    "data"
   ]
  },
  {
   "cell_type": "code",
   "execution_count": null,
   "metadata": {},
   "outputs": [],
   "source": [
    "# Create Dummy Features for One Hot Encoding for all columns not being numeric\n",
    "data = pd.get_dummies(data, dummy_na=False)\n",
    "data"
   ]
  },
  {
   "cell_type": "markdown",
   "metadata": {},
   "source": [
    "# Export"
   ]
  },
  {
   "cell_type": "code",
   "execution_count": null,
   "metadata": {},
   "outputs": [],
   "source": [
    "data.to_csv('4_clean.csv', index = False)\n",
    "data"
   ]
  },
  {
   "cell_type": "code",
   "execution_count": null,
   "metadata": {},
   "outputs": [],
   "source": [
    "completeness: pd.DataFrame = pd.DataFrame(columns=['column', 'count', 'percentage'])\n",
    "for column in data.columns:\n",
    "    data_total = data[column]\n",
    "    data_training = data[data['meta_center'] == 0][column]\n",
    "    data_validation = data[data['meta_center'] == 1][column]\n",
    "\n",
    "    completeness = completeness.append({\n",
    "        'column': column, \n",
    "        'count': data_total.count(), \n",
    "        'data_percentage': round(data_total.count() / len(data_total) * 100, 2),\n",
    "        'training_percentage': round(data_training.count() / len(data_training) * 100, 2),\n",
    "        'validation_percentage': round(data_validation.count() / len(data_validation) * 100, 2)\n",
    "    }, ignore_index=True)\n",
    "\n",
    "completeness.to_csv('5_analysis.csv')\n",
    "completeness"
   ]
  }
 ],
 "metadata": {
  "kernelspec": {
   "display_name": "base",
   "language": "python",
   "name": "python3"
  },
  "language_info": {
   "codemirror_mode": {
    "name": "ipython",
    "version": 3
   },
   "file_extension": ".py",
   "mimetype": "text/x-python",
   "name": "python",
   "nbconvert_exporter": "python",
   "pygments_lexer": "ipython3",
   "version": "3.9.7"
  },
  "orig_nbformat": 4
 },
 "nbformat": 4,
 "nbformat_minor": 2
}
