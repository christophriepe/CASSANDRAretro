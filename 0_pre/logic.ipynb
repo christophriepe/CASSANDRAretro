{
 "cells": [
  {
   "attachments": {},
   "cell_type": "markdown",
   "metadata": {},
   "source": [
    "# Import"
   ]
  },
  {
   "cell_type": "code",
   "execution_count": null,
   "metadata": {},
   "outputs": [],
   "source": [
    "import pandas as pd"
   ]
  },
  {
   "attachments": {},
   "cell_type": "markdown",
   "metadata": {},
   "source": [
    "# Logic"
   ]
  },
  {
   "cell_type": "code",
   "execution_count": null,
   "metadata": {},
   "outputs": [],
   "source": [
    "def numeric(series: pd.Series) -> pd.Series:\n",
    "    series = series.astype(pd.Int64Dtype())\n",
    "\n",
    "    print('Completeness:', round(series.count() / len(series) * 100, 2), '%')\n",
    "    print(series.describe())\n",
    "\n",
    "    return series.astype('Int64')"
   ]
  },
  {
   "cell_type": "code",
   "execution_count": null,
   "metadata": {},
   "outputs": [],
   "source": [
    "def categorial_numeric_encoding(series: pd.Series) -> pd.Series:\n",
    "    unique = series.unique()\n",
    "    unique = unique[~pd.isna(unique)]\n",
    "\n",
    "    try: unique = sorted(unique)\n",
    "    except TypeError: pass\n",
    "\n",
    "    print('Completeness:', round(series.count() / len(series) * 100, 2), '%')\n",
    "\n",
    "    i = 0\n",
    "    for value in unique:\n",
    "        series = series.replace(value, i)\n",
    "        print(i, value, round((series == i).sum() / len(series) * 100, 2), '%')\n",
    "\n",
    "        i += 1\n",
    "\n",
    "    return series.astype('Int64')"
   ]
  },
  {
   "cell_type": "code",
   "execution_count": null,
   "metadata": {},
   "outputs": [],
   "source": [
    "def categorial_one_hot_encoding(data: pd.DataFrame, series: pd.Series) -> pd.DataFrame:\n",
    "    unique = series.unique()\n",
    "    unique = unique[~pd.isna(unique)]\n",
    "\n",
    "    try: unique = sorted(unique)\n",
    "    except TypeError: pass\n",
    "\n",
    "    print('Completeness:', round(series.count() / len(series) * 100, 2), '%')\n",
    "\n",
    "    for value in unique:\n",
    "        data[f'{series.name}_{value}'] = (series == value).astype('Int64')\n",
    "\n",
    "    return data"
   ]
  },
  {
   "cell_type": "code",
   "execution_count": null,
   "metadata": {},
   "outputs": [],
   "source": [
    "def timestamp(series: pd.Series) -> pd.Series:\n",
    "    o = pd.to_datetime(series.copy(), format='%Y%m%d%H%M%S')\n",
    "\n",
    "    print(f\"Completeness: {o.notnull().mean():.2%}\")\n",
    "\n",
    "    return o"
   ]
  },
  {
   "attachments": {},
   "cell_type": "markdown",
   "metadata": {},
   "source": [
    "# Load"
   ]
  },
  {
   "cell_type": "code",
   "execution_count": null,
   "metadata": {},
   "outputs": [],
   "source": [
    "general_data = pd.DataFrame()"
   ]
  },
  {
   "cell_type": "code",
   "execution_count": null,
   "metadata": {},
   "outputs": [],
   "source": [
    "data = pd.read_excel('5_1_raw.xlsx')\n",
    "data"
   ]
  },
  {
   "attachments": {},
   "cell_type": "markdown",
   "metadata": {},
   "source": [
    "# Clean"
   ]
  },
  {
   "attachments": {},
   "cell_type": "markdown",
   "metadata": {},
   "source": [
    "## Meta"
   ]
  },
  {
   "cell_type": "code",
   "execution_count": null,
   "metadata": {},
   "outputs": [],
   "source": [
    "# meta_case_id\n",
    "general_data['meta_case'] = numeric(data['Fallnummer'])"
   ]
  },
  {
   "cell_type": "code",
   "execution_count": null,
   "metadata": {},
   "outputs": [],
   "source": [
    "# meta_patient_id\n",
    "general_data['meta_patient'] = numeric(data['PatientenID'])"
   ]
  },
  {
   "cell_type": "code",
   "execution_count": null,
   "metadata": {},
   "outputs": [],
   "source": [
    "# meta_surgery_id\n",
    "general_data['meta_surgery'] = numeric(data['OPNummer'])"
   ]
  },
  {
   "cell_type": "code",
   "execution_count": null,
   "metadata": {},
   "outputs": [],
   "source": [
    "# meta_year\n",
    "year_data = data['OP_Schnitt'].copy().dt.year\n",
    "general_data['meta_year'] = categorial_numeric_encoding(year_data)"
   ]
  },
  {
   "cell_type": "code",
   "execution_count": null,
   "metadata": {},
   "outputs": [],
   "source": [
    "# meta_system\n",
    "systemData = data['Organsysteme'].copy().replace({ 'Esophagus': 0, 'Magen': 1, 'Kolorektal': 2, 'Leber': 3, 'Pankreas': 4, 'Transplant': pd.NA })\n",
    "general_data['meta_system'] = categorial_numeric_encoding(systemData)"
   ]
  },
  {
   "cell_type": "code",
   "execution_count": null,
   "metadata": {},
   "outputs": [],
   "source": [
    "# meta_ops\n",
    "ops = pd.read_csv('../3_ops/3_1_ops.csv')\n",
    "ops_data = data['OPSCode'].copy().apply(lambda x: x[0 : 5])\n",
    "\n",
    "for i in ops_data.unique():\n",
    "    if i in ops['ops'].unique():\n",
    "        ops_data[ops_data == i] = ops[ops['ops'] == i].index[0]\n",
    "    else:\n",
    "        ops_data[ops_data == i] = pd.NA\n",
    "\n",
    "general_data['meta_ops'] = numeric(ops_data)"
   ]
  },
  {
   "cell_type": "code",
   "execution_count": null,
   "metadata": {},
   "outputs": [],
   "source": [
    "# meta_campus\n",
    "campus_data = data['Campus'].copy().replace({ 'CCM': 0, 'CVK': 1, 'CBF': pd.NA })\n",
    "general_data['meta_campus'] = categorial_numeric_encoding(campus_data)"
   ]
  },
  {
   "cell_type": "code",
   "execution_count": null,
   "metadata": {},
   "outputs": [],
   "source": [
    "# meta_admission_ts\n",
    "general_data['meta_admission_ts'] = timestamp(data['Aufnahme'])"
   ]
  },
  {
   "cell_type": "code",
   "execution_count": null,
   "metadata": {},
   "outputs": [],
   "source": [
    "# meta_discharge_ts\n",
    "general_data['meta_discharge_ts'] = timestamp(data['Entlassung'])"
   ]
  },
  {
   "cell_type": "code",
   "execution_count": null,
   "metadata": {},
   "outputs": [],
   "source": [
    "# meta_incision_ts\n",
    "general_data['meta_incision_ts'] = timestamp(data['OP_Schnitt'])"
   ]
  },
  {
   "cell_type": "code",
   "execution_count": null,
   "metadata": {},
   "outputs": [],
   "source": [
    "# meta_suture_ts\n",
    "general_data['meta_suture_ts'] = timestamp(data['OP_Naht'])"
   ]
  },
  {
   "cell_type": "code",
   "execution_count": null,
   "metadata": {},
   "outputs": [],
   "source": [
    "# meta_icu_admission_ts\n",
    "general_data['meta_icu_admission_ts'] = timestamp(data['Primary_ICU_Stay_from'])"
   ]
  },
  {
   "cell_type": "code",
   "execution_count": null,
   "metadata": {},
   "outputs": [],
   "source": [
    "# meta_icu_discharge_ts\n",
    "general_data['meta_icu_discharge_ts'] = timestamp(data['Primary_ICU_Stay_until'])"
   ]
  },
  {
   "cell_type": "code",
   "execution_count": null,
   "metadata": {},
   "outputs": [],
   "source": [
    "# meta_follow_up_ts\n",
    "general_data['meta_follow_up_ts'] = timestamp(data['FollowUp_Date'])"
   ]
  },
  {
   "attachments": {},
   "cell_type": "markdown",
   "metadata": {},
   "source": [
    "## Features"
   ]
  },
  {
   "attachments": {},
   "cell_type": "markdown",
   "metadata": {},
   "source": [
    "### General"
   ]
  },
  {
   "cell_type": "code",
   "execution_count": null,
   "metadata": {},
   "outputs": [],
   "source": [
    "# gender\n",
    "general_data['gender'] = categorial_numeric_encoding(data['Geschlecht'])"
   ]
  },
  {
   "cell_type": "code",
   "execution_count": null,
   "metadata": {},
   "outputs": [],
   "source": [
    "# age\n",
    "general_data['age'] = numeric(data['AgetAtSurgery'])"
   ]
  },
  {
   "cell_type": "code",
   "execution_count": null,
   "metadata": {},
   "outputs": [],
   "source": [
    "# height\n",
    "general_data['height'] = numeric(data['Groesse'])"
   ]
  },
  {
   "cell_type": "code",
   "execution_count": null,
   "metadata": {},
   "outputs": [],
   "source": [
    "# weight\n",
    "general_data['weight'] = numeric(data['Gewicht'])"
   ]
  },
  {
   "cell_type": "code",
   "execution_count": null,
   "metadata": {},
   "outputs": [],
   "source": [
    "# bmi\n",
    "general_data['bmi'] = numeric(data['BMI'])"
   ]
  },
  {
   "cell_type": "code",
   "execution_count": null,
   "metadata": {},
   "outputs": [],
   "source": [
    "# asa\n",
    "general_data['asa'] = numeric(data['ASA'])"
   ]
  },
  {
   "cell_type": "code",
   "execution_count": null,
   "metadata": {},
   "outputs": [],
   "source": [
    "# jones\n",
    "general_data['jones'] = numeric(data['Jones'])"
   ]
  },
  {
   "cell_type": "code",
   "execution_count": null,
   "metadata": {},
   "outputs": [],
   "source": [
    "# ecog\n",
    "general_data['ecog'] = numeric(data['ECOG'])"
   ]
  },
  {
   "cell_type": "code",
   "execution_count": null,
   "metadata": {},
   "outputs": [],
   "source": [
    "# functional_status\n",
    "general_data['functional_status'] = categorial_numeric_encoding(data['Functional_status'])"
   ]
  },
  {
   "cell_type": "code",
   "execution_count": null,
   "metadata": {},
   "outputs": [],
   "source": [
    "# charlson_comorbidity_score\n",
    "general_data['charlson_comorbidity_score'] = numeric(data['CharlsonComorbidityScore'])"
   ]
  },
  {
   "attachments": {},
   "cell_type": "markdown",
   "metadata": {},
   "source": [
    "### Conditions"
   ]
  },
  {
   "cell_type": "code",
   "execution_count": null,
   "metadata": {},
   "outputs": [],
   "source": [
    "# condition_myocardial_infarction\n",
    "general_data['condition_myocardial_infarction'] = categorial_numeric_encoding(data['Myocardial_infarction'])"
   ]
  },
  {
   "cell_type": "code",
   "execution_count": null,
   "metadata": {},
   "outputs": [],
   "source": [
    "# condition_congestive_heart_failure\n",
    "general_data['condition_congestive_heart_failure'] = categorial_numeric_encoding(data['Congestive_heart_failure'])"
   ]
  },
  {
   "cell_type": "code",
   "execution_count": null,
   "metadata": {},
   "outputs": [],
   "source": [
    "# condition_peripheral_vascular_disease\n",
    "general_data['condition_peripheral_vascular_disease'] = categorial_numeric_encoding(data['Peripheral_vascular_disease'])"
   ]
  },
  {
   "cell_type": "code",
   "execution_count": null,
   "metadata": {},
   "outputs": [],
   "source": [
    "# condition_cerebrovascular_disease\n",
    "general_data['condition_cerebrovascular_disease'] = categorial_numeric_encoding(data['Cerebrovascular_disease'])"
   ]
  },
  {
   "cell_type": "code",
   "execution_count": null,
   "metadata": {},
   "outputs": [],
   "source": [
    "# condition_dementia\n",
    "general_data['condition_dementia'] = categorial_numeric_encoding(data['Dementia'])"
   ]
  },
  {
   "cell_type": "code",
   "execution_count": null,
   "metadata": {},
   "outputs": [],
   "source": [
    "# condition_chronic_pulmonary_disease\n",
    "general_data['condition_chronic_pulmonary_disease'] = categorial_numeric_encoding(data['Chronic_pulmonary_disease'])"
   ]
  },
  {
   "cell_type": "code",
   "execution_count": null,
   "metadata": {},
   "outputs": [],
   "source": [
    "# condition_rheumatic_disease\n",
    "general_data['condition_rheumatic_disease'] = categorial_numeric_encoding(data['Rheumatic_disease'])"
   ]
  },
  {
   "cell_type": "code",
   "execution_count": null,
   "metadata": {},
   "outputs": [],
   "source": [
    "# condition_peptic_ulcer_disease\n",
    "general_data['condition_peptic_ulcer_disease'] = categorial_numeric_encoding(data['Peptic_ulcer_disease'])"
   ]
  },
  {
   "cell_type": "code",
   "execution_count": null,
   "metadata": {},
   "outputs": [],
   "source": [
    "# condition_liver_disease_mild\n",
    "liver_disease_mild = data['Liver_disease_mild']\n",
    "general_data['condition_liver_disease_mild'] = categorial_numeric_encoding(liver_disease_mild)"
   ]
  },
  {
   "cell_type": "code",
   "execution_count": null,
   "metadata": {},
   "outputs": [],
   "source": [
    "# condition_liver_disease_moderate_to_severe\n",
    "liver_disease_moderate_to_severe = data['Liver_disease_moderate_to_severe']\n",
    "general_data['condition_liver_disease_moderate_to_severe'] = categorial_numeric_encoding(liver_disease_moderate_to_severe)"
   ]
  },
  {
   "cell_type": "code",
   "execution_count": null,
   "metadata": {},
   "outputs": [],
   "source": [
    "# condition_diabetes_without_chronic_complications\n",
    "diabetes_without_chronic_complications = data['Diabetes_without_chronic_complications']\n",
    "general_data['condition_diabetes_without_chronic_complications'] = categorial_numeric_encoding(diabetes_without_chronic_complications)"
   ]
  },
  {
   "cell_type": "code",
   "execution_count": null,
   "metadata": {},
   "outputs": [],
   "source": [
    "# condition_diabetes_with_chronic_complications\n",
    "diabetes_with_chronic_complications = data['Diabetes_with_chronic_complications']\n",
    "general_data['condition_diabetes_with_chronic_complications'] = categorial_numeric_encoding(diabetes_with_chronic_complications)"
   ]
  },
  {
   "cell_type": "code",
   "execution_count": null,
   "metadata": {},
   "outputs": [],
   "source": [
    "# condition_renal_disease_mild_to_moderate\n",
    "renal_disease_mild_to_moderate = data['Renal_disease_mild_to_moderate']\n",
    "general_data['condition_renal_disease_mild_to_moderate'] = categorial_numeric_encoding(renal_disease_mild_to_moderate)"
   ]
  },
  {
   "cell_type": "code",
   "execution_count": null,
   "metadata": {},
   "outputs": [],
   "source": [
    "# condition_renal_disease_severe\n",
    "renal_disease_severe = data['Renal_disease_severe']\n",
    "general_data['condition_renal_disease_severe'] = categorial_numeric_encoding(renal_disease_severe)"
   ]
  },
  {
   "cell_type": "code",
   "execution_count": null,
   "metadata": {},
   "outputs": [],
   "source": [
    "# condition_hemiplegia_or_paraplegia\n",
    "general_data['condition_hemiplegia_or_paraplegia'] = categorial_numeric_encoding(data['Hemiplegia_or_paraplegia'])"
   ]
  },
  {
   "cell_type": "code",
   "execution_count": null,
   "metadata": {},
   "outputs": [],
   "source": [
    "# condition_malignancy\n",
    "general_data['condition_malignancy'] = categorial_numeric_encoding(data['Any_malignancy'])"
   ]
  },
  {
   "cell_type": "code",
   "execution_count": null,
   "metadata": {},
   "outputs": [],
   "source": [
    "# condition_metastatic_solid_tumor\n",
    "general_data['condition_metastatic_solid_tumor'] = categorial_numeric_encoding(data['Metastatic_solid_tumor'])"
   ]
  },
  {
   "cell_type": "code",
   "execution_count": null,
   "metadata": {},
   "outputs": [],
   "source": [
    "# condition_hiv_without_aids\n",
    "hiv_without_aids = data['HIV_infection_no_AIDS']\n",
    "general_data['condition_hiv_without_aids'] = categorial_numeric_encoding(hiv_without_aids)"
   ]
  },
  {
   "cell_type": "code",
   "execution_count": null,
   "metadata": {},
   "outputs": [],
   "source": [
    "# condition_aids\n",
    "aids = data['AIDS']\n",
    "general_data['condition_aids'] = categorial_numeric_encoding(aids)"
   ]
  },
  {
   "attachments": {},
   "cell_type": "markdown",
   "metadata": {},
   "source": [
    "### Surgery"
   ]
  },
  {
   "cell_type": "code",
   "execution_count": null,
   "metadata": {},
   "outputs": [],
   "source": [
    "# surgery_year\n",
    "general_data['surgery_year'] = general_data['meta_year'].copy()"
   ]
  },
  {
   "cell_type": "code",
   "execution_count": null,
   "metadata": {},
   "outputs": [],
   "source": [
    "# surgery_system\n",
    "general_data = categorial_one_hot_encoding(general_data, general_data['meta_system'].copy().rename('surgery_system'))"
   ]
  },
  {
   "cell_type": "code",
   "execution_count": null,
   "metadata": {},
   "outputs": [],
   "source": [
    "# surgery_ops\n",
    "general_data = categorial_one_hot_encoding(general_data, general_data['meta_ops'].copy().rename('surgery_ops'))"
   ]
  },
  {
   "cell_type": "code",
   "execution_count": null,
   "metadata": {},
   "outputs": [],
   "source": [
    "# surgery_urgency\n",
    "urgency_data = data['Dringlichkeit'].copy().replace({ 'N0': 0, 'N1': 1, 'N2': 2, 'N3': 3, 'N4': 4, 'N5': 5, 'keine': pd.NA, '<Error>': pd.NA })\n",
    "general_data['surgery_urgency'] = categorial_numeric_encoding(urgency_data)"
   ]
  },
  {
   "cell_type": "code",
   "execution_count": null,
   "metadata": {},
   "outputs": [],
   "source": [
    "# surgery_procedure\n",
    "# general_data['surgery_procedure'] = categorial_numeric_encoding(data['Prozedur'])"
   ]
  },
  {
   "cell_type": "code",
   "execution_count": null,
   "metadata": {},
   "outputs": [],
   "source": [
    "# surgery_approach\n",
    "print('Completeness: ' + str(data['Approach'].notna().sum() / len(data['Approach'])))\n",
    "approach_data = data['Approach'].copy().replace({ 'offen': 'open', 'konvertiert laparoskopisch-offen': 'converted', 'minimalinvasiv': 'minimalinvasive' })\n",
    "approach_data.name = 'surgery_approach'\n",
    "general_data = categorial_one_hot_encoding(general_data, approach_data)"
   ]
  },
  {
   "cell_type": "code",
   "execution_count": null,
   "metadata": {},
   "outputs": [],
   "source": [
    "# surgery_pancreatic_resection\n",
    "print('Completeness: ' + str(data['Art_Pankreasresektion'].notna().sum() / len(data['Art_Pankreasresektion'])))\n",
    "pancreatic_resection_data = data['Art_Pankreasresektion'].copy().replace({ 'keine': pd.NA, 'Pankreadektomie': 'pancreatectomy', 'Kopfresektion': 'head', 'Linksresektion': 'left', 'Beger': 'beger' })\n",
    "pancreatic_resection_data.name = 'surgery_pancreatic_resection'\n",
    "general_data = categorial_one_hot_encoding(general_data, pancreatic_resection_data)"
   ]
  },
  {
   "cell_type": "code",
   "execution_count": null,
   "metadata": {},
   "outputs": [],
   "source": [
    "# surgery_pancreatic_reconstruction\n",
    "general_data['surgery_pancreatic_reconstruction'] = categorial_numeric_encoding(data['Pankreasreko'])"
   ]
  },
  {
   "cell_type": "code",
   "execution_count": null,
   "metadata": {},
   "outputs": [],
   "source": [
    "# surgery_liver_resection\n",
    "print('Completeness: ' + str(data['Art-Leberresektion'].notna().sum() / len(data['Art-Leberresektion'])))\n",
    "liver_resection_data = data['Art-Leberresektion'].copy().replace({ 'keine': pd.NA, 'Minor': 'minor', 'Major': 'major' })\n",
    "liver_resection_data.name = 'surgery_liver_resection'\n",
    "general_data = categorial_one_hot_encoding(general_data, liver_resection_data)"
   ]
  },
  {
   "cell_type": "code",
   "execution_count": null,
   "metadata": {},
   "outputs": [],
   "source": [
    "# surgery_esophageal_resection\n",
    "print('Completeness: ' + str(data['Art_Ösophagusresektion'].notna().sum() / len(data['Art_Ösophagusresektion'])))\n",
    "esophageal_resection_data = data['Art_Ösophagusresektion'].copy().replace({ 'keine': pd.NA, 'totale': 'total', 'abdominothorakale': 'abdominothorakale', 'Transhiatal erweiterte totale Gastrektomie + distale Ösophagusresektion': 'transhiatal_extended' })\n",
    "esophageal_resection_data.name = 'surgery_esophageal_resection'\n",
    "general_data = categorial_one_hot_encoding(general_data, esophageal_resection_data)"
   ]
  },
  {
   "cell_type": "code",
   "execution_count": null,
   "metadata": {},
   "outputs": [],
   "source": [
    "# surgery_esophageal_anastomosis\n",
    "print('Completeness: ' + str(data['Art_Ösophagusanastomose'].notna().sum() / len(data['Art_Ösophagusanastomose'])))\n",
    "esophageal_anastomosis_data = data['Art_Ösophagusanastomose'].copy().replace({ 'keine': pd.NA, 'cervikal': 'cervical', 'thorakal': 'thoracic', 'transhiatal': 'transhiatal', 'Interponat': 'interponat', 'Keine': pd.NA })\n",
    "esophageal_anastomosis_data.name = 'surgery_esophageal_anastomosis'\n",
    "general_data = categorial_one_hot_encoding(general_data, esophageal_anastomosis_data)"
   ]
  },
  {
   "cell_type": "code",
   "execution_count": null,
   "metadata": {},
   "outputs": [],
   "source": [
    "# surgery_gastric_resection\n",
    "print('Completeness: ' + str(data['Art_Magenresektion'].notna().sum() / len(data['Art_Magenresektion'])))\n",
    "gastric_resection_data = data['Art_Magenresektion'].copy().replace({ 'keine': pd.NA, 'Partielle': 'partial', 'Atypische': 'atypical', 'Totale': 'total' })\n",
    "gastric_resection_data.name = 'surgery_gastric_resection'\n",
    "general_data = categorial_one_hot_encoding(general_data, gastric_resection_data)"
   ]
  },
  {
   "cell_type": "code",
   "execution_count": null,
   "metadata": {},
   "outputs": [],
   "source": [
    "# surgery_gastric_reconstruction\n",
    "print('Completeness: ' + str(data['Art_Magenrekonstruktion'].notna().sum() / len(data['Art_Magenrekonstruktion'])))\n",
    "gastric_reconstruction_data = data['Art_Magenrekonstruktion'].copy().replace({ 'keine': pd.NA, 'Gastrojejuno': 'gastrojejuno', 'Ösophagojejuno': 'esophagojejuno', 'Interponat': 'interponat', 'Ösophagogastro': 'esophagogastro', 'Gastroduodeno': 'gastroduodeno' })\n",
    "gastric_reconstruction_data.name = 'surgery_gastric_reconstruction'\n",
    "general_data = categorial_one_hot_encoding(general_data, gastric_reconstruction_data)"
   ]
  },
  {
   "cell_type": "code",
   "execution_count": null,
   "metadata": {},
   "outputs": [],
   "source": [
    "# surgery_small_intestine_resection\n",
    "print('Completeness: ' + str(data['Art_Dünndarmresektion'].notna().sum() / len(data['Art_Dünndarmresektion'])))\n",
    "small_intestine_resection_data = data['Art_Dünndarmresektion'].copy().replace({ 'keine': pd.NA, 'Ileum': 'ileum', 'Duodenum': 'duodenum', 'Jejunum': 'jejunum' })\n",
    "small_intestine_resection_data.name = 'surgery_small_intestine_resection'\n",
    "general_data = categorial_one_hot_encoding(general_data, small_intestine_resection_data)"
   ]
  },
  {
   "cell_type": "code",
   "execution_count": null,
   "metadata": {},
   "outputs": [],
   "source": [
    "# surgery_small_intestine_anastomosis\n",
    "general_data['surgery_small_intestine_anastomosis'] = categorial_numeric_encoding(data['Dünndarmanastomose'])"
   ]
  },
  {
   "cell_type": "code",
   "execution_count": null,
   "metadata": {},
   "outputs": [],
   "source": [
    "# surgery_colon_resection\n",
    "print('Completeness: ' + str(data['Art_Kolonresektion'].notna().sum() / len(data['Art_Kolonresektion'])))\n",
    "colon_resection_data = data['Art_Kolonresektion'].copy().replace({ 'keine': pd.NA, 'Hemikolektomie_rechts': 'hemicolectomy_right', 'Hemikolektomie_links': 'hemicolectomy_left', 'Segmentresektion': 'segment_resection', 'Ileocoecalresektion': 'ileocoecal_resection', 'Sigmaresektion': 'sigmoid_resection', 'Zoecumresektion': 'zoecum_resection', 'Transversumresektion': 'transverse_resection', 'Kolektomie': 'colectomy', 'Proktokolektomie': 'proctocolectomy' })\n",
    "colon_resection_data.name = 'surgery_colon_resection'\n",
    "general_data = categorial_one_hot_encoding(general_data, colon_resection_data)"
   ]
  },
  {
   "cell_type": "code",
   "execution_count": null,
   "metadata": {},
   "outputs": [],
   "source": [
    "# surgery_colon_anastomosis\n",
    "general_data['surgery_colon_anastomosis'] = categorial_numeric_encoding(data['Kolonanastomose'])"
   ]
  },
  {
   "cell_type": "code",
   "execution_count": null,
   "metadata": {},
   "outputs": [],
   "source": [
    "# surgery_rectum_resection\n",
    "print('Completeness: ' + str(data['Art_Rektumresektion'].notna().sum() / len(data['Art_Rektumresektion'])))\n",
    "rectum_resection_data = data['Art_Rektumresektion'].copy().replace({ 'keine': pd.NA, 'TME': 'tme', 'TaTME': 'tatme', 'Rektumamputation': 'amputation' })\n",
    "rectum_resection_data.name = 'surgery_rectum_resection'\n",
    "general_data = categorial_one_hot_encoding(general_data, rectum_resection_data)"
   ]
  },
  {
   "cell_type": "code",
   "execution_count": null,
   "metadata": {},
   "outputs": [],
   "source": [
    "# surgery_rectum_anastomosis\n",
    "general_data['surgery_rectum_anastomosis'] = categorial_numeric_encoding(data['Rektumanastomose'])"
   ]
  },
  {
   "cell_type": "code",
   "execution_count": null,
   "metadata": {},
   "outputs": [],
   "source": [
    "# surgery_stoma_relocation\n",
    "general_data['surgery_stoma_relocation'] = categorial_numeric_encoding(data['Stomarueckverlagerung'])"
   ]
  },
  {
   "cell_type": "code",
   "execution_count": null,
   "metadata": {},
   "outputs": [],
   "source": [
    "# surgery_reconnection\n",
    "general_data['surgery_reconnection'] = categorial_numeric_encoding(data['Wiederanschluss_OP'])"
   ]
  },
  {
   "cell_type": "code",
   "execution_count": null,
   "metadata": {},
   "outputs": [],
   "source": [
    "# surgery_liver_transplantation\n",
    "print('Completeness: ' + str(data['Leber-Transplantation'].notna().sum() / len(data['Leber-Transplantation'])))\n",
    "liver_transplant_data = data['Leber-Transplantation'].copy().replace({ 'keine': pd.NA, 'komplett': 'complete', 'split': 'split' })\n",
    "liver_transplant_data.name = 'surgery_liver_transplantation'\n",
    "general_data = categorial_one_hot_encoding(general_data, liver_transplant_data)"
   ]
  },
  {
   "cell_type": "code",
   "execution_count": null,
   "metadata": {},
   "outputs": [],
   "source": [
    "# surgery_kidney_transplantation\n",
    "print('Completeness: ' + str(data['Nierentransplantation'].notna().sum() / len(data['Nierentransplantation'])))\n",
    "kidney_transplant_data = data['Nierentransplantation'].copy().replace({ 'keine': pd.NA, 'lebend': 'alive', 'leichen': 'corpses' })\n",
    "kidney_transplant_data.name = 'surgery_kidney_transplantation'\n",
    "general_data = categorial_one_hot_encoding(general_data, kidney_transplant_data)"
   ]
  },
  {
   "cell_type": "code",
   "execution_count": null,
   "metadata": {},
   "outputs": [],
   "source": [
    "# surgery_pancreas_transplantation\n",
    "general_data['surgery_pancreas_transplantation'] = categorial_numeric_encoding(data['Pankreastransplantation'])"
   ]
  },
  {
   "cell_type": "code",
   "execution_count": null,
   "metadata": {},
   "outputs": [],
   "source": [
    "# surgery_cholecystectomy\n",
    "cholecystectomy = data['Cholezystektomie']\n",
    "general_data['surgery_cholecystectomy'] = categorial_numeric_encoding(cholecystectomy)"
   ]
  },
  {
   "cell_type": "code",
   "execution_count": null,
   "metadata": {},
   "outputs": [],
   "source": [
    "# surgery_additional_cholecystectomy\n",
    "additional_cholecystectomy = data['Cholezystektomie _im Rahmen']\n",
    "general_data['surgery_additional_cholecystectomy'] = categorial_numeric_encoding(additional_cholecystectomy)"
   ]
  },
  {
   "cell_type": "code",
   "execution_count": null,
   "metadata": {},
   "outputs": [],
   "source": [
    "# surgery_lung_resection\n",
    "general_data['surgery_lung_resection'] = categorial_numeric_encoding(data['Lungenresektion'])"
   ]
  },
  {
   "cell_type": "code",
   "execution_count": null,
   "metadata": {},
   "outputs": [],
   "source": [
    "# surgery_kidney_resection\n",
    "general_data['surgery_kidney_resection'] = categorial_numeric_encoding(data['Niereresektion'])"
   ]
  },
  {
   "cell_type": "code",
   "execution_count": null,
   "metadata": {},
   "outputs": [],
   "source": [
    "# surgery_another_organs_or_delbuking\n",
    "general_data['surgery_another_organs_or_delbuking'] = categorial_numeric_encoding(data['Andere Organe/Delbuking'])"
   ]
  },
  {
   "cell_type": "code",
   "execution_count": null,
   "metadata": {},
   "outputs": [],
   "source": [
    "# surgery_vascular_resection\n",
    "general_data['surgery_vascular_resection'] = categorial_numeric_encoding(data['Gefäßresektion'])"
   ]
  },
  {
   "cell_type": "code",
   "execution_count": null,
   "metadata": {},
   "outputs": [],
   "source": [
    "# surgery_biliodigestive_anastomosis\n",
    "general_data['surgery_biliodigestive_anastomosis'] = categorial_numeric_encoding(data['BDA'])"
   ]
  },
  {
   "cell_type": "code",
   "execution_count": null,
   "metadata": {},
   "outputs": [],
   "source": [
    "# surgery_splenectomy\n",
    "general_data['surgery_splenectomy'] = categorial_numeric_encoding(data['Splenektomie'])"
   ]
  },
  {
   "cell_type": "code",
   "execution_count": null,
   "metadata": {},
   "outputs": [],
   "source": [
    "# surgery_simultaneous_hernia_management\n",
    "general_data['surgery_simultaneous_hernia_management'] = categorial_numeric_encoding(data['Simultane Hernienversorgung'])"
   ]
  },
  {
   "cell_type": "code",
   "execution_count": null,
   "metadata": {},
   "outputs": [],
   "source": [
    "# surgery_simultaneous_ablation\n",
    "general_data['surgery_simultaneous_ablation'] = categorial_numeric_encoding(data['Simultane Ablation'])"
   ]
  },
  {
   "cell_type": "code",
   "execution_count": null,
   "metadata": {},
   "outputs": [],
   "source": [
    "# surgery_stoma_facility\n",
    "general_data['surgery_stoma_facility'] = categorial_numeric_encoding(data['Stoma-Anlage'])"
   ]
  },
  {
   "cell_type": "code",
   "execution_count": null,
   "metadata": {},
   "outputs": [],
   "source": [
    "# surgery_hipec\n",
    "general_data['surgery_hipec'] = categorial_numeric_encoding(data['HIPAC'])"
   ]
  },
  {
   "attachments": {},
   "cell_type": "markdown",
   "metadata": {},
   "source": [
    "## Targets"
   ]
  },
  {
   "cell_type": "code",
   "execution_count": null,
   "metadata": {},
   "outputs": [],
   "source": [
    "# target_30_day_mortality\n",
    "general_data['target_30_day_mortality'] = categorial_numeric_encoding(data['30d_mortality'])"
   ]
  },
  {
   "cell_type": "code",
   "execution_count": null,
   "metadata": {},
   "outputs": [],
   "source": [
    "# target_90_day_mortality\n",
    "general_data['target_90_day_mortality'] = categorial_numeric_encoding(data['90d_mortality'])"
   ]
  },
  {
   "cell_type": "code",
   "execution_count": null,
   "metadata": {},
   "outputs": [],
   "source": [
    "# target_death_within_primary_stay\n",
    "general_data['target_death_within_primary_stay'] = categorial_numeric_encoding(data['Death_within_primary_stay'])"
   ]
  },
  {
   "cell_type": "code",
   "execution_count": null,
   "metadata": {},
   "outputs": [],
   "source": [
    "# target_icu_readmission\n",
    "general_data['target_icu_readmission'] = categorial_numeric_encoding(data['Readmission_ICU_at_all'])"
   ]
  },
  {
   "cell_type": "code",
   "execution_count": null,
   "metadata": {},
   "outputs": [],
   "source": [
    "# target_resurgery\n",
    "general_data['target_resurgery'] = categorial_numeric_encoding(data['ReOP'])"
   ]
  },
  {
   "cell_type": "code",
   "execution_count": null,
   "metadata": {},
   "outputs": [],
   "source": [
    "# target_number_of_surgeries\n",
    "general_data['target_number_of_surgeries'] = numeric(data['corr_Anzahl'])"
   ]
  },
  {
   "cell_type": "code",
   "execution_count": null,
   "metadata": {},
   "outputs": [],
   "source": [
    "# target_discharge_ts\n",
    "general_data['target_discharge_ts'] = timestamp(data['Entlassung'])"
   ]
  },
  {
   "cell_type": "code",
   "execution_count": null,
   "metadata": {},
   "outputs": [],
   "source": [
    "# target_length_of_stay\n",
    "general_data['target_length_of_stay'] = numeric(data['LOS'])"
   ]
  },
  {
   "cell_type": "code",
   "execution_count": null,
   "metadata": {},
   "outputs": [],
   "source": [
    "# target_number_of_icu_stays\n",
    "general_data['target_number_of_icu_stays'] = numeric(data['N_ICU-stays'])"
   ]
  },
  {
   "cell_type": "code",
   "execution_count": null,
   "metadata": {},
   "outputs": [],
   "source": [
    "# target_nights_on_primary_icu_stay\n",
    "general_data['target_nights_on_primary_icu_stay'] = numeric(data['Nights_on_primary_ICU_stay'])"
   ]
  },
  {
   "cell_type": "code",
   "execution_count": null,
   "metadata": {},
   "outputs": [],
   "source": [
    "# target_number_of_icu_readmissions\n",
    "general_data['target_number_of_icu_readmissions'] = numeric(data['N_Readmissions_ICU'])"
   ]
  },
  {
   "cell_type": "code",
   "execution_count": null,
   "metadata": {},
   "outputs": [],
   "source": [
    "# target_surgery_duration\n",
    "general_data['target_surgery_duration'] = numeric(data['OPDauer'])"
   ]
  },
  {
   "attachments": {},
   "cell_type": "markdown",
   "metadata": {},
   "source": [
    "# Check"
   ]
  },
  {
   "cell_type": "code",
   "execution_count": null,
   "metadata": {},
   "outputs": [],
   "source": [
    "# Replace -1 with pandas.NA\n",
    "general_data = general_data.replace(-1, pd.NA)\n",
    "general_data"
   ]
  },
  {
   "cell_type": "code",
   "execution_count": null,
   "metadata": {},
   "outputs": [],
   "source": [
    "# Check whether Column '<Meta> Case ID' contains duplicates.\n",
    "general_data['meta_case'].duplicated().any()"
   ]
  },
  {
   "cell_type": "code",
   "execution_count": null,
   "metadata": {},
   "outputs": [],
   "source": [
    "# import \n",
    "included_cases = pd.read_csv('../4_cases/4_3_clean.csv')\n",
    "\n",
    "# drop all masterData rows that are not in included_cases and print the number of deleted rows\n",
    "print('Length of masterData before: ' + str(len(general_data)))\n",
    "print('Number of cases before: ' + str(general_data['meta_case'].nunique()))\n",
    "general_data = general_data[general_data['meta_case'].isin(included_cases['case'])]\n",
    "print('Length of masterData after: ' + str(len(general_data)))\n",
    "print('Number of cases after: ' + str(general_data['meta_case'].nunique()))\n",
    "\n",
    "general_data"
   ]
  },
  {
   "attachments": {},
   "cell_type": "markdown",
   "metadata": {},
   "source": [
    "# Clean Export"
   ]
  },
  {
   "cell_type": "code",
   "execution_count": null,
   "metadata": {},
   "outputs": [],
   "source": [
    "general_data.to_csv('5_3_clean.csv', index = False)\n",
    "general_data.describe().to_csv('5_4_clean_analysis.csv')\n",
    "general_data"
   ]
  },
  {
   "cell_type": "markdown",
   "metadata": {},
   "source": [
    "# Final Export"
   ]
  },
  {
   "cell_type": "markdown",
   "metadata": {},
   "source": [
    "## Inclusion Criteria"
   ]
  },
  {
   "cell_type": "code",
   "execution_count": null,
   "metadata": {},
   "outputs": [],
   "source": [
    "# Year\n",
    "general_data = general_data[general_data['meta_year'].notna()]\n",
    "general_data"
   ]
  },
  {
   "cell_type": "code",
   "execution_count": null,
   "metadata": {},
   "outputs": [],
   "source": [
    "# System\n",
    "general_data = general_data[general_data['meta_system'].notna()]\n",
    "general_data"
   ]
  },
  {
   "cell_type": "code",
   "execution_count": null,
   "metadata": {},
   "outputs": [],
   "source": [
    "# OPS\n",
    "general_data = general_data[general_data['meta_ops'].notna()]\n",
    "general_data"
   ]
  },
  {
   "cell_type": "markdown",
   "metadata": {},
   "source": [
    "## Exclusion Criteria"
   ]
  },
  {
   "cell_type": "code",
   "execution_count": null,
   "metadata": {},
   "outputs": [],
   "source": [
    "# Age\n",
    "general_data = general_data[general_data['age'] >= 18]\n",
    "general_data"
   ]
  },
  {
   "cell_type": "code",
   "execution_count": null,
   "metadata": {},
   "outputs": [],
   "source": [
    "# Urgency\n",
    "general_data = general_data[general_data['surgery_urgency'] == 5]\n",
    "general_data"
   ]
  },
  {
   "cell_type": "code",
   "execution_count": null,
   "metadata": {},
   "outputs": [],
   "source": [
    "# 30 Day Mortality\n",
    "general_data = general_data[general_data['target_30_day_mortality'].notna()]\n",
    "general_data"
   ]
  },
  {
   "cell_type": "code",
   "execution_count": null,
   "metadata": {},
   "outputs": [],
   "source": [
    "# 90 Day Mortality\n",
    "general_data = general_data[general_data['target_90_day_mortality'].notna()]\n",
    "general_data"
   ]
  },
  {
   "cell_type": "markdown",
   "metadata": {},
   "source": [
    "## Export"
   ]
  },
  {
   "cell_type": "code",
   "execution_count": null,
   "metadata": {},
   "outputs": [],
   "source": [
    "general_data.to_csv('5_5_final.csv', index = False)\n",
    "general_data.describe().to_csv('5_6_final_analysis.csv')\n",
    "general_data"
   ]
  }
 ],
 "metadata": {
  "kernelspec": {
   "display_name": "Python 3.9.7 ('base')",
   "language": "python",
   "name": "python3"
  },
  "language_info": {
   "codemirror_mode": {
    "name": "ipython",
    "version": 3
   },
   "file_extension": ".py",
   "mimetype": "text/x-python",
   "name": "python",
   "nbconvert_exporter": "python",
   "pygments_lexer": "ipython3",
   "version": "3.9.7"
  },
  "orig_nbformat": 4,
  "vscode": {
   "interpreter": {
    "hash": "8ba329f56fb7916ac4acfcef6d41f39950b833c4cd409c089d5deecb9921b36b"
   }
  }
 },
 "nbformat": 4,
 "nbformat_minor": 2
}
