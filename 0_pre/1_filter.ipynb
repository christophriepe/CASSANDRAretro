{
 "cells": [
  {
   "cell_type": "markdown",
   "metadata": {},
   "source": [
    "# Import"
   ]
  },
  {
   "cell_type": "code",
   "execution_count": null,
   "metadata": {},
   "outputs": [],
   "source": [
    "import pandas as pd"
   ]
  },
  {
   "cell_type": "markdown",
   "metadata": {},
   "source": [
    "# Load"
   ]
  },
  {
   "cell_type": "code",
   "execution_count": null,
   "metadata": {},
   "outputs": [],
   "source": [
    "data = pd.read_csv('3_clean.csv')\n",
    "data"
   ]
  },
  {
   "cell_type": "markdown",
   "metadata": {},
   "source": [
    "# Analyze"
   ]
  },
  {
   "cell_type": "code",
   "execution_count": null,
   "metadata": {},
   "outputs": [],
   "source": [
    "# Visualize the completeness of the different cases.\n",
    "completeness = data.count(axis=1) / len(data.columns) * 100\n",
    "completeness = completeness.apply(lambda x: round(x / 10) * 10)\n",
    "completeness = completeness.value_counts().sort_index()\n",
    "completeness.plot.bar()"
   ]
  },
  {
   "cell_type": "markdown",
   "metadata": {},
   "source": [
    "# Exclusion Criteria"
   ]
  },
  {
   "cell_type": "code",
   "execution_count": null,
   "metadata": {},
   "outputs": [],
   "source": [
    "# Urgency\n",
    "data = data[data['meta_urgency'] >= 4]\n",
    "data"
   ]
  },
  {
   "cell_type": "code",
   "execution_count": null,
   "metadata": {},
   "outputs": [],
   "source": [
    "# 30 Day Mortality\n",
    "data = data[data['target_30_day_mortality'].notna()]\n",
    "data"
   ]
  },
  {
   "cell_type": "code",
   "execution_count": null,
   "metadata": {},
   "outputs": [],
   "source": [
    "# 90 Day Mortality\n",
    "data = data[data['target_90_day_mortality'].notna()]\n",
    "data"
   ]
  },
  {
   "cell_type": "code",
   "execution_count": null,
   "metadata": {},
   "outputs": [],
   "source": [
    "# 75% Completeness\n",
    "data = data.dropna(thresh=len(data.columns) * 0.75)\n",
    "data"
   ]
  },
  {
   "cell_type": "markdown",
   "metadata": {},
   "source": [
    "# Cut"
   ]
  },
  {
   "cell_type": "code",
   "execution_count": null,
   "metadata": {},
   "outputs": [],
   "source": [
    "data = data.loc[:, ~data.columns.str.startswith('meta_')]\n",
    "data = data.loc[:, ~data.columns.str.startswith('target_') | data.columns.str.startswith('target_30_day_mortality') | data.columns.str.startswith('target_90_day_mortality')]\n",
    "data"
   ]
  },
  {
   "cell_type": "markdown",
   "metadata": {},
   "source": [
    "# Save"
   ]
  },
  {
   "cell_type": "code",
   "execution_count": null,
   "metadata": {},
   "outputs": [],
   "source": [
    "data.to_csv('6_filtered.csv', index = False)\n",
    "data"
   ]
  },
  {
   "cell_type": "code",
   "execution_count": null,
   "metadata": {},
   "outputs": [],
   "source": [
    "description: pd.DataFrame = pd.DataFrame()\n",
    "\n",
    "i = 0\n",
    "for column in data.columns:\n",
    "    data_total = data[column]\n",
    "    data_training = data[data['identifier_cohort'] == 0][column]\n",
    "    data_validation = data[data['identifier_cohort'] == 1][column]\n",
    "\n",
    "    description = description.append({\n",
    "        'category': '...',\n",
    "        'id': i,\n",
    "        'name': column,\n",
    "        'dimension': '...',\n",
    "        'completeness': round(data_total.count() / len(data_total) * 100, 2),\n",
    "        'completeness (0)': round(data_training.count() / len(data_training) * 100, 2),\n",
    "        'completeness (1)': round(data_validation.count() / len(data_validation) * 100, 2),\n",
    "        'min': data_total.min(),\n",
    "        'min (0)': data_training.min(),\n",
    "        'min (1)': data_validation.min(),\n",
    "        'max': data_total.max(),\n",
    "        'max (0)': data_training.max(),\n",
    "        'max (1)': data_validation.max(),\n",
    "        'lower_limit': '...',\n",
    "        'upper_limit': '...',\n",
    "    }, ignore_index=True)\n",
    "\n",
    "    i += 1\n",
    "\n",
    "description.to_csv('7_description.csv', index=False)\n",
    "description"
   ]
  }
 ],
 "metadata": {
  "kernelspec": {
   "display_name": "base",
   "language": "python",
   "name": "python3"
  },
  "language_info": {
   "codemirror_mode": {
    "name": "ipython",
    "version": 3
   },
   "file_extension": ".py",
   "mimetype": "text/x-python",
   "name": "python",
   "nbconvert_exporter": "python",
   "pygments_lexer": "ipython3",
   "version": "3.9.7"
  }
 },
 "nbformat": 4,
 "nbformat_minor": 2
}
