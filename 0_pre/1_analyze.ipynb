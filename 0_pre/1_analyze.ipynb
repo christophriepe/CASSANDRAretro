{
 "cells": [
  {
   "cell_type": "markdown",
   "metadata": {},
   "source": [
    "# Import"
   ]
  },
  {
   "cell_type": "code",
   "execution_count": null,
   "metadata": {},
   "outputs": [],
   "source": [
    "import pandas as pd"
   ]
  },
  {
   "cell_type": "markdown",
   "metadata": {},
   "source": [
    "# Load"
   ]
  },
  {
   "cell_type": "code",
   "execution_count": null,
   "metadata": {},
   "outputs": [],
   "source": [
    "data = pd.read_csv('5_final.csv')\n",
    "data"
   ]
  },
  {
   "cell_type": "markdown",
   "metadata": {},
   "source": [
    "# Logic"
   ]
  },
  {
   "cell_type": "code",
   "execution_count": null,
   "metadata": {},
   "outputs": [],
   "source": [
    "def evaluate_numeric(column: str):\n",
    "    training_column = data[data['identifier_cohort'] == 0][column]\n",
    "    validation_column = data[data['identifier_cohort'] == 1][column]\n",
    "\n",
    "    print(f\"ALL: {data[column].mean()} (Mean); {data[column].std()} (SD)\")\n",
    "    print(f\"TRAINING: {training_column.mean()} (Mean); {training_column.std()} (SD)\")\n",
    "    print(f\"VALIDATION: {validation_column.mean()} (Mean); {validation_column.std()} (SD)\")"
   ]
  },
  {
   "cell_type": "code",
   "execution_count": null,
   "metadata": {},
   "outputs": [],
   "source": [
    "def evaluate_categorial(column: str):\n",
    "    training_column = data[data['identifier_cohort'] == 0][column]\n",
    "    validation_column = data[data['identifier_cohort'] == 1][column]\n",
    "\n",
    "    print(f\"ALL: {data['asa'].count()} (N); {data['asa'].count() / len(data['asa'])} (%)\")\n",
    "    print(data[column].value_counts()); print(data[column].value_counts(normalize=True))\n",
    "    print(f\"TRAINING: {training_column.count()} (N); {training_column.count() / len(training_column)} (%)\")\n",
    "    print(training_column.value_counts()); print(training_column.value_counts(normalize=True))\n",
    "    print(f\"VALIDATION: {validation_column.count()} (N); {validation_column.count() / len(validation_column)} (%)\")\n",
    "    print(validation_column.value_counts()); print(validation_column.value_counts(normalize=True))\n",
    "    "
   ]
  },
  {
   "cell_type": "markdown",
   "metadata": {},
   "source": [
    "# Analysis"
   ]
  },
  {
   "cell_type": "markdown",
   "metadata": {},
   "source": [
    "## Collective"
   ]
  },
  {
   "cell_type": "markdown",
   "metadata": {},
   "source": [
    "### Overall Completeness"
   ]
  },
  {
   "cell_type": "code",
   "execution_count": null,
   "metadata": {},
   "outputs": [],
   "source": [
    "pure_data = data.drop(columns=[col for col in data.columns if col.startswith('identifier_')]) # also drop additional targets?\n",
    "pure_training_data = pure_data[data['identifier_cohort'] == 0]\n",
    "pure_validation_data = pure_data[data['identifier_cohort'] == 1]\n",
    "\n",
    "print(f'[All] {pure_data.count().sum()} (N); {pure_data.count().sum() / pure_data.size} (%)')\n",
    "print(f'[Training] {pure_training_data.count().sum()} (N); {pure_training_data.count().sum() / pure_training_data.size} (%)')\n",
    "print(f'[Validation] {pure_validation_data.count().sum()} (N); {pure_validation_data.count().sum() / pure_validation_data.size} (%)')"
   ]
  },
  {
   "cell_type": "code",
   "execution_count": null,
   "metadata": {},
   "outputs": [],
   "source": [
    "# Gender\n",
    "evaluate_categorial('gender')"
   ]
  },
  {
   "cell_type": "code",
   "execution_count": null,
   "metadata": {},
   "outputs": [],
   "source": [
    "# Age\n",
    "evaluate_numeric('age')"
   ]
  },
  {
   "cell_type": "code",
   "execution_count": null,
   "metadata": {},
   "outputs": [],
   "source": [
    "evaluate_numeric('height')"
   ]
  },
  {
   "cell_type": "code",
   "execution_count": null,
   "metadata": {},
   "outputs": [],
   "source": [
    "evaluate_numeric('weight')"
   ]
  },
  {
   "cell_type": "code",
   "execution_count": null,
   "metadata": {},
   "outputs": [],
   "source": [
    "# print the percentage of values present (not nan) in data['asa']\n",
    "print(data['asa'].count() / len(data['asa']))"
   ]
  },
  {
   "cell_type": "code",
   "execution_count": null,
   "metadata": {},
   "outputs": [],
   "source": [
    "evaluate_categorial('asa')"
   ]
  },
  {
   "cell_type": "code",
   "execution_count": null,
   "metadata": {},
   "outputs": [],
   "source": [
    "evaluate_numeric('cci')"
   ]
  },
  {
   "cell_type": "markdown",
   "metadata": {},
   "source": [
    "## Subgroups"
   ]
  },
  {
   "cell_type": "code",
   "execution_count": null,
   "metadata": {},
   "outputs": [],
   "source": []
  },
  {
   "cell_type": "code",
   "execution_count": null,
   "metadata": {},
   "outputs": [],
   "source": []
  },
  {
   "cell_type": "code",
   "execution_count": null,
   "metadata": {},
   "outputs": [],
   "source": []
  },
  {
   "cell_type": "code",
   "execution_count": null,
   "metadata": {},
   "outputs": [],
   "source": []
  },
  {
   "cell_type": "code",
   "execution_count": null,
   "metadata": {},
   "outputs": [],
   "source": []
  }
 ],
 "metadata": {
  "kernelspec": {
   "display_name": "base",
   "language": "python",
   "name": "python3"
  },
  "language_info": {
   "codemirror_mode": {
    "name": "ipython",
    "version": 3
   },
   "file_extension": ".py",
   "mimetype": "text/x-python",
   "name": "python",
   "nbconvert_exporter": "python",
   "pygments_lexer": "ipython3",
   "version": "3.9.7"
  }
 },
 "nbformat": 4,
 "nbformat_minor": 2
}
