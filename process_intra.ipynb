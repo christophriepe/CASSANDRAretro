{
 "cells": [
  {
   "attachments": {},
   "cell_type": "markdown",
   "metadata": {},
   "source": [
    "# Import"
   ]
  },
  {
   "cell_type": "code",
   "execution_count": null,
   "metadata": {},
   "outputs": [],
   "source": [
    "import pandas as pd\n",
    "from tqdm.notebook import tqdm"
   ]
  },
  {
   "attachments": {},
   "cell_type": "markdown",
   "metadata": {},
   "source": [
    "# Main"
   ]
  },
  {
   "cell_type": "code",
   "execution_count": null,
   "metadata": {},
   "outputs": [],
   "source": [
    "surgery_data: pd.DataFrame = pd.DataFrame(columns=['case', 'timestamp', 'type', 'value'])"
   ]
  },
  {
   "attachments": {},
   "cell_type": "markdown",
   "metadata": {},
   "source": [
    "# Numeric"
   ]
  },
  {
   "attachments": {},
   "cell_type": "markdown",
   "metadata": {},
   "source": [
    "## Vitals"
   ]
  },
  {
   "attachments": {},
   "cell_type": "markdown",
   "metadata": {},
   "source": [
    "### Load"
   ]
  },
  {
   "cell_type": "code",
   "execution_count": null,
   "metadata": {},
   "outputs": [],
   "source": [
    "file: pd.ExcelFile = pd.ExcelFile('6_1_raw/Studie 2023-01-OP-An„sthesie-Vitalparameter.xlsx')\n",
    "sheetNames: list[str] = file.sheet_names\n",
    "sheetNames"
   ]
  },
  {
   "cell_type": "code",
   "execution_count": null,
   "metadata": {},
   "outputs": [],
   "source": [
    "sheets: list[pd.DataFrame] = []\n",
    "for name in tqdm(sheetNames):\n",
    "    sheets.append(pd.read_excel(file, name))"
   ]
  },
  {
   "cell_type": "code",
   "execution_count": null,
   "metadata": {},
   "outputs": [],
   "source": [
    "data: pd.DataFrame = pd.concat(sheets, ignore_index=True)\n",
    "data"
   ]
  },
  {
   "attachments": {},
   "cell_type": "markdown",
   "metadata": {},
   "source": [
    "### Process"
   ]
  },
  {
   "cell_type": "code",
   "execution_count": null,
   "metadata": {},
   "outputs": [],
   "source": [
    "# rename columns.\n",
    "data.rename(columns={\n",
    "    'Fallnummer': 'case',\n",
    "    'MesswerteDatum': 'timestamp',\n",
    "    'MesswerteTyp': 'type',\n",
    "    'Messwert': 'value',\n",
    "    'MesswertEinheit': 'unit'\n",
    "}, inplace=True)\n",
    "\n",
    "# drop unit column.\n",
    "data.drop(columns=['unit'], inplace=True)\n",
    "\n",
    "# convert to datetime.\n",
    "data['timestamp'] = pd.to_datetime(data['timestamp'], format='%Y%m%d%H%M%S')\n",
    "\n",
    "data"
   ]
  },
  {
   "cell_type": "code",
   "execution_count": null,
   "metadata": {},
   "outputs": [],
   "source": [
    "len(data.groupby('type').count())"
   ]
  },
  {
   "attachments": {},
   "cell_type": "markdown",
   "metadata": {},
   "source": [
    "### Save"
   ]
  },
  {
   "cell_type": "code",
   "execution_count": null,
   "metadata": {},
   "outputs": [],
   "source": [
    "groups = data.groupby('type')\n",
    "\n",
    "# loop through groups.\n",
    "for name, group in tqdm(groups):\n",
    "\n",
    "    new_name: str = name\n",
    "    if name == 'Blutdruck Diastolisch': new_name = 'bp_dia'\n",
    "    elif name == 'Blutdruck Systolisch': new_name = 'bp_sys'\n",
    "    elif name == 'PAT_ANAE_SEDLINE': new_name = 'sedline'\n",
    "    elif name == 'Puls': new_name = 'hr'\n",
    "    elif name == 'beat_mess_AMV': new_name = 'rmv'\n",
    "    elif name == 'beat_mess_FiO2': new_name = 'fio2'\n",
    "    elif name == 'beat_mess_Frequenz_AF': new_name = 'rr'\n",
    "    elif name == 'beat_mess_IntrPEEP': new_name = 'vent_peep'\n",
    "    elif name == 'beat_mess_Kapnometrie_etCO2': new_name = 'capno_et_co2'\n",
    "    elif name == 'beat_mess_Spitzendruck_Ppeak': new_name = 'vent_p_peak'\n",
    "    # elif name == 'beat_mess_exp_Des': new_name = 'exp_des'\n",
    "    elif name == 'beat_mess_exp_Lachgas': new_name = 'exp_no'\n",
    "    elif name == 'beat_mess_exp_Sevo': new_name = 'exp_sevo'\n",
    "    # elif name == 'beat_mess_pulmon_compl': new_name = 'pulmon_compl'\n",
    "    elif name == 'vital_AF': new_name = 'rr'\n",
    "    elif name == 'vital_HF': new_name = 'hr'\n",
    "    elif name == 'vital_SaO2': new_name = 'sao2'\n",
    "    elif name == 'vital_T_K': new_name = 'temp'\n",
    "    elif name == 'vital_T_K2': new_name = 'temp'\n",
    "    elif name == 'vital_ZVD': new_name = 'cvd'\n",
    "    else: continue\n",
    "\n",
    "    group['type'] = new_name\n",
    "    surgery_data: pd.DataFrame = pd.concat([surgery_data, group], ignore_index=True)\n",
    "\n",
    "surgery_data"
   ]
  },
  {
   "attachments": {},
   "cell_type": "markdown",
   "metadata": {},
   "source": [
    "## GCS"
   ]
  },
  {
   "attachments": {},
   "cell_type": "markdown",
   "metadata": {},
   "source": [
    "### Load"
   ]
  },
  {
   "cell_type": "code",
   "execution_count": null,
   "metadata": {},
   "outputs": [],
   "source": [
    "file: pd.ExcelFile = pd.ExcelFile('6_1_raw/Studie-2023-11-OP-An„sthesie-GCS.xlsx')\n",
    "sheetNames: list[str] = file.sheet_names\n",
    "sheetNames"
   ]
  },
  {
   "cell_type": "code",
   "execution_count": null,
   "metadata": {},
   "outputs": [],
   "source": [
    "sheets: list[pd.DataFrame] = []\n",
    "for name in tqdm(sheetNames):\n",
    "    sheets.append(pd.read_excel(file, name))"
   ]
  },
  {
   "cell_type": "code",
   "execution_count": null,
   "metadata": {},
   "outputs": [],
   "source": [
    "data: pd.DataFrame = pd.concat(sheets, ignore_index=True)\n",
    "data"
   ]
  },
  {
   "attachments": {},
   "cell_type": "markdown",
   "metadata": {},
   "source": [
    "### Process"
   ]
  },
  {
   "cell_type": "code",
   "execution_count": null,
   "metadata": {},
   "outputs": [],
   "source": [
    "# rename columns.\n",
    "data.rename(columns={\n",
    "    'Fallnummer': 'case',\n",
    "    'Datum': 'timestamp',\n",
    "    'Score': 'value',\n",
    "}, inplace=True)\n",
    "\n",
    "# add type columns.\n",
    "data['type'] = 'gcs'\n",
    "\n",
    "# convert to datetime.\n",
    "data['timestamp'] = pd.to_datetime(data['timestamp'], format='%Y-%m-%d %H:%M:%S.%f')\n",
    "\n",
    "data"
   ]
  },
  {
   "attachments": {},
   "cell_type": "markdown",
   "metadata": {},
   "source": [
    "### Save"
   ]
  },
  {
   "cell_type": "code",
   "execution_count": null,
   "metadata": {},
   "outputs": [],
   "source": [
    "# surgery_data: pd.DataFrame = pd.concat([surgery_data, data], ignore_index=True)\n",
    "# surgery_data"
   ]
  },
  {
   "attachments": {},
   "cell_type": "markdown",
   "metadata": {},
   "source": [
    "## Arterial Blood Gas"
   ]
  },
  {
   "attachments": {},
   "cell_type": "markdown",
   "metadata": {},
   "source": [
    "### Load"
   ]
  },
  {
   "cell_type": "code",
   "execution_count": null,
   "metadata": {},
   "outputs": [],
   "source": [
    "file: pd.ExcelFile = pd.ExcelFile('6_1_raw/Studie-2023-13-OP-An„sthesie-BGA.xlsx')\n",
    "sheetNames: list[str] = file.sheet_names\n",
    "sheetNames"
   ]
  },
  {
   "cell_type": "code",
   "execution_count": null,
   "metadata": {},
   "outputs": [],
   "source": [
    "sheets: list[pd.DataFrame] = []\n",
    "for name in tqdm(sheetNames):\n",
    "    sheets.append(pd.read_excel(file, name))"
   ]
  },
  {
   "cell_type": "code",
   "execution_count": null,
   "metadata": {},
   "outputs": [],
   "source": [
    "data: pd.DataFrame = pd.concat(sheets, ignore_index=True)\n",
    "data"
   ]
  },
  {
   "attachments": {},
   "cell_type": "markdown",
   "metadata": {},
   "source": [
    "### Process"
   ]
  },
  {
   "cell_type": "code",
   "execution_count": null,
   "metadata": {},
   "outputs": [],
   "source": [
    "# rename columns.\n",
    "data.rename(columns={\n",
    "    'FALLNR': 'case',\n",
    "    'LaborName': 'type',\n",
    "    'Zeitpunkt': 'timestamp',\n",
    "    'Wert': 'value',\n",
    "    'Unit': 'unit'\n",
    "}, inplace=True)\n",
    "\n",
    "# drop unit column.\n",
    "data.drop(columns=['unit'], inplace=True)\n",
    "\n",
    "# convert to datetime.\n",
    "data['timestamp'] = pd.to_datetime(data['timestamp'], format='%Y-%m-%d %H:%M:%S.%f')\n",
    "\n",
    "data"
   ]
  },
  {
   "cell_type": "code",
   "execution_count": null,
   "metadata": {},
   "outputs": [],
   "source": [
    "len(data.groupby('type').count())"
   ]
  },
  {
   "attachments": {},
   "cell_type": "markdown",
   "metadata": {},
   "source": [
    "### Save"
   ]
  },
  {
   "cell_type": "code",
   "execution_count": null,
   "metadata": {},
   "outputs": [],
   "source": [
    "groups = data.groupby('type')\n",
    "\n",
    "# loop through groups.\n",
    "for name, group in tqdm(groups):\n",
    "\n",
    "    new_name: str = name\n",
    "    if name == 'ABE': new_name = 'abg_abe'\n",
    "    elif name == 'COHb': new_name = 'abg_cohb'\n",
    "    # elif name == 'Ca(7.4)': new_name = 'abg_ca_7_4'\n",
    "    elif name == 'Ca++': new_name = 'abg_ca'\n",
    "    elif name == 'Cl-': new_name = 'abg_cl'\n",
    "    elif name == 'FIO2': new_name = 'abg_fio2'\n",
    "    elif name == 'Glu': new_name = 'abg_glu'\n",
    "    elif name == 'Hct': new_name = 'abg_hct'\n",
    "    elif name == 'K+': new_name = 'abg_k'\n",
    "    elif name == 'Lac': new_name = 'abg_lac'\n",
    "    elif name == 'MetHb': new_name = 'abg_methb'\n",
    "    elif name == 'Na+': new_name = 'abg_na'\n",
    "    elif name == 'O2Hb': new_name = 'abg_o2hb'\n",
    "    elif name == 'SBE': new_name = 'abg_sbe'\n",
    "    elif name == 'T': new_name = 'abg_t'\n",
    "    elif name == 'pCO2': new_name = 'abg_pco2'\n",
    "    # elif name == 'pCO2(T)': new_name = 'abg_pco2_t'\n",
    "    elif name == 'pH': new_name = 'abg_ph'\n",
    "    # elif name == 'pH(T)': new_name = 'abg_ph_t'\n",
    "    elif name == 'pO2': new_name = 'abg_po2'\n",
    "    # elif name == 'pO2(T)': new_name = 'abg_po2_t'\n",
    "    elif name == 'sO2': new_name = 'abg_so2'\n",
    "    elif name == 'tHb': new_name = 'abg_thb'\n",
    "    else: continue\n",
    "\n",
    "    group['type'] = new_name\n",
    "    surgery_data: pd.DataFrame = pd.concat([surgery_data, group], ignore_index=True)\n",
    "\n",
    "surgery_data"
   ]
  },
  {
   "attachments": {},
   "cell_type": "markdown",
   "metadata": {},
   "source": [
    "## DDS"
   ]
  },
  {
   "attachments": {},
   "cell_type": "markdown",
   "metadata": {},
   "source": [
    "### Load"
   ]
  },
  {
   "cell_type": "code",
   "execution_count": null,
   "metadata": {},
   "outputs": [],
   "source": [
    "file: pd.ExcelFile = pd.ExcelFile('6_1_raw/Studie-2023-12-OP-An„sthesie-Deliriun Detection Score.xlsx')\n",
    "sheetNames: list[str] = file.sheet_names\n",
    "sheetNames"
   ]
  },
  {
   "cell_type": "code",
   "execution_count": null,
   "metadata": {},
   "outputs": [],
   "source": [
    "sheets: list[pd.DataFrame] = []\n",
    "for name in tqdm(sheetNames):\n",
    "    sheets.append(pd.read_excel(file, name))"
   ]
  },
  {
   "cell_type": "code",
   "execution_count": null,
   "metadata": {},
   "outputs": [],
   "source": [
    "data: pd.DataFrame = pd.concat(sheets, ignore_index=True)\n",
    "data"
   ]
  },
  {
   "attachments": {},
   "cell_type": "markdown",
   "metadata": {},
   "source": [
    "# Process"
   ]
  },
  {
   "cell_type": "code",
   "execution_count": null,
   "metadata": {},
   "outputs": [],
   "source": [
    "surgery_data['value'] = surgery_data['value'].apply(pd.to_numeric, errors='coerce')\n",
    "surgery_data['value'] = surgery_data['value'].astype(float)"
   ]
  },
  {
   "cell_type": "code",
   "execution_count": null,
   "metadata": {},
   "outputs": [],
   "source": [
    "# case_id\n",
    "surgery_data['case'] = surgery_data['case'].astype(int)\n",
    "\n",
    "# event_ts\n",
    "surgery_data['timestamp'] = pd.to_datetime(surgery_data['timestamp'])\n",
    "\n",
    "#type\n",
    "surgery_data['type'] = surgery_data['type'].astype(str)\n",
    "\n",
    "# drop nan\n",
    "surgery_data.dropna(inplace=True)\n",
    "\n",
    "# drop duplicates\n",
    "surgery_data.drop_duplicates(keep = 'first', inplace = True)\n",
    "\n",
    "# sort by event_ts\n",
    "surgery_data.sort_values(by=['timestamp'], inplace=True)\n",
    "\n",
    "surgery_data"
   ]
  },
  {
   "cell_type": "code",
   "execution_count": null,
   "metadata": {},
   "outputs": [],
   "source": [
    "# import \n",
    "included_cases = pd.read_csv('../4_cases/4_3_clean.csv')\n",
    "\n",
    "# drop all masterData rows that are not in included_cases and print the number of deleted rows\n",
    "print('Length of masterData before: ' + str(len(surgery_data)))\n",
    "print('Number of cases before: ' + str(surgery_data['case'].nunique()))\n",
    "surgery_data = surgery_data[surgery_data['case'].isin(included_cases['case'])]\n",
    "print('Length of masterData after: ' + str(len(surgery_data)))\n",
    "print('Number of cases after: ' + str(surgery_data['case'].nunique()))\n",
    "\n",
    "surgery_data"
   ]
  },
  {
   "attachments": {},
   "cell_type": "markdown",
   "metadata": {},
   "source": [
    "# Save"
   ]
  },
  {
   "cell_type": "code",
   "execution_count": null,
   "metadata": {},
   "outputs": [],
   "source": [
    "surgery_data.to_csv('6_3_clean.csv', index=False)\n",
    "surgery_data"
   ]
  },
  {
   "cell_type": "code",
   "execution_count": null,
   "metadata": {},
   "outputs": [],
   "source": [
    "types = surgery_data.groupby('type').size()\n",
    "types.to_csv(f'6_4_types.csv', index=False)\n",
    "types"
   ]
  }
 ],
 "metadata": {
  "kernelspec": {
   "display_name": "base",
   "language": "python",
   "name": "python3"
  },
  "language_info": {
   "codemirror_mode": {
    "name": "ipython",
    "version": 3
   },
   "file_extension": ".py",
   "mimetype": "text/x-python",
   "name": "python",
   "nbconvert_exporter": "python",
   "pygments_lexer": "ipython3",
   "version": "3.9.7"
  },
  "orig_nbformat": 4
 },
 "nbformat": 4,
 "nbformat_minor": 2
}
