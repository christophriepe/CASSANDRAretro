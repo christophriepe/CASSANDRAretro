{
 "cells": [
  {
   "cell_type": "markdown",
   "metadata": {},
   "source": [
    "# Import"
   ]
  },
  {
   "cell_type": "code",
   "execution_count": null,
   "metadata": {},
   "outputs": [],
   "source": [
    "import pandas as pd\n",
    "pd.options.mode.chained_assignment = None"
   ]
  },
  {
   "cell_type": "markdown",
   "metadata": {},
   "source": [
    "# Load"
   ]
  },
  {
   "cell_type": "code",
   "execution_count": null,
   "metadata": {},
   "outputs": [],
   "source": [
    "data = pd.read_csv('8_1_raw.csv', sep=';', low_memory=False)\n",
    "data.drop(['n2labor_c_recordid', 'labor001_c_n2leistid'], axis=1, inplace=True)\n",
    "data.rename(columns={'labor001_c_n2kattext': 'type', 'c_n2value': 'value', 'c_n2unit': 'unit', 'lab_datetime': 'timestamp', 'Fallnummer': 'case'}, inplace=True)\n",
    "data = data[['case', 'timestamp', 'type', 'value', 'unit']]\n",
    "data"
   ]
  },
  {
   "cell_type": "markdown",
   "metadata": {},
   "source": [
    "# Check"
   ]
  },
  {
   "cell_type": "code",
   "execution_count": null,
   "metadata": {},
   "outputs": [],
   "source": [
    "data[data['type'] == '']"
   ]
  },
  {
   "cell_type": "markdown",
   "metadata": {},
   "source": [
    "# Process"
   ]
  },
  {
   "cell_type": "code",
   "execution_count": null,
   "metadata": {},
   "outputs": [],
   "source": [
    "def append(name: str, data: pd.DataFrame, lab_data: pd.DataFrame, types: [str], units: [str] = []) -> pd.DataFrame:\n",
    "    subsets = []\n",
    "    for type in types:\n",
    "        type_data = data[data['type'] == type]\n",
    "        print(f'{type}: {len(type_data)} {type_data[\"unit\"].unique()}')\n",
    "        subsets.append(type_data)\n",
    "    \n",
    "    subset = pd.concat(subsets, ignore_index=True)\n",
    "    if len(units) > 0: subset = subset[subset['unit'].isin(units)]\n",
    "\n",
    "    subset['type'] = name\n",
    "    print(f'Total: {len(subset)} {subset[\"unit\"].unique()}')\n",
    "\n",
    "    return pd.concat([lab_data, subset], ignore_index=True)"
   ]
  },
  {
   "cell_type": "code",
   "execution_count": null,
   "metadata": {},
   "outputs": [],
   "source": [
    "lab_data = pd.DataFrame(columns=['case', 'timestamp', 'type', 'value'])"
   ]
  },
  {
   "cell_type": "code",
   "execution_count": null,
   "metadata": {},
   "outputs": [],
   "source": [
    "# 25 OH Vitamin D3 = 25 OH Vitamin B3\n",
    "lab_data = append('vd25', data, lab_data, ['25-Hydroxy-Vitamin D3', '25-OH-Vitamin D3', '25-OH-Vitamin D3 Se'])"
   ]
  },
  {
   "cell_type": "code",
   "execution_count": null,
   "metadata": {},
   "outputs": [],
   "source": [
    "# Base Excess = Basenüberschuss\n",
    "lab_data = append('be', data, lab_data, ['ABE', 'Base Excess', 'BasenÃ¼berschuÃ', 'SBE'])"
   ]
  },
  {
   "cell_type": "code",
   "execution_count": null,
   "metadata": {},
   "outputs": [],
   "source": [
    "# Antithrombin = Antithrombin\n",
    "lab_data = append('at', data, lab_data, ['AT3', 'Antithrombin', 'Antithrombin  AktivitÃ¤t'])"
   ]
  },
  {
   "cell_type": "code",
   "execution_count": null,
   "metadata": {},
   "outputs": [],
   "source": [
    "# Albumin = Albumin\n",
    "lab_data = append('alb', data, lab_data, ['Albumin', 'Albumin (HP)', 'Albumin HP', 'Albumin Se', 'Albumin i.Se'], ['g/l'])"
   ]
  },
  {
   "cell_type": "code",
   "execution_count": null,
   "metadata": {},
   "outputs": [],
   "source": [
    "# Alkaline Phosphatase = Alkalische Phosphatase\n",
    "lab_data = append('alp', data, lab_data, ['Alk. Phosphatase', 'Alk. Phosphatase (HP)', 'Alk.Phosphatase', 'Alk.Phosphatase HP', 'Alk.Phosphatase Se'])"
   ]
  },
  {
   "cell_type": "code",
   "execution_count": null,
   "metadata": {},
   "outputs": [],
   "source": [
    "# Ammonia = Ammoniak\n",
    "lab_data = append('nh3', data, lab_data, ['Ammoniak', 'Ammoniak (EDTA)', 'Ammoniak EDTA'])"
   ]
  },
  {
   "cell_type": "code",
   "execution_count": null,
   "metadata": {},
   "outputs": [],
   "source": [
    "# Amylase = Amylase\n",
    "lab_data = append('ams', data, lab_data, ['Amylase', 'Amylase HP', 'Amylase Se'], ['U/l'])"
   ]
  },
  {
   "cell_type": "code",
   "execution_count": null,
   "metadata": {},
   "outputs": [],
   "source": [
    "# Basophils Absolute = Basophile Absolut\n",
    "lab_data = append('baso', data, lab_data, ['Basophile absolut'])\n",
    "\n",
    "baso = data[(data['type'] == 'Basophile') & (data['unit'] == '/nl')]\n",
    "baso['type'] = 'baso'\n",
    "lab_data = pd.concat([lab_data, baso], ignore_index=True)"
   ]
  },
  {
   "cell_type": "code",
   "execution_count": null,
   "metadata": {},
   "outputs": [],
   "source": [
    "# Basophils Relative = Basophile Relativ\n",
    "lab_data = append('baso_rel', data, lab_data, ['Basophile %'])\n",
    "\n",
    "baso_rel = data[(data['type'] == 'Basophile') & (data['unit'] == '%')]\n",
    "baso_rel['type'] = 'baso_rel'\n",
    "lab_data = pd.concat([lab_data, baso_rel], ignore_index=True)"
   ]
  },
  {
   "cell_type": "code",
   "execution_count": null,
   "metadata": {},
   "outputs": [],
   "source": [
    "# Total Bilirubin = Gesamt Bilirubin\n",
    "lab_data = append('tbil', data, lab_data, ['Bilirubin', 'Bilirubin gesamt Se', 'Bilirubin, gesamt', 'Bilirubin, gesamt HP', 'Bilirubin, total', 'Bilirubin, total (HP)', 'tBil'], ['mg/dl', 'mg/dL'])"
   ]
  },
  {
   "cell_type": "code",
   "execution_count": null,
   "metadata": {},
   "outputs": [],
   "source": [
    "# Bilirubin Direct = Bilirubin Direkt\n",
    "lab_data = append('dbil', data, lab_data, ['Bilirubin direkt Se', 'Bilirubin, conjugiert', 'Bilirubin, direkt', 'Bilirubin, direkt (HP)', 'Bilirubin, direkt HP'])"
   ]
  },
  {
   "cell_type": "code",
   "execution_count": null,
   "metadata": {},
   "outputs": [],
   "source": [
    "# Bilirubin Indirect = Bilirubin Indirekt\n",
    "lab_data = append('ibil', data, lab_data, ['Bilirubin indirekt'])"
   ]
  },
  {
   "cell_type": "code",
   "execution_count": null,
   "metadata": {},
   "outputs": [],
   "source": [
    "# - = Potenzial von Wasserstoff\n",
    "lab_data = append('ph', data, lab_data, ['Blut-pH-Wert', 'pH', 'pH-Wert'])"
   ]
  },
  {
   "cell_type": "code",
   "execution_count": null,
   "metadata": {},
   "outputs": [],
   "source": [
    "# Creatine Kinase = Kreatin Kinase\n",
    "lab_data = append('ck', data, lab_data, ['CK', 'CK (HP)', 'Creatinkinase (CK)', 'Creatinkinase (CK) HP', 'Creatinkinase (CK) Se'])"
   ]
  },
  {
   "cell_type": "code",
   "execution_count": null,
   "metadata": {},
   "outputs": [],
   "source": [
    "# Creatine Kinase MB = Kreatin Kinase MB\n",
    "lab_data = append('ck_mb', data, lab_data, ['CK-MB', 'CK-MB (HP)', 'CK-MB HP', 'CK-MB Se'])"
   ]
  },
  {
   "cell_type": "code",
   "execution_count": null,
   "metadata": {},
   "outputs": [],
   "source": [
    "# Carboxyhemoglobin = Carboxyhämoglobin\n",
    "lab_data = append('cohb', data, lab_data, ['CO-Hb', 'COHb'])"
   ]
  },
  {
   "cell_type": "code",
   "execution_count": null,
   "metadata": {},
   "outputs": [],
   "source": [
    "# C Reactive Protein = C Reaktives Protein\n",
    "lab_data = append('crp', data, lab_data, ['CRP', 'CRP (HP)', 'CRP HP', 'CRP Se'], ['mg/l'])"
   ]
  },
  {
   "cell_type": "code",
   "execution_count": null,
   "metadata": {},
   "outputs": [],
   "source": [
    "# Calcium = Kalzium\n",
    "lab_data = append('ca', data, lab_data, ['Ca++', 'Calcium', 'Calcium (HP)', 'Calcium Se'], ['mmol/L', 'mmol/l'])"
   ]
  },
  {
   "cell_type": "code",
   "execution_count": null,
   "metadata": {},
   "outputs": [],
   "source": [
    "# Chloride = Chlorid\n",
    "lab_data = append('cl', data, lab_data, ['Chlorid', 'Chlorid (HP)', 'Chlorid Se', 'Cl-'])"
   ]
  },
  {
   "cell_type": "code",
   "execution_count": null,
   "metadata": {},
   "outputs": [],
   "source": [
    "# Total Cholesterol = Gesamt Cholesterin\n",
    "lab_data = append('tc', data, lab_data, ['Cholesterin', 'ges.Cholesterin', 'ges.Cholesterin HP', 'ges.Cholesterin Se'])"
   ]
  },
  {
   "cell_type": "code",
   "execution_count": null,
   "metadata": {},
   "outputs": [],
   "source": [
    "# Creatinine = Kreatinin\n",
    "lab_data = append('cr', data, lab_data, ['Creatinin', 'Creatinin (enz)', 'Creatinin (enzymat.)', 'Kreatinin', 'Kreatinin (JaffÃ©)', 'Kreatinin (JaffÃ©) (HP)', 'Kreatinin (JaffÃ©) HP', 'Kreatinin (JaffÃ©) Se', 'Kreatinin (enzym.)', 'Kreatinin (enzym.) HP', 'Kreatinin (enzym.) Se'], ['mg/dl'])"
   ]
  },
  {
   "cell_type": "code",
   "execution_count": null,
   "metadata": {},
   "outputs": [],
   "source": [
    "# Cystatin C = Cystatin C\n",
    "lab_data = append('cys_c', data, lab_data, ['Cystatin C', 'Cystatin C HP', 'Cystatin C Se'], ['mg/l'])"
   ]
  },
  {
   "cell_type": "code",
   "execution_count": null,
   "metadata": {},
   "outputs": [],
   "source": [
    "# D Dimer = D Dimere\n",
    "lab_data = append('d_dim', data, lab_data, ['D-Dimer', 'D-Dimere'])"
   ]
  },
  {
   "cell_type": "code",
   "execution_count": null,
   "metadata": {},
   "outputs": [],
   "source": [
    "# Iron = Eisen\n",
    "lab_data = append('fe', data, lab_data, ['Eisen', 'Eisen (HP)', 'Eisen Se'])"
   ]
  },
  {
   "cell_type": "code",
   "execution_count": null,
   "metadata": {},
   "outputs": [],
   "source": [
    "# Eosinophils = Eosinophile\n",
    "lab_data = append('eos', data, lab_data, ['Eosinophile absolut'])\n",
    "\n",
    "eos = data[(data['type'] == 'Eosinophile') & (data['unit'] == '/nl')]\n",
    "eos['type'] = 'eos'\n",
    "lab_data = pd.concat([lab_data, eos], ignore_index=True)"
   ]
  },
  {
   "cell_type": "code",
   "execution_count": null,
   "metadata": {},
   "outputs": [],
   "source": [
    "# Eosinophils Relative = Eosinophile Relativ\n",
    "lab_data = append('eos_rel', data, lab_data, ['Eosinophile %'])\n",
    "\n",
    "eos_rel = data[(data['type'] == 'Eosinophile') & (data['unit'] == '%')]\n",
    "eos_rel['type'] = 'eos_rel'\n",
    "lab_data = pd.concat([lab_data, eos_rel], ignore_index=True)"
   ]
  },
  {
   "cell_type": "code",
   "execution_count": null,
   "metadata": {},
   "outputs": [],
   "source": [
    "# Erythroblasts = Erythroblasten\n",
    "lab_data = append('ebl', data, lab_data, ['Erythroblasten absolut'])\n",
    "\n",
    "ebl = data[(data['type'] == 'Erythroblasten') & (data['unit'] == '/nl')]\n",
    "ebl['type'] = 'ebl'\n",
    "lab_data = pd.concat([lab_data, ebl], ignore_index=True)"
   ]
  },
  {
   "cell_type": "code",
   "execution_count": null,
   "metadata": {},
   "outputs": [],
   "source": [
    "# Erythroblasts Relative = Erythroblasten Relativ\n",
    "lab_data = append('ebl_rel', data, lab_data, ['Erythroblasten %'])\n",
    "\n",
    "ebl_rel = data[(data['type'] == 'Erythroblasten') & (data['unit'] == '%')]\n",
    "ebl_rel['type'] = 'ebl_rel'\n",
    "lab_data = pd.concat([lab_data, ebl_rel], ignore_index=True)"
   ]
  },
  {
   "cell_type": "code",
   "execution_count": null,
   "metadata": {},
   "outputs": [],
   "source": [
    "# Erythrocytes = Erythrozyten\n",
    "lab_data = append('rbc', data, lab_data, ['Erythrozyten'], ['/pl'])"
   ]
  },
  {
   "cell_type": "code",
   "execution_count": null,
   "metadata": {},
   "outputs": [],
   "source": [
    "# Fraction of Inspired Oxygen = Inspiratorische Sauerstofffraktion\n",
    "lab_data = append('fio2', data, lab_data, ['FIO2'])"
   ]
  },
  {
   "cell_type": "code",
   "execution_count": null,
   "metadata": {},
   "outputs": [],
   "source": [
    "# Ferritin = Ferritin\n",
    "lab_data = append('fer', data, lab_data, ['Ferritin', 'Ferritin HP', 'Ferritin SE', 'Ferritin Se'])"
   ]
  },
  {
   "cell_type": "code",
   "execution_count": null,
   "metadata": {},
   "outputs": [],
   "source": [
    "# Fibrinogen = Fibrinogen\n",
    "lab_data = append('fg', data, lab_data, ['Fibrinogen'], ['g/l'])"
   ]
  },
  {
   "cell_type": "code",
   "execution_count": null,
   "metadata": {},
   "outputs": [],
   "source": [
    "# Schistocytes = Fragmentozyten\n",
    "lab_data = append('schisto', data, lab_data, ['Fragmentozyten'], ['%'])"
   ]
  },
  {
   "cell_type": "code",
   "execution_count": null,
   "metadata": {},
   "outputs": [],
   "source": [
    "# Gamma Glutamyltransferase = Gamma Glutamyltransferase\n",
    "lab_data = append('ggt', data, lab_data, ['GGT', 'GGT (HP)', 'gamma-GT', 'gamma-GT HP', 'gamma-GT Se'])"
   ]
  },
  {
   "cell_type": "code",
   "execution_count": null,
   "metadata": {},
   "outputs": [],
   "source": [
    "# Glutamate Dehydrogenase = Glutamat Dehydrogenase\n",
    "lab_data = append('gdh', data, lab_data, ['GLDH', 'GLDH HP', 'GLDH Se'])"
   ]
  },
  {
   "cell_type": "code",
   "execution_count": null,
   "metadata": {},
   "outputs": [],
   "source": [
    "# Glucose = Glukose\n",
    "lab_data = append('glu', data, lab_data, ['GLU', 'Glu', 'Glucose', 'Glucose HP', 'Glucose Se'], ['mg/dl', 'mg/dL'])"
   ]
  },
  {
   "cell_type": "code",
   "execution_count": null,
   "metadata": {},
   "outputs": [],
   "source": [
    "# ASAT (GOT) = ASAT (GOT)\n",
    "lab_data = append('asat', data, lab_data, ['GOT (AST)', 'GOT (AST) (HP)', 'GOT (AST) HP', 'GOT (AST) Se'])"
   ]
  },
  {
   "cell_type": "code",
   "execution_count": null,
   "metadata": {},
   "outputs": [],
   "source": [
    "# ALAT (GPT) = ALAT (GPT)\n",
    "lab_data = append('alat', data, lab_data, ['GPT (ALT)', 'GPT (ALT) (HP)', 'GPT (ALT) HP', 'GPT (ALT) Se'])"
   ]
  },
  {
   "cell_type": "code",
   "execution_count": null,
   "metadata": {},
   "outputs": [],
   "source": [
    "# Bicarbonate = Bikarbonat\n",
    "lab_data = append('hco3', data, lab_data, ['HCO3-', 'SBC', 'Standard Bicarbonat', 'Standardbicarbonat', 'aktuelles Bicarbonat'])"
   ]
  },
  {
   "cell_type": "code",
   "execution_count": null,
   "metadata": {},
   "outputs": [],
   "source": [
    "# High Density Lipoprotein = HDL Cholesterin\n",
    "lab_data = append('hdl', data, lab_data, ['HDL-Cholesterin', 'HDL-Cholesterin HP', 'HDL-Cholesterin Se'])"
   ]
  },
  {
   "cell_type": "code",
   "execution_count": null,
   "metadata": {},
   "outputs": [],
   "source": [
    "# Deoxyhemoglobin = Desoxyhämoglobin\n",
    "lab_data = append('hhb', data, lab_data, ['HHb'])"
   ]
  },
  {
   "cell_type": "code",
   "execution_count": null,
   "metadata": {},
   "outputs": [],
   "source": [
    "# Haptoglobin = Haptoglobin\n",
    "lab_data = append('hp', data, lab_data, ['Haptoglobin', 'Haptoglobin HP', 'Haptoglobin Se'], ['g/l'])"
   ]
  },
  {
   "cell_type": "code",
   "execution_count": null,
   "metadata": {},
   "outputs": [],
   "source": [
    "# Urea = Harnstoff\n",
    "lab_data = append('urea', data, lab_data, ['Harnstoff', 'Harnstoff (HP)', 'Harnstoff HP', 'Harnstoff Se'], ['mg/dl'])"
   ]
  },
  {
   "cell_type": "code",
   "execution_count": null,
   "metadata": {},
   "outputs": [],
   "source": [
    "# Uric Acid = Harnsäure\n",
    "lab_data = append('ua', data, lab_data, ['HarnsÃ¤ure', 'HarnsÃ¤ure (HP)', 'HarnsÃ¤ure HP', 'HarnsÃ¤ure Se'], ['mg/dl'])"
   ]
  },
  {
   "cell_type": "code",
   "execution_count": null,
   "metadata": {},
   "outputs": [],
   "source": [
    "# Hemoglobin = Hämoglobin\n",
    "lab_data = append('hb', data, lab_data, ['Hb', 'HÃ¤moglobin', 'tHb'], ['g/dl', 'g/dL'])"
   ]
  },
  {
   "cell_type": "code",
   "execution_count": null,
   "metadata": {},
   "outputs": [],
   "source": [
    "# Glycated Hemoglobin = Glykosyliertes Hämoglobin\n",
    "lab_data = append('hba1c', data, lab_data, ['HbA1c', 'HbA1c (EDTA)'])"
   ]
  },
  {
   "cell_type": "code",
   "execution_count": null,
   "metadata": {},
   "outputs": [],
   "source": [
    "# Hematocrit = Hämatokrit\n",
    "lab_data = append('hct', data, lab_data, ['Hct', 'HÃ¤matokrit', 'HÃ¤matokrit (l/l)'], ['%'])"
   ]
  },
  {
   "cell_type": "code",
   "execution_count": null,
   "metadata": {},
   "outputs": [],
   "source": [
    "# I/T Ratio = I/T Quotient\n",
    "lab_data = append('it_ratio', data, lab_data, ['I/T Quotient maschinell'])"
   ]
  },
  {
   "cell_type": "code",
   "execution_count": null,
   "metadata": {},
   "outputs": [],
   "source": [
    "# International Normalized Ratio = International Normalized Ratio\n",
    "lab_data = append('inr', data, lab_data, ['INR', 'TPZ-INR'])"
   ]
  },
  {
   "cell_type": "code",
   "execution_count": null,
   "metadata": {},
   "outputs": [],
   "source": [
    "# Immature Platelet Fraction = Unreife Thrombozytenfraktion\n",
    "lab_data = append('ipf', data, lab_data, ['Immature PlÃ¤ttchenfraktion'])"
   ]
  },
  {
   "cell_type": "code",
   "execution_count": null,
   "metadata": {},
   "outputs": [],
   "source": [
    "# Immunoglobulin A = Immunoglobulin A\n",
    "lab_data = append('iga', data, lab_data, ['Immunglobulin A', 'Immunglobulin A HP', 'Immunglobulin A Se'], ['g/l'])"
   ]
  },
  {
   "cell_type": "code",
   "execution_count": null,
   "metadata": {},
   "outputs": [],
   "source": [
    "# Immunoglobulin E = Immunoglobulin E\n",
    "lab_data = append('ige', data, lab_data, ['Immunglobulin E', 'Immunglobulin E HP', 'Immunglobulin E Se'], ['kU/l'])"
   ]
  },
  {
   "cell_type": "code",
   "execution_count": null,
   "metadata": {},
   "outputs": [],
   "source": [
    "# Immunoglobulin G = Immunoglobulin G\n",
    "lab_data = append('igg', data, lab_data, ['Immunglobulin G', 'Immunglobulin G HP', 'Immunglobulin G Se'], ['g/l'])"
   ]
  },
  {
   "cell_type": "code",
   "execution_count": null,
   "metadata": {},
   "outputs": [],
   "source": [
    "# Immunoglobulin M = Immunoglobulin M\n",
    "lab_data = append('igm', data, lab_data, ['Immunglobulin M', 'Immunglobulin M HP', 'Immunglobulin M Se'], ['g/l'])"
   ]
  },
  {
   "cell_type": "code",
   "execution_count": null,
   "metadata": {},
   "outputs": [],
   "source": [
    "# Potassium = Kalium\n",
    "lab_data = append('k', data, lab_data, ['K+', 'Kalium', 'Kalium HP', 'Kalium Se'], ['mmol/L', 'mmol/l'])"
   ]
  },
  {
   "cell_type": "code",
   "execution_count": null,
   "metadata": {},
   "outputs": [],
   "source": [
    "# Lactate Dehydrogenase = Laktatdehydrogenase\n",
    "lab_data = append('ldh', data, lab_data, ['LDH', 'LDH (HP)', 'LDH HP', 'LDH Se'])"
   ]
  },
  {
   "cell_type": "code",
   "execution_count": null,
   "metadata": {},
   "outputs": [],
   "source": [
    "# Low Density Lipoprotein = LDL Cholesterin\n",
    "lab_data = append('ldl', data, lab_data, ['LDL-Cholesterin', 'LDL-Cholesterin HP', 'LDL-Cholesterin Se'])"
   ]
  },
  {
   "cell_type": "code",
   "execution_count": null,
   "metadata": {},
   "outputs": [],
   "source": [
    "# Lactate = Laktat\n",
    "lab_data = append('lac', data, lab_data, ['Lac', 'Lactat', 'Laktat'])"
   ]
  },
  {
   "cell_type": "code",
   "execution_count": null,
   "metadata": {},
   "outputs": [],
   "source": [
    "# Leukocytes = Leukozyten\n",
    "lab_data = append('wbc', data, lab_data, ['Leukozyten'], ['/nl'])"
   ]
  },
  {
   "cell_type": "code",
   "execution_count": null,
   "metadata": {},
   "outputs": [],
   "source": [
    "# Lipase = Lipase\n",
    "lab_data = append('lps', data, lab_data, ['Lipase', 'Lipase (HP)', 'Lipase HP', 'Lipase Se'])"
   ]
  },
  {
   "cell_type": "code",
   "execution_count": null,
   "metadata": {},
   "outputs": [],
   "source": [
    "# Lymphocytes = Lymphocytes\n",
    "lab_data = append('lym', data, lab_data, ['Lymphozyten abs.', 'Lymphozyten absolut'], ['/nl'])\n",
    "\n",
    "lym = data[(data['type'] == 'Lymphozyten') & (data['unit'] == '/nl')]\n",
    "lym['type'] = 'lym'\n",
    "lab_data = pd.concat([lab_data, lym], ignore_index=True)"
   ]
  },
  {
   "cell_type": "code",
   "execution_count": null,
   "metadata": {},
   "outputs": [],
   "source": [
    "# Lymphocytes Relative = Lymphocytes Relativ\n",
    "lab_data = append('lym_rel', data, lab_data, ['Lymphozyten %', 'Lymphozyten rel.'])\n",
    "\n",
    "lym_rel = data[(data['type'] == 'Lymphozyten') & (data['unit'] == '%')]\n",
    "lym_rel['type'] = 'lym_rel'\n",
    "lab_data = pd.concat([lab_data, lym_rel], ignore_index=True)"
   ]
  },
  {
   "cell_type": "code",
   "execution_count": null,
   "metadata": {},
   "outputs": [],
   "source": [
    "# Mean Corpuscular Hemoglobin = Mittleres Korpuskulares Hämoglobin\n",
    "lab_data = append('mch', data, lab_data, ['MCH'])"
   ]
  },
  {
   "cell_type": "code",
   "execution_count": null,
   "metadata": {},
   "outputs": [],
   "source": [
    "# Mean Corpuscular Hemoglobin Concentration = Mittlere Korpusukuläre Hämoglobin Konzentration\n",
    "lab_data = append('mchc', data, lab_data, ['MCHC'])"
   ]
  },
  {
   "cell_type": "code",
   "execution_count": null,
   "metadata": {},
   "outputs": [],
   "source": [
    "# Mean Corpuscular Volume = Mittleres Korpuskuläres Volumen\n",
    "lab_data = append('mcv', data, lab_data, ['MCV'])"
   ]
  },
  {
   "cell_type": "code",
   "execution_count": null,
   "metadata": {},
   "outputs": [],
   "source": [
    "# Mean Platelet Volume = Mittleres Thrombozytenvolumen\n",
    "lab_data = append('mpv', data, lab_data, ['MPV'])"
   ]
  },
  {
   "cell_type": "code",
   "execution_count": null,
   "metadata": {},
   "outputs": [],
   "source": [
    "# Magnesium = Magnesium\n",
    "lab_data = append('mg', data, lab_data, ['Magnesium', 'Magnesium (HP)', 'Magnesium Se'])"
   ]
  },
  {
   "cell_type": "code",
   "execution_count": null,
   "metadata": {},
   "outputs": [],
   "source": [
    "# Methemoglobin = Methämoglobin\n",
    "lab_data = append('methb', data, lab_data, ['MetHb'])"
   ]
  },
  {
   "cell_type": "code",
   "execution_count": null,
   "metadata": {},
   "outputs": [],
   "source": [
    "# Monocytes = Monocytes\n",
    "lab_data = append('mono', data, lab_data, ['Monozyten abs.', 'Monozyten absolut'])\n",
    "\n",
    "mono = data[(data['type'] == 'Monozyten') & (data['unit'] == '/nl')]\n",
    "mono['type'] = 'mono'\n",
    "lab_data = pd.concat([lab_data, mono], ignore_index=True)"
   ]
  },
  {
   "cell_type": "code",
   "execution_count": null,
   "metadata": {},
   "outputs": [],
   "source": [
    "# Monocytes Relative = Monocytes Relativ\n",
    "lab_data = append('mono_rel', data, lab_data, ['Monozyten %', 'Monozyten rel.'])\n",
    "\n",
    "mono_rel = data[(data['type'] == 'Monozyten') & (data['unit'] == '%')]\n",
    "mono_rel['type'] = 'mono_rel'\n",
    "lab_data = pd.concat([lab_data, mono_rel], ignore_index=True)"
   ]
  },
  {
   "cell_type": "code",
   "execution_count": null,
   "metadata": {},
   "outputs": [],
   "source": [
    "# Myelocytes = Myelozyten\n",
    "lab_data = append('myelo', data, lab_data, ['Myelozyten'])"
   ]
  },
  {
   "cell_type": "code",
   "execution_count": null,
   "metadata": {},
   "outputs": [],
   "source": [
    "# Myoglobin = Myoglobin\n",
    "lab_data = append('mb', data, lab_data, ['Myoglobin', 'Myoglobin HP', 'Myoglobin Se'], ['Âµg/l'])"
   ]
  },
  {
   "cell_type": "code",
   "execution_count": null,
   "metadata": {},
   "outputs": [],
   "source": [
    "# N Terminal Pro B Type Natriuretic Peptide = N Terminal Pro B Type Natriuretic Peptide\n",
    "lab_data = append('nt_probnp', data, lab_data, ['NT pro BNP', 'NT-pro BNP', 'NT-pro BNP (HP)'], ['ng/l'])"
   ]
  },
  {
   "cell_type": "code",
   "execution_count": null,
   "metadata": {},
   "outputs": [],
   "source": [
    "# Sodium = Natrium\n",
    "lab_data = append('na', data, lab_data, ['Na+', 'Natrium', 'Natrium HP', 'Natrium Se'], ['mmol/L', 'mmol/l'])"
   ]
  },
  {
   "cell_type": "code",
   "execution_count": null,
   "metadata": {},
   "outputs": [],
   "source": [
    "# Neutrophils = Neutrophile\n",
    "lab_data = append('pmn', data, lab_data, ['Neutrophile absolut'])\n",
    "\n",
    "pmn = data[(data['type'] == 'Neutrophile') & (data['unit'] == '/nl')]\n",
    "pmn['type'] = 'pmn'\n",
    "lab_data = pd.concat([lab_data, pmn], ignore_index=True)"
   ]
  },
  {
   "cell_type": "code",
   "execution_count": null,
   "metadata": {},
   "outputs": [],
   "source": [
    "# Neutrophils Relative = Neutrophile Relativ\n",
    "lab_data = append('pmn_rel', data, lab_data, ['Neutrophile %'])\n",
    "\n",
    "pmn_rel = data[(data['type'] == 'Neutrophile') & (data['unit'] == '%')]\n",
    "pmn_rel['type'] = 'pmn_rel'\n",
    "lab_data = pd.concat([lab_data, pmn_rel], ignore_index=True)"
   ]
  },
  {
   "cell_type": "code",
   "execution_count": null,
   "metadata": {},
   "outputs": [],
   "source": [
    "# Oxygen Saturation = Sauerstoffsättigung\n",
    "lab_data = append('so2', data, lab_data, ['O2-SÃ¤ttigung', 'sO2'])"
   ]
  },
  {
   "cell_type": "code",
   "execution_count": null,
   "metadata": {},
   "outputs": [],
   "source": [
    "# Oxyhemoglobin = Oxyhämoglobin\n",
    "lab_data = append('o2hb', data, lab_data, ['O2Hb'])"
   ]
  },
  {
   "cell_type": "code",
   "execution_count": null,
   "metadata": {},
   "outputs": [],
   "source": [
    "# Phosphorus = Phosphor\n",
    "lab_data = append('p', data, lab_data, ['Phosphor, anorg.'], ['mmol/l'])"
   ]
  },
  {
   "cell_type": "code",
   "execution_count": null,
   "metadata": {},
   "outputs": [],
   "source": [
    "# Procalcitonin = Procalcitonin\n",
    "lab_data = append('pct', data, lab_data, ['Procalcitonin', 'Procalcitonin (HP)', 'Procalcitonin HP', 'Procalcitonin Se'])"
   ]
  },
  {
   "cell_type": "code",
   "execution_count": null,
   "metadata": {},
   "outputs": [],
   "source": [
    "# Protein = Protein\n",
    "lab_data = append('pro', data, lab_data, ['Protein', 'Protein HP'], ['g/l'])"
   ]
  },
  {
   "cell_type": "code",
   "execution_count": null,
   "metadata": {},
   "outputs": [],
   "source": [
    "# Pseudocholinesterase = Pseudocholinesterase\n",
    "lab_data = append('pche', data, lab_data, ['PCHE', 'PCHE (HP)', 'Pseudo-Cholinesterase', 'Pseudo-Cholinesterase HP', 'Pseudo-Cholinesterase Se'])"
   ]
  },
  {
   "cell_type": "code",
   "execution_count": null,
   "metadata": {},
   "outputs": [],
   "source": [
    "# Quick Value = Quick Wert\n",
    "lab_data = append('quick', data, lab_data, ['Quick (TPZ)'])"
   ]
  },
  {
   "cell_type": "code",
   "execution_count": null,
   "metadata": {},
   "outputs": [],
   "source": [
    "# Red Cell Distribution Width = Erythrozytenverteilungsbreite\n",
    "lab_data = append('rdw', data, lab_data, ['RDW', 'RDW-CV'])"
   ]
  },
  {
   "cell_type": "code",
   "execution_count": null,
   "metadata": {},
   "outputs": [],
   "source": [
    "# Reticulocytes = Retikulozyten\n",
    "lab_data = append('rtic', data, lab_data, ['Retikulozyten'], ['/nl'])"
   ]
  },
  {
   "cell_type": "code",
   "execution_count": null,
   "metadata": {},
   "outputs": [],
   "source": [
    "# Temperature = Temperatur\n",
    "lab_data = append('t', data, lab_data, ['T', 'Temperatur'])"
   ]
  },
  {
   "cell_type": "code",
   "execution_count": null,
   "metadata": {},
   "outputs": [],
   "source": [
    "# Prothrombin Time = Thromboplastinzeit\n",
    "lab_data = append('pt', data, lab_data, ['TPZ-Wert'])"
   ]
  },
  {
   "cell_type": "code",
   "execution_count": null,
   "metadata": {},
   "outputs": [],
   "source": [
    "# Thyroid Stimulating Hormone = Schilddrüsenstimulierendes Hormon\n",
    "lab_data = append('tsh', data, lab_data, ['TSH', 'TSH bas.', 'TSH bas. Se', 'TSH bas. i.Se', 'TSH basal', 'TSH basal (HP)', 'TSH basal Se'])"
   ]
  },
  {
   "cell_type": "code",
   "execution_count": null,
   "metadata": {},
   "outputs": [],
   "source": [
    "# Platelets = Thrombozyten\n",
    "lab_data = append('plt', data, lab_data, ['Thrombozyten'])"
   ]
  },
  {
   "cell_type": "code",
   "execution_count": null,
   "metadata": {},
   "outputs": [],
   "source": [
    "# Transferrin = Transferrin\n",
    "lab_data = append('trans', data, lab_data, ['Transferrin', 'Transferrin HP', 'Transferrin Se'], ['g/l'])"
   ]
  },
  {
   "cell_type": "code",
   "execution_count": null,
   "metadata": {},
   "outputs": [],
   "source": [
    "# Transferrin Saturation = Transferrinsättigung\n",
    "lab_data = append('ts', data, lab_data, ['Transferrin-SÃ¤ttigung', 'Transferrin-SÃ¤ttigung HP', 'Transferrin-SÃ¤ttigung Se', 'TransferrinsÃ¤ttigung'])"
   ]
  },
  {
   "cell_type": "code",
   "execution_count": null,
   "metadata": {},
   "outputs": [],
   "source": [
    "# Total Triglycerides = Gesamt Triglyceride\n",
    "lab_data = append('tg', data, lab_data, ['Triglyceride', 'Triglyceride HP', 'Triglyceride Se'])"
   ]
  },
  {
   "cell_type": "code",
   "execution_count": null,
   "metadata": {},
   "outputs": [],
   "source": [
    "#   = Partielle Thromboplastinzeit\n",
    "lab_data = append('aptt', data, lab_data, ['aPTT'])"
   ]
  },
  {
   "cell_type": "code",
   "execution_count": null,
   "metadata": {},
   "outputs": [],
   "source": [
    "# Phosphate = Phosphat\n",
    "lab_data = append('po4', data, lab_data, ['anorg. PO4  HP', 'anorg. PO4  Se'])"
   ]
  },
  {
   "cell_type": "code",
   "execution_count": null,
   "metadata": {},
   "outputs": [],
   "source": [
    "# Carbon Dioxide Partial Pressure = Kohlendioxidpartialdruck\n",
    "lab_data = append('pco2', data, lab_data, ['pCO2'])"
   ]
  },
  {
   "cell_type": "code",
   "execution_count": null,
   "metadata": {},
   "outputs": [],
   "source": [
    "# Oxygen Partial Pressure = Sauerstoffpartialdruck\n",
    "lab_data = append('po2', data, lab_data, ['pO2'])"
   ]
  },
  {
   "cell_type": "code",
   "execution_count": null,
   "metadata": {},
   "outputs": [],
   "source": [
    "# Immature Granulocytes = Unreife Granulozyten\n",
    "lab_data = append('ig', data, lab_data, ['unreife Granulozyten absolut'])\n",
    "\n",
    "ig = data[(data['type'] == 'unreife Granulozyten') & (data['unit'] == '/nl')]\n",
    "ig['type'] = 'ig'\n",
    "lab_data = pd.concat([lab_data, ig], ignore_index=True)"
   ]
  },
  {
   "cell_type": "code",
   "execution_count": null,
   "metadata": {},
   "outputs": [],
   "source": [
    "# Immature Granulocytes Relative = Unreife Granulozyten Relativ\n",
    "lab_data = append('ig_rel', data, lab_data, ['unreife Granulozyten %'])\n",
    "\n",
    "ig_rel = data[(data['type'] == 'unreife Granulozyten') & (data['unit'] == '%')]\n",
    "ig_rel['type'] = 'immature_granulocytes_relative'\n",
    "lab_data = pd.concat([lab_data, ig_rel], ignore_index=True)"
   ]
  },
  {
   "cell_type": "markdown",
   "metadata": {},
   "source": [
    "# Clean"
   ]
  },
  {
   "cell_type": "code",
   "execution_count": null,
   "metadata": {},
   "outputs": [],
   "source": [
    "lab_data['value'] = lab_data['value'].apply(pd.to_numeric, errors='coerce')\n",
    "lab_data['value'] = lab_data['value'].astype(float)"
   ]
  },
  {
   "cell_type": "code",
   "execution_count": null,
   "metadata": {},
   "outputs": [],
   "source": [
    "# case_id\n",
    "lab_data['case'] = lab_data['case'].astype(int)\n",
    "\n",
    "# event_ts\n",
    "lab_data['timestamp'] = pd.to_datetime(lab_data['timestamp'])\n",
    "\n",
    "# type\n",
    "lab_data['type'] = lab_data['type'].astype(str)\n",
    "\n",
    "# drop unit column\n",
    "lab_data.drop(columns=['unit'], inplace=True)\n",
    "\n",
    "# drop nan\n",
    "lab_data.dropna(inplace=True)\n",
    "\n",
    "# drop duplicates\n",
    "lab_data.drop_duplicates(keep = 'first', inplace = True)\n",
    "\n",
    "# sort by event_ts\n",
    "lab_data.sort_values(by=['timestamp'], inplace=True)\n",
    "\n",
    "lab_data"
   ]
  },
  {
   "cell_type": "code",
   "execution_count": null,
   "metadata": {},
   "outputs": [],
   "source": [
    "# import \n",
    "included_cases = pd.read_csv('../4_cases/4_3_clean.csv')\n",
    "\n",
    "# drop all lab_data rows that are not in included_cases and print the number of deleted rows\n",
    "print('Length of lab data before: ' + str(len(lab_data)))\n",
    "print('Number of unique cases in lab data before: ' + str(lab_data['case'].nunique()))\n",
    "lab_data = lab_data[lab_data['case'].isin(included_cases['case'])]\n",
    "print('Length of lab data after: ' + str(len(lab_data)))\n",
    "print('Number of unique cases in lab data after: ' + str(lab_data['case'].nunique()))\n",
    "\n",
    "lab_data"
   ]
  },
  {
   "cell_type": "markdown",
   "metadata": {},
   "source": [
    "# Save"
   ]
  },
  {
   "cell_type": "code",
   "execution_count": null,
   "metadata": {},
   "outputs": [],
   "source": [
    "lab_data.to_csv('8_3_clean.csv', index=False)\n",
    "lab_data"
   ]
  },
  {
   "cell_type": "code",
   "execution_count": null,
   "metadata": {},
   "outputs": [],
   "source": [
    "types = lab_data.groupby('type').size()\n",
    "types.to_csv(f'8_4_types.csv', index = True)\n",
    "types"
   ]
  }
 ],
 "metadata": {
  "kernelspec": {
   "display_name": "base",
   "language": "python",
   "name": "python3"
  },
  "language_info": {
   "codemirror_mode": {
    "name": "ipython",
    "version": 3
   },
   "file_extension": ".py",
   "mimetype": "text/x-python",
   "name": "python",
   "nbconvert_exporter": "python",
   "pygments_lexer": "ipython3",
   "version": "3.9.7"
  },
  "orig_nbformat": 4
 },
 "nbformat": 4,
 "nbformat_minor": 2
}
