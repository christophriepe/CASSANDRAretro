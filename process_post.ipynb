{
 "cells": [
  {
   "attachments": {},
   "cell_type": "markdown",
   "metadata": {},
   "source": [
    "# Import"
   ]
  },
  {
   "cell_type": "code",
   "execution_count": null,
   "metadata": {},
   "outputs": [],
   "source": [
    "import pandas as pd\n",
    "from tqdm.notebook import tqdm"
   ]
  },
  {
   "attachments": {},
   "cell_type": "markdown",
   "metadata": {},
   "source": [
    "# Logic"
   ]
  },
  {
   "cell_type": "code",
   "execution_count": null,
   "metadata": {},
   "outputs": [],
   "source": [
    "stays: list[pd.DataFrame] = []\n",
    "icu_data: pd.DataFrame = pd.DataFrame(columns=['case', 'timestamp', 'type', 'value'])"
   ]
  },
  {
   "cell_type": "code",
   "execution_count": null,
   "metadata": {},
   "outputs": [],
   "source": [
    "def load(file_name: str, path: str = '7_1_raw_copra_5/', columns: list[str] = ['case', 'ward', 'admission_ts', 'discharge_ts', 'type', 'parameter', 'value', 'timestamp']) -> pd.DataFrame:\n",
    "    # load the data from the txt file.\n",
    "    data = pd.read_csv(path + file_name + '.txt', encoding = 'ISO-8859-1', sep = '|', header = None)\n",
    "\n",
    "    # remove the first column since it does not contain any useful information.\n",
    "    data.drop(columns = data.columns[0], axis=1, inplace=True)\n",
    "\n",
    "    # rename the columns to the given columns.\n",
    "    data.columns = columns\n",
    "\n",
    "    # extract the stays from the data.\n",
    "    new_stays = data[['case', 'ward', 'admission_ts', 'discharge_ts']]\n",
    "    data.drop(['ward', 'admission_ts', 'discharge_ts'], axis = 1, inplace = True)\n",
    "    stays.append(new_stays)\n",
    "\n",
    "    # return the data.\n",
    "    return data"
   ]
  },
  {
   "cell_type": "markdown",
   "metadata": {},
   "source": [
    "# Copra 5"
   ]
  },
  {
   "attachments": {},
   "cell_type": "markdown",
   "metadata": {},
   "source": [
    "## Numeric"
   ]
  },
  {
   "attachments": {},
   "cell_type": "markdown",
   "metadata": {},
   "source": [
    "### arterial_oxygen_saturation"
   ]
  },
  {
   "cell_type": "code",
   "execution_count": null,
   "metadata": {},
   "outputs": [],
   "source": [
    "data = load('arterial_oxygen_saturation')\n",
    "data"
   ]
  },
  {
   "cell_type": "code",
   "execution_count": null,
   "metadata": {},
   "outputs": [],
   "source": [
    "data.drop(['type', 'parameter'], axis=1, inplace=True)\n",
    "data['type'] = 'sao2'\n",
    "data"
   ]
  },
  {
   "cell_type": "code",
   "execution_count": null,
   "metadata": {},
   "outputs": [],
   "source": [
    "icu_data: pd.DataFrame = pd.concat([icu_data, data], ignore_index=True)\n",
    "icu_data"
   ]
  },
  {
   "attachments": {},
   "cell_type": "markdown",
   "metadata": {},
   "source": [
    "### blood_gas_analysis"
   ]
  },
  {
   "cell_type": "code",
   "execution_count": null,
   "metadata": {},
   "outputs": [],
   "source": [
    "columns = ['case', 'ward', 'admission_ts', 'discharge_ts', 'type', 'parameter', 'timestamp', 'value', 'value_2']\n",
    "data = load('blood_gas_analysis', columns = columns)\n",
    "data"
   ]
  },
  {
   "cell_type": "code",
   "execution_count": null,
   "metadata": {},
   "outputs": [],
   "source": [
    "data.drop(['type', 'value_2'], axis = 1, inplace = True)\n",
    "data"
   ]
  },
  {
   "cell_type": "code",
   "execution_count": null,
   "metadata": {},
   "outputs": [],
   "source": [
    "groups = data.groupby('parameter')\n",
    "for name, group in groups:\n",
    "    group.drop(['parameter'], axis = 1, inplace = True)\n",
    "\n",
    "    new_name: str = 'abg_'\n",
    "    if name == 'Calcium_ion': new_name += 'ca'\n",
    "    elif name == 'Glucose': new_name += 'glu'\n",
    "    elif name == 'HCO3': new_name += 'hco3'\n",
    "    elif name == 'Hb': new_name += 'thb'\n",
    "    elif name == 'Hkt': new_name += 'hct'\n",
    "    elif name == 'Kalium': new_name += 'k'\n",
    "    elif name == 'Laktat': new_name += 'lac'\n",
    "    elif name == 'Natrium': new_name += 'na'\n",
    "    elif name == 'SBE': new_name += 'sbe'\n",
    "    elif name == 'pCO2': new_name += 'pco2'\n",
    "    elif name == 'pH': new_name += 'ph'\n",
    "    elif name == 'pO2': new_name += 'po2'\n",
    "    elif name == 'sO2': new_name += 'so2'\n",
    "    else: continue\n",
    "\n",
    "    group['type'] = new_name\n",
    "\n",
    "    icu_data: pd.DataFrame = pd.concat([icu_data, group], ignore_index=True)\n",
    "\n",
    "icu_data"
   ]
  },
  {
   "attachments": {},
   "cell_type": "markdown",
   "metadata": {},
   "source": [
    "### blood_pressure"
   ]
  },
  {
   "cell_type": "code",
   "execution_count": null,
   "metadata": {},
   "outputs": [],
   "source": [
    "data = load('blood_pressure')\n",
    "data"
   ]
  },
  {
   "cell_type": "code",
   "execution_count": null,
   "metadata": {},
   "outputs": [],
   "source": [
    "data.drop(['type'], axis = 1, inplace = True)\n",
    "data"
   ]
  },
  {
   "cell_type": "code",
   "execution_count": null,
   "metadata": {},
   "outputs": [],
   "source": [
    "groups = data.groupby('parameter')\n",
    "for name, group in groups:\n",
    "    group.drop(['parameter'], axis = 1, inplace = True)\n",
    "\n",
    "    new_name: str = 'bp_'\n",
    "    if name == 'RRs': new_name += 'sys'\n",
    "    elif name == 'RRd': new_name += 'dia'\n",
    "    else: continue\n",
    "    \n",
    "    group['type'] = new_name\n",
    "\n",
    "    icu_data: pd.DataFrame = pd.concat([icu_data, group], ignore_index=True)\n",
    "\n",
    "icu_data"
   ]
  },
  {
   "attachments": {},
   "cell_type": "markdown",
   "metadata": {},
   "source": [
    "### central_venous_pressure"
   ]
  },
  {
   "cell_type": "code",
   "execution_count": null,
   "metadata": {},
   "outputs": [],
   "source": [
    "data = load('central_venous_pressure')\n",
    "data"
   ]
  },
  {
   "cell_type": "code",
   "execution_count": null,
   "metadata": {},
   "outputs": [],
   "source": [
    "data.drop(['type', 'parameter'], axis = 1, inplace = True)\n",
    "data['type'] = 'cvp'\n",
    "data"
   ]
  },
  {
   "cell_type": "code",
   "execution_count": null,
   "metadata": {},
   "outputs": [],
   "source": [
    "icu_data: pd.DataFrame = pd.concat([icu_data, data], ignore_index=True)\n",
    "icu_data"
   ]
  },
  {
   "attachments": {},
   "cell_type": "markdown",
   "metadata": {},
   "source": [
    "### drainage"
   ]
  },
  {
   "cell_type": "code",
   "execution_count": null,
   "metadata": {},
   "outputs": [],
   "source": [
    "data = load('drainage')\n",
    "data"
   ]
  },
  {
   "cell_type": "code",
   "execution_count": null,
   "metadata": {},
   "outputs": [],
   "source": [
    "data.drop(['parameter'], axis = 1, inplace = True)\n",
    "data['type'] = 'drainage'\n",
    "data"
   ]
  },
  {
   "cell_type": "code",
   "execution_count": null,
   "metadata": {},
   "outputs": [],
   "source": [
    "icu_data: pd.DataFrame = pd.concat([icu_data, data], ignore_index=True)\n",
    "icu_data"
   ]
  },
  {
   "attachments": {},
   "cell_type": "markdown",
   "metadata": {},
   "source": [
    "### fluid_intake"
   ]
  },
  {
   "cell_type": "code",
   "execution_count": null,
   "metadata": {},
   "outputs": [],
   "source": [
    "data = load('fluid_intake')\n",
    "data"
   ]
  },
  {
   "cell_type": "code",
   "execution_count": null,
   "metadata": {},
   "outputs": [],
   "source": [
    "data.drop(['parameter'], axis = 1, inplace = True)\n",
    "data['type'] = 'fluid_in'\n",
    "data"
   ]
  },
  {
   "cell_type": "code",
   "execution_count": null,
   "metadata": {},
   "outputs": [],
   "source": [
    "icu_data: pd.DataFrame = pd.concat([icu_data, data], ignore_index=True)\n",
    "icu_data"
   ]
  },
  {
   "attachments": {},
   "cell_type": "markdown",
   "metadata": {},
   "source": [
    "### fluid_output"
   ]
  },
  {
   "cell_type": "code",
   "execution_count": null,
   "metadata": {},
   "outputs": [],
   "source": [
    "data = load('fluid_output')\n",
    "data"
   ]
  },
  {
   "cell_type": "code",
   "execution_count": null,
   "metadata": {},
   "outputs": [],
   "source": [
    "data.drop(['parameter'], axis = 1, inplace = True)\n",
    "data['type'] = 'fluid_out'\n",
    "data"
   ]
  },
  {
   "cell_type": "code",
   "execution_count": null,
   "metadata": {},
   "outputs": [],
   "source": [
    "icu_data: pd.DataFrame = pd.concat([icu_data, data], ignore_index=True)\n",
    "icu_data"
   ]
  },
  {
   "attachments": {},
   "cell_type": "markdown",
   "metadata": {},
   "source": [
    "### heart_rate"
   ]
  },
  {
   "cell_type": "code",
   "execution_count": null,
   "metadata": {},
   "outputs": [],
   "source": [
    "data = load('heart_rate')\n",
    "data"
   ]
  },
  {
   "cell_type": "code",
   "execution_count": null,
   "metadata": {},
   "outputs": [],
   "source": [
    "data.drop(['type', 'parameter'], axis = 1, inplace = True)\n",
    "data['type'] = 'hr'\n",
    "data"
   ]
  },
  {
   "cell_type": "code",
   "execution_count": null,
   "metadata": {},
   "outputs": [],
   "source": [
    "icu_data: pd.DataFrame = pd.concat([icu_data, data], ignore_index=True)\n",
    "icu_data"
   ]
  },
  {
   "attachments": {},
   "cell_type": "markdown",
   "metadata": {},
   "source": [
    "### invasive_blood_pressure"
   ]
  },
  {
   "cell_type": "code",
   "execution_count": null,
   "metadata": {},
   "outputs": [],
   "source": [
    "data = load('invasive_blood_pressure')\n",
    "data"
   ]
  },
  {
   "cell_type": "code",
   "execution_count": null,
   "metadata": {},
   "outputs": [],
   "source": [
    "data.drop(['parameter'], axis = 1, inplace = True)\n",
    "data"
   ]
  },
  {
   "cell_type": "code",
   "execution_count": null,
   "metadata": {},
   "outputs": [],
   "source": [
    "groups = data.groupby('type')\n",
    "for name, group in groups:\n",
    "    new_name = 'bp_'\n",
    "    if name == 'P_sa_i': new_name += 'sys'\n",
    "    elif name == 'P_da_i': new_name += 'dia'\n",
    "    elif name == 'P_ma_i': new_name = 'map'\n",
    "    else: continue\n",
    "    \n",
    "    group['type'] = new_name\n",
    "\n",
    "    icu_data: pd.DataFrame = pd.concat([icu_data, group], ignore_index=True)\n",
    "\n",
    "icu_data"
   ]
  },
  {
   "attachments": {},
   "cell_type": "markdown",
   "metadata": {},
   "source": [
    "### pulmonary_artery_pressure\n"
   ]
  },
  {
   "cell_type": "code",
   "execution_count": null,
   "metadata": {},
   "outputs": [],
   "source": [
    "data = load('pulmonary_artery_pressure')\n",
    "data"
   ]
  },
  {
   "cell_type": "code",
   "execution_count": null,
   "metadata": {},
   "outputs": [],
   "source": [
    "data.drop(['parameter'], axis = 1, inplace = True)\n",
    "data['type'] = 'pap'\n",
    "data"
   ]
  },
  {
   "cell_type": "code",
   "execution_count": null,
   "metadata": {},
   "outputs": [],
   "source": [
    "icu_data: pd.DataFrame = pd.concat([icu_data, data], ignore_index=True)\n",
    "icu_data"
   ]
  },
  {
   "attachments": {},
   "cell_type": "markdown",
   "metadata": {},
   "source": [
    "### respiratory_rate"
   ]
  },
  {
   "cell_type": "code",
   "execution_count": null,
   "metadata": {},
   "outputs": [],
   "source": [
    "data = load('respiratory_rate')\n",
    "data"
   ]
  },
  {
   "cell_type": "code",
   "execution_count": null,
   "metadata": {},
   "outputs": [],
   "source": [
    "data.drop(['type', 'parameter'], axis = 1, inplace = True)\n",
    "data['type'] = 'rr'\n",
    "data"
   ]
  },
  {
   "cell_type": "code",
   "execution_count": null,
   "metadata": {},
   "outputs": [],
   "source": [
    "icu_data: pd.DataFrame = pd.concat([icu_data, data], ignore_index=True)\n",
    "icu_data"
   ]
  },
  {
   "attachments": {},
   "cell_type": "markdown",
   "metadata": {},
   "source": [
    "### score"
   ]
  },
  {
   "cell_type": "code",
   "execution_count": null,
   "metadata": {},
   "outputs": [],
   "source": [
    "columns = ['case', 'ward', 'admission_ts', 'discharge_ts', 'type', 'parameter', 'value', 'value_2', 'value_3', 'value_4', 'timestamp']\n",
    "data = load('score', columns=columns)\n",
    "data"
   ]
  },
  {
   "cell_type": "code",
   "execution_count": null,
   "metadata": {},
   "outputs": [],
   "source": [
    "data.drop(['parameter', 'value_2', 'value_3', 'value_4'], axis=1, inplace=True)\n",
    "data"
   ]
  },
  {
   "cell_type": "code",
   "execution_count": null,
   "metadata": {},
   "outputs": [],
   "source": [
    "groups = data.groupby('type')\n",
    "for name, group in groups:\n",
    "    new_name: str = ''\n",
    "    if name == 'DDS': new_name = 'dds'\n",
    "    elif name == 'Glasgow_Coma_Scale': new_name = 'gcs'\n",
    "    elif name == 'SAPS2': new_name = 'saps2'\n",
    "    elif name == 'SOFA': new_name = 'sofa'\n",
    "    elif name == 'TISS-28': new_name = 'tiss28'\n",
    "    else: continue\n",
    "\n",
    "    group['type'] = new_name\n",
    "\n",
    "    icu_data: pd.DataFrame = pd.concat([icu_data, group], ignore_index=True)\n",
    "\n",
    "icu_data"
   ]
  },
  {
   "attachments": {},
   "cell_type": "markdown",
   "metadata": {},
   "source": [
    "### temperature"
   ]
  },
  {
   "cell_type": "code",
   "execution_count": null,
   "metadata": {},
   "outputs": [],
   "source": [
    "data = load('temperature')\n",
    "data"
   ]
  },
  {
   "cell_type": "code",
   "execution_count": null,
   "metadata": {},
   "outputs": [],
   "source": [
    "data.drop(['parameter'], axis = 1, inplace = True)\n",
    "data['type'] = 't'\n",
    "data"
   ]
  },
  {
   "cell_type": "code",
   "execution_count": null,
   "metadata": {},
   "outputs": [],
   "source": [
    "icu_data: pd.DataFrame = pd.concat([icu_data, data], ignore_index=True)\n",
    "icu_data"
   ]
  },
  {
   "attachments": {},
   "cell_type": "markdown",
   "metadata": {},
   "source": [
    "## Natural Language"
   ]
  },
  {
   "cell_type": "code",
   "execution_count": null,
   "metadata": {},
   "outputs": [],
   "source": [
    "load('abdomen')"
   ]
  },
  {
   "cell_type": "code",
   "execution_count": null,
   "metadata": {},
   "outputs": [],
   "source": [
    "load('care_report')"
   ]
  },
  {
   "cell_type": "code",
   "execution_count": null,
   "metadata": {},
   "outputs": [],
   "source": [
    "load('central_nervous_system')"
   ]
  },
  {
   "cell_type": "code",
   "execution_count": null,
   "metadata": {},
   "outputs": [],
   "source": [
    "load('handover')"
   ]
  },
  {
   "cell_type": "code",
   "execution_count": null,
   "metadata": {},
   "outputs": [],
   "source": [
    "load('heart')"
   ]
  },
  {
   "cell_type": "code",
   "execution_count": null,
   "metadata": {},
   "outputs": [],
   "source": [
    "load('kidney')"
   ]
  },
  {
   "cell_type": "code",
   "execution_count": null,
   "metadata": {},
   "outputs": [],
   "source": [
    "load('medical_report')"
   ]
  },
  {
   "cell_type": "code",
   "execution_count": null,
   "metadata": {},
   "outputs": [],
   "source": [
    "load('order')"
   ]
  },
  {
   "cell_type": "code",
   "execution_count": null,
   "metadata": {},
   "outputs": [],
   "source": [
    "load('skin')"
   ]
  },
  {
   "cell_type": "code",
   "execution_count": null,
   "metadata": {},
   "outputs": [],
   "source": [
    "load('stool')"
   ]
  },
  {
   "attachments": {},
   "cell_type": "markdown",
   "metadata": {},
   "source": [
    "## Events"
   ]
  },
  {
   "cell_type": "code",
   "execution_count": null,
   "metadata": {},
   "outputs": [],
   "source": [
    "load('activity')"
   ]
  },
  {
   "attachments": {},
   "cell_type": "markdown",
   "metadata": {},
   "source": [
    "## Other"
   ]
  },
  {
   "cell_type": "code",
   "execution_count": null,
   "metadata": {},
   "outputs": [],
   "source": [
    "columns = ['case', 'ward', 'admission_ts', 'discharge_ts', 'type', 'parameter', 'value', 'value_2', 'value_3', 'timestamp']\n",
    "load('dialysis', columns=columns)"
   ]
  },
  {
   "cell_type": "code",
   "execution_count": null,
   "metadata": {},
   "outputs": [],
   "source": [
    "columns = ['case', 'ward', 'admission_ts', 'discharge_ts', 'type', 'parameter', 'value', 'value_2', 'value_3', 'value_4', 'timestamp']\n",
    "load('ventilation_dialysis_bar', columns=columns)"
   ]
  },
  {
   "attachments": {},
   "cell_type": "markdown",
   "metadata": {},
   "source": [
    "## Stays"
   ]
  },
  {
   "cell_type": "code",
   "execution_count": null,
   "metadata": {},
   "outputs": [],
   "source": [
    "# concat all stays to a dataframe.\n",
    "stays = pd.concat(stays, axis = 0)\n",
    "\n",
    "# remove all rows where at least one value is nan.\n",
    "stays.dropna(inplace = True)\n",
    "\n",
    "# remove all rows where at least one value is '\\N'.\n",
    "for column in stays.columns:\n",
    "    stays = stays[stays[column] != r'\\N']\n",
    "\n",
    "# convert columns to appropriate types.\n",
    "stays['case'] = stays['case'].astype(int)\n",
    "stays['ward'] = stays['ward'].astype(str)\n",
    "stays['admission_ts'] = pd.to_datetime(stays['admission_ts'])\n",
    "stays['discharge_ts'] = pd.to_datetime(stays['discharge_ts'])\n",
    "\n",
    "# drop all rows where case_id is 0.\n",
    "stays = stays[stays['case'] != 0]\n",
    "\n",
    "# drop duplicates.\n",
    "stays.drop_duplicates(inplace = True)\n",
    "\n",
    "# sort by 'admission_ts'.\n",
    "stays.sort_values(by = 'admission_ts', inplace = True)\n",
    "\n",
    "# save.\n",
    "stays.to_csv(f'7_4_stays.csv', index = False)\n",
    "stays"
   ]
  },
  {
   "cell_type": "markdown",
   "metadata": {},
   "source": [
    "# Copra 6"
   ]
  },
  {
   "cell_type": "markdown",
   "metadata": {},
   "source": [
    "## Vitals"
   ]
  },
  {
   "cell_type": "markdown",
   "metadata": {},
   "source": [
    "### Load"
   ]
  },
  {
   "cell_type": "code",
   "execution_count": null,
   "metadata": {},
   "outputs": [],
   "source": [
    "file: pd.ExcelFile = pd.ExcelFile('7_2_raw_copra_6/Studie-2023-02-Vitalparameter.xlsx')\n",
    "sheetNames: list[str] = file.sheet_names\n",
    "\n",
    "sheets: list[pd.DataFrame] = []\n",
    "for name in tqdm(sheetNames):\n",
    "    sheets.append(pd.read_excel(file, name))\n",
    "\n",
    "data: pd.DataFrame = pd.concat(sheets, ignore_index=True)\n",
    "data"
   ]
  },
  {
   "cell_type": "markdown",
   "metadata": {},
   "source": [
    "### Process"
   ]
  },
  {
   "cell_type": "code",
   "execution_count": null,
   "metadata": {},
   "outputs": [],
   "source": [
    "data.drop(columns=['MesswertEinheit'], inplace=True)\n",
    "\n",
    "data.rename(columns={\n",
    "    'Fallnummer': 'case',\n",
    "    'MesswerteDatum': 'timestamp',\n",
    "    'MesswerteTyp': 'type',\n",
    "    'Messwert': 'value'\n",
    "}, inplace=True)\n",
    "\n",
    "data['timestamp'] = pd.to_datetime(data['timestamp'], format='%Y%m%d%H%M%S')\n",
    "\n",
    "data"
   ]
  },
  {
   "cell_type": "markdown",
   "metadata": {},
   "source": [
    "### Save"
   ]
  },
  {
   "cell_type": "code",
   "execution_count": null,
   "metadata": {},
   "outputs": [],
   "source": [
    "groups = data.groupby('type')\n",
    "\n",
    "for name, group in tqdm(groups):\n",
    "    new_name: str = name\n",
    "\n",
    "    if name == 'Blutdruck Diastolisch': new_name = 'bp_dia'\n",
    "    elif name == 'Blutdruck Systolisch': new_name = 'bp_sys'\n",
    "    elif name == 'Puls': new_name = 'hr'\n",
    "    elif name == 'vital_AF': new_name = 'rr'\n",
    "    elif name == 'vital_HF': new_name = 'hr'\n",
    "    elif name == 'vital_SaO2': new_name = 'sao2'\n",
    "    elif name == 'vital_SaO2_2': new_name = 'sao2'\n",
    "    elif name == 'vital_T_K': new_name = 't'\n",
    "    elif name == 'vital_T_K2': new_name = 't'\n",
    "    elif name == 'vital_ZVD': new_name = 'cvp'\n",
    "    else: continue\n",
    "\n",
    "    group['type'] = new_name\n",
    "    icu_data: pd.DataFrame = pd.concat([icu_data, group], ignore_index=True)\n",
    "\n",
    "icu_data"
   ]
  },
  {
   "cell_type": "markdown",
   "metadata": {},
   "source": [
    "## ABG"
   ]
  },
  {
   "cell_type": "markdown",
   "metadata": {},
   "source": [
    "### Load"
   ]
  },
  {
   "cell_type": "code",
   "execution_count": null,
   "metadata": {},
   "outputs": [],
   "source": [
    "file: pd.ExcelFile = pd.ExcelFile('7_2_raw_copra_6/Studie-2023-13-BGAs.xlsx')\n",
    "sheetNames: list[str] = file.sheet_names\n",
    "\n",
    "sheets: list[pd.DataFrame] = []\n",
    "for name in tqdm(sheetNames):\n",
    "    sheets.append(pd.read_excel(file, name))\n",
    "\n",
    "data: pd.DataFrame = pd.concat(sheets, ignore_index=True)\n",
    "data"
   ]
  },
  {
   "cell_type": "markdown",
   "metadata": {},
   "source": [
    "### Process"
   ]
  },
  {
   "cell_type": "code",
   "execution_count": null,
   "metadata": {},
   "outputs": [],
   "source": [
    "data.drop(columns=['Einheit'], inplace=True)\n",
    "\n",
    "data.rename(columns={\n",
    "    'Fallnummer': 'case',\n",
    "    'Zeitpunkt': 'timestamp',\n",
    "    'Parameter': 'type',\n",
    "    'Wert': 'value'\n",
    "}, inplace=True)\n",
    "\n",
    "data['timestamp'] = pd.to_datetime(data['timestamp'], format='%Y-%m-%d %H:%M:%S.%f')\n",
    "\n",
    "data"
   ]
  },
  {
   "cell_type": "markdown",
   "metadata": {},
   "source": [
    "### Save"
   ]
  },
  {
   "cell_type": "code",
   "execution_count": null,
   "metadata": {},
   "outputs": [],
   "source": [
    "groups = data.groupby('type')\n",
    "\n",
    "for name, group in tqdm(groups):\n",
    "    new_name: str = name\n",
    "\n",
    "    new_name: str = 'abg_'\n",
    "    if name == 'ABE': new_name += 'abe'\n",
    "    elif name == 'COHb': new_name += 'cohb'\n",
    "    elif name == 'Ca++': new_name += 'ca'\n",
    "    elif name == 'Cl-': new_name += 'cl'\n",
    "    elif name == 'FIO2': new_name += 'fio2'\n",
    "    elif name == 'Glu': new_name += 'glu'\n",
    "    elif name == 'HCO3': new_name += 'hco3'\n",
    "    elif name == 'Hct': new_name += 'hct'\n",
    "    elif name == 'K+': new_name += 'k'\n",
    "    elif name == 'Lac': new_name += 'lac'\n",
    "    elif name == 'MetHb': new_name += 'methb'\n",
    "    elif name == 'Na+': new_name += 'na'\n",
    "    elif name == 'O2Hb': new_name += 'o2hb'\n",
    "    elif name == 'RHb': new_name += 'rhb' # reduced hemoglobin\n",
    "    elif name == 'SBE': new_name += 'sbe'\n",
    "    elif name == 'T': new_name += 't'\n",
    "    elif name == 'pCO2': new_name += 'pco2'\n",
    "    elif name == 'pH': new_name += 'ph'\n",
    "    elif name == 'pO2': new_name += 'po2'\n",
    "    elif name == 'sO2': new_name += 'so2'\n",
    "    elif name == 'tHb': new_name += 'thb'\n",
    "    else: continue\n",
    "\n",
    "    group['type'] = new_name\n",
    "    icu_data: pd.DataFrame = pd.concat([icu_data, group], ignore_index=True)\n",
    "\n",
    "icu_data"
   ]
  },
  {
   "cell_type": "markdown",
   "metadata": {},
   "source": [
    "## GCS"
   ]
  },
  {
   "cell_type": "markdown",
   "metadata": {},
   "source": [
    "### Load"
   ]
  },
  {
   "cell_type": "code",
   "execution_count": null,
   "metadata": {},
   "outputs": [],
   "source": [
    "file: pd.ExcelFile = pd.ExcelFile('7_2_raw_copra_6/Studie-2023-11-GCS.xlsx')\n",
    "sheetNames: list[str] = file.sheet_names\n",
    "\n",
    "sheets: list[pd.DataFrame] = []\n",
    "for name in tqdm(sheetNames):\n",
    "    sheets.append(pd.read_excel(file, name))\n",
    "\n",
    "data: pd.DataFrame = pd.concat(sheets, ignore_index=True)\n",
    "data"
   ]
  },
  {
   "cell_type": "markdown",
   "metadata": {},
   "source": [
    "### Process"
   ]
  },
  {
   "cell_type": "code",
   "execution_count": null,
   "metadata": {},
   "outputs": [],
   "source": [
    "data.rename(columns={\n",
    "    'Fallnummer': 'case',\n",
    "    'Datum': 'timestamp',\n",
    "    'Score': 'value'\n",
    "}, inplace=True)\n",
    "\n",
    "data['type'] = 'gcs'\n",
    "\n",
    "data['timestamp'] = pd.to_datetime(data['timestamp'], format='%Y-%m-%d %H:%M:%S.%f')\n",
    "\n",
    "data"
   ]
  },
  {
   "cell_type": "markdown",
   "metadata": {},
   "source": [
    "### Save"
   ]
  },
  {
   "cell_type": "code",
   "execution_count": null,
   "metadata": {},
   "outputs": [],
   "source": [
    "icu_data: pd.DataFrame = pd.concat([icu_data, data], ignore_index=True)\n",
    "icu_data"
   ]
  },
  {
   "cell_type": "markdown",
   "metadata": {},
   "source": [
    "## DDS"
   ]
  },
  {
   "cell_type": "markdown",
   "metadata": {},
   "source": [
    "### Load"
   ]
  },
  {
   "cell_type": "code",
   "execution_count": null,
   "metadata": {},
   "outputs": [],
   "source": [
    "file: pd.ExcelFile = pd.ExcelFile('7_2_raw_copra_6/Studie-2023-12-Deliriun Detection Score.xlsx')\n",
    "sheetNames: list[str] = file.sheet_names\n",
    "\n",
    "sheets: list[pd.DataFrame] = []\n",
    "for name in tqdm(sheetNames):\n",
    "    sheets.append(pd.read_excel(file, name))\n",
    "\n",
    "data: pd.DataFrame = pd.concat(sheets, ignore_index=True)\n",
    "data"
   ]
  },
  {
   "cell_type": "markdown",
   "metadata": {},
   "source": [
    "### Process"
   ]
  },
  {
   "cell_type": "code",
   "execution_count": null,
   "metadata": {},
   "outputs": [],
   "source": [
    "data.rename(columns={\n",
    "    'Fallnummer': 'case',\n",
    "    'Datum': 'timestamp',\n",
    "    'DDS': 'value'\n",
    "}, inplace=True)\n",
    "\n",
    "data['type'] = 'dds'\n",
    "\n",
    "data['timestamp'] = pd.to_datetime(data['timestamp'], format='%Y-%m-%d %H:%M:%S.%f')\n",
    "\n",
    "data"
   ]
  },
  {
   "cell_type": "markdown",
   "metadata": {},
   "source": [
    "### Save"
   ]
  },
  {
   "cell_type": "code",
   "execution_count": null,
   "metadata": {},
   "outputs": [],
   "source": [
    "icu_data: pd.DataFrame = pd.concat([icu_data, data], ignore_index=True)\n",
    "icu_data"
   ]
  },
  {
   "cell_type": "markdown",
   "metadata": {},
   "source": [
    "## TODO: SAPSII & TISS10"
   ]
  },
  {
   "cell_type": "markdown",
   "metadata": {},
   "source": [
    "### Load"
   ]
  },
  {
   "cell_type": "code",
   "execution_count": null,
   "metadata": {},
   "outputs": [],
   "source": [
    "file: pd.ExcelFile = pd.ExcelFile('7_2_raw_copra_6/Studie-2023-07-Scores-TISS-SAPSII.xlsx')\n",
    "sheetNames: list[str] = file.sheet_names\n",
    "\n",
    "sheets: list[pd.DataFrame] = []\n",
    "for name in tqdm(sheetNames):\n",
    "    sheets.append(pd.read_excel(file, name))\n",
    "\n",
    "data: pd.DataFrame = pd.concat(sheets, ignore_index=True)\n",
    "data"
   ]
  },
  {
   "cell_type": "code",
   "execution_count": null,
   "metadata": {},
   "outputs": [],
   "source": [
    "data.columns"
   ]
  },
  {
   "cell_type": "code",
   "execution_count": null,
   "metadata": {},
   "outputs": [],
   "source": [
    "data['SAPS2_VKrank']"
   ]
  },
  {
   "cell_type": "code",
   "execution_count": null,
   "metadata": {},
   "outputs": [],
   "source": []
  },
  {
   "cell_type": "code",
   "execution_count": null,
   "metadata": {},
   "outputs": [],
   "source": []
  },
  {
   "cell_type": "code",
   "execution_count": null,
   "metadata": {},
   "outputs": [],
   "source": []
  },
  {
   "cell_type": "code",
   "execution_count": null,
   "metadata": {},
   "outputs": [],
   "source": []
  },
  {
   "attachments": {},
   "cell_type": "markdown",
   "metadata": {},
   "source": [
    "# Process"
   ]
  },
  {
   "cell_type": "code",
   "execution_count": null,
   "metadata": {},
   "outputs": [],
   "source": [
    "icu_data['value'] = icu_data['value'].apply(pd.to_numeric, errors='coerce')\n",
    "icu_data['value'] = icu_data['value'].astype(float)"
   ]
  },
  {
   "cell_type": "code",
   "execution_count": null,
   "metadata": {},
   "outputs": [],
   "source": [
    "icu_data['case'] = icu_data['case'].apply(pd.to_numeric, errors='coerce')\n",
    "\n",
    "# drop nan\n",
    "icu_data.dropna(inplace=True)\n",
    "\n",
    "# convert\n",
    "icu_data['case'] = icu_data['case'].astype(int)\n",
    "icu_data['timestamp'] = pd.to_datetime(icu_data['timestamp'])\n",
    "icu_data['type'] = icu_data['type'].astype(str)\n",
    "\n",
    "# drop all rows where case_id is 0.\n",
    "icu_data = icu_data[icu_data['case'] != 0]\n",
    "\n",
    "# drop duplicates\n",
    "icu_data.drop_duplicates(keep = 'first', inplace = True)\n",
    "\n",
    "# sort by event_ts\n",
    "icu_data.sort_values(by=['timestamp'], inplace=True)\n",
    "\n",
    "icu_data"
   ]
  },
  {
   "cell_type": "code",
   "execution_count": null,
   "metadata": {},
   "outputs": [],
   "source": [
    "# import \n",
    "included_cases = pd.read_csv('../4_cases/4_3_clean.csv')\n",
    "\n",
    "# drop all masterData rows that are not in included_cases and print the number of deleted rows\n",
    "print('Length of masterData before: ' + str(len(icu_data)))\n",
    "print('Number of cases before: ' + str(icu_data['case'].nunique()))\n",
    "icu_data = icu_data[icu_data['case'].isin(included_cases['case'])]\n",
    "print('Length of masterData after: ' + str(len(icu_data)))\n",
    "print('Number of cases after: ' + str(icu_data['case'].nunique()))\n",
    "\n",
    "icu_data"
   ]
  },
  {
   "attachments": {},
   "cell_type": "markdown",
   "metadata": {},
   "source": [
    "# Save"
   ]
  },
  {
   "cell_type": "code",
   "execution_count": null,
   "metadata": {},
   "outputs": [],
   "source": [
    "icu_data.to_csv('7_5_clean.csv', index=False)\n",
    "icu_data"
   ]
  },
  {
   "cell_type": "code",
   "execution_count": null,
   "metadata": {},
   "outputs": [],
   "source": [
    "types = icu_data.groupby('type').count()\n",
    "types.to_csv(f'7_6_types.csv')\n",
    "types"
   ]
  }
 ],
 "metadata": {
  "kernelspec": {
   "display_name": "base",
   "language": "python",
   "name": "python3"
  },
  "language_info": {
   "codemirror_mode": {
    "name": "ipython",
    "version": 3
   },
   "file_extension": ".py",
   "mimetype": "text/x-python",
   "name": "python",
   "nbconvert_exporter": "python",
   "pygments_lexer": "ipython3",
   "version": "3.9.7"
  },
  "orig_nbformat": 4
 },
 "nbformat": 4,
 "nbformat_minor": 2
}
